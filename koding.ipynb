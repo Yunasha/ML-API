{
 "cells": [
  {
   "cell_type": "code",
   "execution_count": 52,
   "id": "08f4c588",
   "metadata": {},
   "outputs": [],
   "source": [
    "import pandas, numpy, indo_processor\n",
    "from sklearn.feature_extraction.text import TfidfVectorizer\n",
    "from sklearn.model_selection import train_test_split\n",
    "from sklearn.linear_model import LogisticRegression\n",
    "from sklearn.metrics import classification_report, accuracy_score\n",
    "import joblib"
   ]
  },
  {
   "cell_type": "code",
   "execution_count": 2,
   "id": "a0b5b044",
   "metadata": {},
   "outputs": [
    {
     "data": {
      "application/vnd.microsoft.datawrangler.viewer.v0+json": {
       "columns": [
        {
         "name": "index",
         "rawType": "int64",
         "type": "integer"
        },
        {
         "name": "itemId",
         "rawType": "int64",
         "type": "integer"
        },
        {
         "name": "category",
         "rawType": "object",
         "type": "string"
        },
        {
         "name": "name",
         "rawType": "object",
         "type": "string"
        },
        {
         "name": "rating",
         "rawType": "int64",
         "type": "integer"
        },
        {
         "name": "originalRating",
         "rawType": "float64",
         "type": "float"
        },
        {
         "name": "reviewTitle",
         "rawType": "object",
         "type": "unknown"
        },
        {
         "name": "reviewContent",
         "rawType": "object",
         "type": "unknown"
        },
        {
         "name": "likeCount",
         "rawType": "int64",
         "type": "integer"
        },
        {
         "name": "upVotes",
         "rawType": "int64",
         "type": "integer"
        },
        {
         "name": "downVotes",
         "rawType": "int64",
         "type": "integer"
        },
        {
         "name": "helpful",
         "rawType": "bool",
         "type": "boolean"
        },
        {
         "name": "relevanceScore",
         "rawType": "float64",
         "type": "float"
        },
        {
         "name": "boughtDate",
         "rawType": "object",
         "type": "string"
        },
        {
         "name": "clientType",
         "rawType": "object",
         "type": "string"
        },
        {
         "name": "retrievedDate",
         "rawType": "object",
         "type": "string"
        }
       ],
       "conversionMethod": "pd.DataFrame",
       "ref": "845aa488-c0a8-4ed0-b444-9d4a044ac3db",
       "rows": [
        [
         "0",
         "100002528",
         "beli-harddisk-eksternal",
         "Kamal U.",
         "5",
         null,
         null,
         "bagus  mantap dah sesui pesanan",
         "0",
         "0",
         "0",
         "True",
         "26.51",
         "09 Apr 2019",
         "androidApp",
         "2019-10-02"
        ],
        [
         "1",
         "100002528",
         "beli-harddisk-eksternal",
         "yofanca m.",
         "4",
         null,
         null,
         "Bagus, sesuai foto",
         "0",
         "0",
         "0",
         "True",
         "22.49",
         "24 Sep 2017",
         "androidApp",
         "2019-10-02"
        ],
        [
         "2",
         "100002528",
         "beli-harddisk-eksternal",
         "Lazada Customer",
         "5",
         null,
         "ok mantaaapppp barang sesuai pesanan.. good",
         "okkkkk mantaaaaaaapppp ... goood",
         "0",
         "0",
         "0",
         "True",
         "21.5",
         "04 Apr 2018",
         "androidApp",
         "2019-10-02"
        ],
        [
         "3",
         "100002528",
         "beli-harddisk-eksternal",
         "Lazada Customer",
         "4",
         null,
         null,
         "bagus sesuai",
         "0",
         "0",
         "0",
         "True",
         "20.51",
         "22 Sep 2017",
         "androidApp",
         "2019-10-02"
        ],
        [
         "4",
         "100002528",
         "beli-harddisk-eksternal",
         "Yosep M.",
         "5",
         null,
         null,
         null,
         "0",
         "0",
         "0",
         "True",
         "16.01",
         "17 Agu 2018",
         "androidApp",
         "2019-10-02"
        ]
       ],
       "shape": {
        "columns": 15,
        "rows": 5
       }
      },
      "text/html": [
       "<div>\n",
       "<style scoped>\n",
       "    .dataframe tbody tr th:only-of-type {\n",
       "        vertical-align: middle;\n",
       "    }\n",
       "\n",
       "    .dataframe tbody tr th {\n",
       "        vertical-align: top;\n",
       "    }\n",
       "\n",
       "    .dataframe thead th {\n",
       "        text-align: right;\n",
       "    }\n",
       "</style>\n",
       "<table border=\"1\" class=\"dataframe\">\n",
       "  <thead>\n",
       "    <tr style=\"text-align: right;\">\n",
       "      <th></th>\n",
       "      <th>itemId</th>\n",
       "      <th>category</th>\n",
       "      <th>name</th>\n",
       "      <th>rating</th>\n",
       "      <th>originalRating</th>\n",
       "      <th>reviewTitle</th>\n",
       "      <th>reviewContent</th>\n",
       "      <th>likeCount</th>\n",
       "      <th>upVotes</th>\n",
       "      <th>downVotes</th>\n",
       "      <th>helpful</th>\n",
       "      <th>relevanceScore</th>\n",
       "      <th>boughtDate</th>\n",
       "      <th>clientType</th>\n",
       "      <th>retrievedDate</th>\n",
       "    </tr>\n",
       "  </thead>\n",
       "  <tbody>\n",
       "    <tr>\n",
       "      <th>0</th>\n",
       "      <td>100002528</td>\n",
       "      <td>beli-harddisk-eksternal</td>\n",
       "      <td>Kamal U.</td>\n",
       "      <td>5</td>\n",
       "      <td>NaN</td>\n",
       "      <td>NaN</td>\n",
       "      <td>bagus  mantap dah sesui pesanan</td>\n",
       "      <td>0</td>\n",
       "      <td>0</td>\n",
       "      <td>0</td>\n",
       "      <td>True</td>\n",
       "      <td>26.51</td>\n",
       "      <td>09 Apr 2019</td>\n",
       "      <td>androidApp</td>\n",
       "      <td>2019-10-02</td>\n",
       "    </tr>\n",
       "    <tr>\n",
       "      <th>1</th>\n",
       "      <td>100002528</td>\n",
       "      <td>beli-harddisk-eksternal</td>\n",
       "      <td>yofanca m.</td>\n",
       "      <td>4</td>\n",
       "      <td>NaN</td>\n",
       "      <td>NaN</td>\n",
       "      <td>Bagus, sesuai foto</td>\n",
       "      <td>0</td>\n",
       "      <td>0</td>\n",
       "      <td>0</td>\n",
       "      <td>True</td>\n",
       "      <td>22.49</td>\n",
       "      <td>24 Sep 2017</td>\n",
       "      <td>androidApp</td>\n",
       "      <td>2019-10-02</td>\n",
       "    </tr>\n",
       "    <tr>\n",
       "      <th>2</th>\n",
       "      <td>100002528</td>\n",
       "      <td>beli-harddisk-eksternal</td>\n",
       "      <td>Lazada Customer</td>\n",
       "      <td>5</td>\n",
       "      <td>NaN</td>\n",
       "      <td>ok mantaaapppp barang sesuai pesanan.. good</td>\n",
       "      <td>okkkkk mantaaaaaaapppp ... goood</td>\n",
       "      <td>0</td>\n",
       "      <td>0</td>\n",
       "      <td>0</td>\n",
       "      <td>True</td>\n",
       "      <td>21.50</td>\n",
       "      <td>04 Apr 2018</td>\n",
       "      <td>androidApp</td>\n",
       "      <td>2019-10-02</td>\n",
       "    </tr>\n",
       "    <tr>\n",
       "      <th>3</th>\n",
       "      <td>100002528</td>\n",
       "      <td>beli-harddisk-eksternal</td>\n",
       "      <td>Lazada Customer</td>\n",
       "      <td>4</td>\n",
       "      <td>NaN</td>\n",
       "      <td>NaN</td>\n",
       "      <td>bagus sesuai</td>\n",
       "      <td>0</td>\n",
       "      <td>0</td>\n",
       "      <td>0</td>\n",
       "      <td>True</td>\n",
       "      <td>20.51</td>\n",
       "      <td>22 Sep 2017</td>\n",
       "      <td>androidApp</td>\n",
       "      <td>2019-10-02</td>\n",
       "    </tr>\n",
       "    <tr>\n",
       "      <th>4</th>\n",
       "      <td>100002528</td>\n",
       "      <td>beli-harddisk-eksternal</td>\n",
       "      <td>Yosep M.</td>\n",
       "      <td>5</td>\n",
       "      <td>NaN</td>\n",
       "      <td>NaN</td>\n",
       "      <td>NaN</td>\n",
       "      <td>0</td>\n",
       "      <td>0</td>\n",
       "      <td>0</td>\n",
       "      <td>True</td>\n",
       "      <td>16.01</td>\n",
       "      <td>17 Agu 2018</td>\n",
       "      <td>androidApp</td>\n",
       "      <td>2019-10-02</td>\n",
       "    </tr>\n",
       "  </tbody>\n",
       "</table>\n",
       "</div>"
      ],
      "text/plain": [
       "      itemId                 category             name  rating  \\\n",
       "0  100002528  beli-harddisk-eksternal         Kamal U.       5   \n",
       "1  100002528  beli-harddisk-eksternal       yofanca m.       4   \n",
       "2  100002528  beli-harddisk-eksternal  Lazada Customer       5   \n",
       "3  100002528  beli-harddisk-eksternal  Lazada Customer       4   \n",
       "4  100002528  beli-harddisk-eksternal         Yosep M.       5   \n",
       "\n",
       "   originalRating                                  reviewTitle  \\\n",
       "0             NaN                                          NaN   \n",
       "1             NaN                                          NaN   \n",
       "2             NaN  ok mantaaapppp barang sesuai pesanan.. good   \n",
       "3             NaN                                          NaN   \n",
       "4             NaN                                          NaN   \n",
       "\n",
       "                      reviewContent  likeCount  upVotes  downVotes  helpful  \\\n",
       "0   bagus  mantap dah sesui pesanan          0        0          0     True   \n",
       "1                Bagus, sesuai foto          0        0          0     True   \n",
       "2  okkkkk mantaaaaaaapppp ... goood          0        0          0     True   \n",
       "3                      bagus sesuai          0        0          0     True   \n",
       "4                               NaN          0        0          0     True   \n",
       "\n",
       "   relevanceScore   boughtDate  clientType retrievedDate  \n",
       "0           26.51  09 Apr 2019  androidApp    2019-10-02  \n",
       "1           22.49  24 Sep 2017  androidApp    2019-10-02  \n",
       "2           21.50  04 Apr 2018  androidApp    2019-10-02  \n",
       "3           20.51  22 Sep 2017  androidApp    2019-10-02  \n",
       "4           16.01  17 Agu 2018  androidApp    2019-10-02  "
      ]
     },
     "execution_count": 2,
     "metadata": {},
     "output_type": "execute_result"
    }
   ],
   "source": [
    "data = pandas.read_csv(r\"dataset\\20191002-reviews.csv\")\n",
    "\n",
    "data.head()"
   ]
  },
  {
   "cell_type": "code",
   "execution_count": 3,
   "id": "27f22835",
   "metadata": {},
   "outputs": [
    {
     "name": "stdout",
     "output_type": "stream",
     "text": [
      "<class 'pandas.core.frame.DataFrame'>\n",
      "RangeIndex: 203787 entries, 0 to 203786\n",
      "Data columns (total 15 columns):\n",
      " #   Column          Non-Null Count   Dtype  \n",
      "---  ------          --------------   -----  \n",
      " 0   itemId          203787 non-null  int64  \n",
      " 1   category        203787 non-null  object \n",
      " 2   name            203787 non-null  object \n",
      " 3   rating          203787 non-null  int64  \n",
      " 4   originalRating  8 non-null       float64\n",
      " 5   reviewTitle     23399 non-null   object \n",
      " 6   reviewContent   107029 non-null  object \n",
      " 7   likeCount       203787 non-null  int64  \n",
      " 8   upVotes         203787 non-null  int64  \n",
      " 9   downVotes       203787 non-null  int64  \n",
      " 10  helpful         203787 non-null  bool   \n",
      " 11  relevanceScore  203787 non-null  float64\n",
      " 12  boughtDate      196680 non-null  object \n",
      " 13  clientType      203787 non-null  object \n",
      " 14  retrievedDate   203787 non-null  object \n",
      "dtypes: bool(1), float64(2), int64(5), object(7)\n",
      "memory usage: 22.0+ MB\n"
     ]
    }
   ],
   "source": [
    "data.info()"
   ]
  },
  {
   "cell_type": "code",
   "execution_count": 4,
   "id": "f642ac60",
   "metadata": {},
   "outputs": [
    {
     "data": {
      "application/vnd.microsoft.datawrangler.viewer.v0+json": {
       "columns": [
        {
         "name": "index",
         "rawType": "object",
         "type": "string"
        },
        {
         "name": "itemId",
         "rawType": "float64",
         "type": "float"
        },
        {
         "name": "rating",
         "rawType": "float64",
         "type": "float"
        },
        {
         "name": "originalRating",
         "rawType": "float64",
         "type": "float"
        },
        {
         "name": "likeCount",
         "rawType": "float64",
         "type": "float"
        },
        {
         "name": "upVotes",
         "rawType": "float64",
         "type": "float"
        },
        {
         "name": "downVotes",
         "rawType": "float64",
         "type": "float"
        },
        {
         "name": "relevanceScore",
         "rawType": "float64",
         "type": "float"
        }
       ],
       "conversionMethod": "pd.DataFrame",
       "ref": "7a0a5761-99e2-4df7-9920-a4847bc28bb6",
       "rows": [
        [
         "count",
         "203787.0",
         "203787.0",
         "8.0",
         "203787.0",
         "203787.0",
         "203787.0",
         "203787.0"
        ],
        [
         "mean",
         "283647856.64786273",
         "4.603237694259202",
         "1.0",
         "0.6686344074940992",
         "0.6686344074940992",
         "0.16463758728476302",
         "25.097394190993526"
        ],
        [
         "std",
         "172620746.1329689",
         "0.9911644440681816",
         "0.0",
         "12.192433326593621",
         "12.192433326593621",
         "2.013272922615684",
         "9.602434437249387"
        ],
        [
         "min",
         "6068.0",
         "1.0",
         "1.0",
         "-1.0",
         "-1.0",
         "0.0",
         "0.96"
        ],
        [
         "25%",
         "160008566.0",
         "5.0",
         "1.0",
         "0.0",
         "0.0",
         "0.0",
         "18.01"
        ],
        [
         "50%",
         "354115963.0",
         "5.0",
         "1.0",
         "0.0",
         "0.0",
         "0.0",
         "23.51"
        ],
        [
         "75%",
         "414742098.0",
         "5.0",
         "1.0",
         "0.0",
         "0.0",
         "0.0",
         "29.67"
        ],
        [
         "max",
         "724216967.0",
         "5.0",
         "1.0",
         "1776.0",
         "1776.0",
         "111.0",
         "76.5"
        ]
       ],
       "shape": {
        "columns": 7,
        "rows": 8
       }
      },
      "text/html": [
       "<div>\n",
       "<style scoped>\n",
       "    .dataframe tbody tr th:only-of-type {\n",
       "        vertical-align: middle;\n",
       "    }\n",
       "\n",
       "    .dataframe tbody tr th {\n",
       "        vertical-align: top;\n",
       "    }\n",
       "\n",
       "    .dataframe thead th {\n",
       "        text-align: right;\n",
       "    }\n",
       "</style>\n",
       "<table border=\"1\" class=\"dataframe\">\n",
       "  <thead>\n",
       "    <tr style=\"text-align: right;\">\n",
       "      <th></th>\n",
       "      <th>itemId</th>\n",
       "      <th>rating</th>\n",
       "      <th>originalRating</th>\n",
       "      <th>likeCount</th>\n",
       "      <th>upVotes</th>\n",
       "      <th>downVotes</th>\n",
       "      <th>relevanceScore</th>\n",
       "    </tr>\n",
       "  </thead>\n",
       "  <tbody>\n",
       "    <tr>\n",
       "      <th>count</th>\n",
       "      <td>2.037870e+05</td>\n",
       "      <td>203787.000000</td>\n",
       "      <td>8.0</td>\n",
       "      <td>203787.000000</td>\n",
       "      <td>203787.000000</td>\n",
       "      <td>203787.000000</td>\n",
       "      <td>203787.000000</td>\n",
       "    </tr>\n",
       "    <tr>\n",
       "      <th>mean</th>\n",
       "      <td>2.836479e+08</td>\n",
       "      <td>4.603238</td>\n",
       "      <td>1.0</td>\n",
       "      <td>0.668634</td>\n",
       "      <td>0.668634</td>\n",
       "      <td>0.164638</td>\n",
       "      <td>25.097394</td>\n",
       "    </tr>\n",
       "    <tr>\n",
       "      <th>std</th>\n",
       "      <td>1.726207e+08</td>\n",
       "      <td>0.991164</td>\n",
       "      <td>0.0</td>\n",
       "      <td>12.192433</td>\n",
       "      <td>12.192433</td>\n",
       "      <td>2.013273</td>\n",
       "      <td>9.602434</td>\n",
       "    </tr>\n",
       "    <tr>\n",
       "      <th>min</th>\n",
       "      <td>6.068000e+03</td>\n",
       "      <td>1.000000</td>\n",
       "      <td>1.0</td>\n",
       "      <td>-1.000000</td>\n",
       "      <td>-1.000000</td>\n",
       "      <td>0.000000</td>\n",
       "      <td>0.960000</td>\n",
       "    </tr>\n",
       "    <tr>\n",
       "      <th>25%</th>\n",
       "      <td>1.600086e+08</td>\n",
       "      <td>5.000000</td>\n",
       "      <td>1.0</td>\n",
       "      <td>0.000000</td>\n",
       "      <td>0.000000</td>\n",
       "      <td>0.000000</td>\n",
       "      <td>18.010000</td>\n",
       "    </tr>\n",
       "    <tr>\n",
       "      <th>50%</th>\n",
       "      <td>3.541160e+08</td>\n",
       "      <td>5.000000</td>\n",
       "      <td>1.0</td>\n",
       "      <td>0.000000</td>\n",
       "      <td>0.000000</td>\n",
       "      <td>0.000000</td>\n",
       "      <td>23.510000</td>\n",
       "    </tr>\n",
       "    <tr>\n",
       "      <th>75%</th>\n",
       "      <td>4.147421e+08</td>\n",
       "      <td>5.000000</td>\n",
       "      <td>1.0</td>\n",
       "      <td>0.000000</td>\n",
       "      <td>0.000000</td>\n",
       "      <td>0.000000</td>\n",
       "      <td>29.670000</td>\n",
       "    </tr>\n",
       "    <tr>\n",
       "      <th>max</th>\n",
       "      <td>7.242170e+08</td>\n",
       "      <td>5.000000</td>\n",
       "      <td>1.0</td>\n",
       "      <td>1776.000000</td>\n",
       "      <td>1776.000000</td>\n",
       "      <td>111.000000</td>\n",
       "      <td>76.500000</td>\n",
       "    </tr>\n",
       "  </tbody>\n",
       "</table>\n",
       "</div>"
      ],
      "text/plain": [
       "             itemId         rating  originalRating      likeCount  \\\n",
       "count  2.037870e+05  203787.000000             8.0  203787.000000   \n",
       "mean   2.836479e+08       4.603238             1.0       0.668634   \n",
       "std    1.726207e+08       0.991164             0.0      12.192433   \n",
       "min    6.068000e+03       1.000000             1.0      -1.000000   \n",
       "25%    1.600086e+08       5.000000             1.0       0.000000   \n",
       "50%    3.541160e+08       5.000000             1.0       0.000000   \n",
       "75%    4.147421e+08       5.000000             1.0       0.000000   \n",
       "max    7.242170e+08       5.000000             1.0    1776.000000   \n",
       "\n",
       "             upVotes      downVotes  relevanceScore  \n",
       "count  203787.000000  203787.000000   203787.000000  \n",
       "mean        0.668634       0.164638       25.097394  \n",
       "std        12.192433       2.013273        9.602434  \n",
       "min        -1.000000       0.000000        0.960000  \n",
       "25%         0.000000       0.000000       18.010000  \n",
       "50%         0.000000       0.000000       23.510000  \n",
       "75%         0.000000       0.000000       29.670000  \n",
       "max      1776.000000     111.000000       76.500000  "
      ]
     },
     "execution_count": 4,
     "metadata": {},
     "output_type": "execute_result"
    }
   ],
   "source": [
    "data.describe()"
   ]
  },
  {
   "cell_type": "code",
   "execution_count": 5,
   "id": "3f906408",
   "metadata": {},
   "outputs": [
    {
     "data": {
      "application/vnd.microsoft.datawrangler.viewer.v0+json": {
       "columns": [
        {
         "name": "index",
         "rawType": "object",
         "type": "string"
        },
        {
         "name": "itemId",
         "rawType": "float64",
         "type": "float"
        },
        {
         "name": "rating",
         "rawType": "float64",
         "type": "float"
        }
       ],
       "conversionMethod": "pd.DataFrame",
       "ref": "cd617b7b-4bb1-4e62-bb8d-d998a19eb2d3",
       "rows": [
        [
         "count",
         "203787.0",
         "203787.0"
        ],
        [
         "mean",
         "283647856.64786273",
         "4.603237694259202"
        ],
        [
         "std",
         "172620746.1329689",
         "0.9911644440681816"
        ],
        [
         "min",
         "6068.0",
         "1.0"
        ],
        [
         "25%",
         "160008566.0",
         "5.0"
        ],
        [
         "50%",
         "354115963.0",
         "5.0"
        ],
        [
         "75%",
         "414742098.0",
         "5.0"
        ],
        [
         "max",
         "724216967.0",
         "5.0"
        ]
       ],
       "shape": {
        "columns": 2,
        "rows": 8
       }
      },
      "text/html": [
       "<div>\n",
       "<style scoped>\n",
       "    .dataframe tbody tr th:only-of-type {\n",
       "        vertical-align: middle;\n",
       "    }\n",
       "\n",
       "    .dataframe tbody tr th {\n",
       "        vertical-align: top;\n",
       "    }\n",
       "\n",
       "    .dataframe thead th {\n",
       "        text-align: right;\n",
       "    }\n",
       "</style>\n",
       "<table border=\"1\" class=\"dataframe\">\n",
       "  <thead>\n",
       "    <tr style=\"text-align: right;\">\n",
       "      <th></th>\n",
       "      <th>itemId</th>\n",
       "      <th>rating</th>\n",
       "    </tr>\n",
       "  </thead>\n",
       "  <tbody>\n",
       "    <tr>\n",
       "      <th>count</th>\n",
       "      <td>2.037870e+05</td>\n",
       "      <td>203787.000000</td>\n",
       "    </tr>\n",
       "    <tr>\n",
       "      <th>mean</th>\n",
       "      <td>2.836479e+08</td>\n",
       "      <td>4.603238</td>\n",
       "    </tr>\n",
       "    <tr>\n",
       "      <th>std</th>\n",
       "      <td>1.726207e+08</td>\n",
       "      <td>0.991164</td>\n",
       "    </tr>\n",
       "    <tr>\n",
       "      <th>min</th>\n",
       "      <td>6.068000e+03</td>\n",
       "      <td>1.000000</td>\n",
       "    </tr>\n",
       "    <tr>\n",
       "      <th>25%</th>\n",
       "      <td>1.600086e+08</td>\n",
       "      <td>5.000000</td>\n",
       "    </tr>\n",
       "    <tr>\n",
       "      <th>50%</th>\n",
       "      <td>3.541160e+08</td>\n",
       "      <td>5.000000</td>\n",
       "    </tr>\n",
       "    <tr>\n",
       "      <th>75%</th>\n",
       "      <td>4.147421e+08</td>\n",
       "      <td>5.000000</td>\n",
       "    </tr>\n",
       "    <tr>\n",
       "      <th>max</th>\n",
       "      <td>7.242170e+08</td>\n",
       "      <td>5.000000</td>\n",
       "    </tr>\n",
       "  </tbody>\n",
       "</table>\n",
       "</div>"
      ],
      "text/plain": [
       "             itemId         rating\n",
       "count  2.037870e+05  203787.000000\n",
       "mean   2.836479e+08       4.603238\n",
       "std    1.726207e+08       0.991164\n",
       "min    6.068000e+03       1.000000\n",
       "25%    1.600086e+08       5.000000\n",
       "50%    3.541160e+08       5.000000\n",
       "75%    4.147421e+08       5.000000\n",
       "max    7.242170e+08       5.000000"
      ]
     },
     "execution_count": 5,
     "metadata": {},
     "output_type": "execute_result"
    }
   ],
   "source": [
    "used_data = data[[\"itemId\", \"rating\", \"reviewContent\"]]\n",
    "\n",
    "used_data.describe()"
   ]
  },
  {
   "cell_type": "code",
   "execution_count": 6,
   "id": "ae92a3b4",
   "metadata": {},
   "outputs": [
    {
     "data": {
      "application/vnd.microsoft.datawrangler.viewer.v0+json": {
       "columns": [
        {
         "name": "index",
         "rawType": "int64",
         "type": "integer"
        },
        {
         "name": "itemId",
         "rawType": "int64",
         "type": "integer"
        },
        {
         "name": "rating",
         "rawType": "int64",
         "type": "integer"
        },
        {
         "name": "reviewContent",
         "rawType": "object",
         "type": "unknown"
        }
       ],
       "conversionMethod": "pd.DataFrame",
       "ref": "2e5036ae-b79b-47d0-94b7-cba8e3d9afc7",
       "rows": [
        [
         "0",
         "100002528",
         "5",
         "bagus  mantap dah sesui pesanan"
        ],
        [
         "1",
         "100002528",
         "4",
         "Bagus, sesuai foto"
        ],
        [
         "2",
         "100002528",
         "5",
         "okkkkk mantaaaaaaapppp ... goood"
        ],
        [
         "3",
         "100002528",
         "4",
         "bagus sesuai"
        ],
        [
         "4",
         "100002528",
         "5",
         null
        ],
        [
         "5",
         "100002528",
         "5",
         null
        ],
        [
         "6",
         "100002528",
         "5",
         null
        ],
        [
         "7",
         "100002528",
         "1",
         "bima"
        ],
        [
         "8",
         "100003785",
         "1",
         "baru 10 bulan layarnya dah bergaris"
        ],
        [
         "9",
         "100003785",
         "5",
         "Pesan rabu sore,minggu sore sampe,,barang sesuai specs mantab,tks lazada"
        ],
        [
         "10",
         "100003785",
         "5",
         null
        ],
        [
         "11",
         "100004132",
         "1",
         "Mau tanya ini cicilnya pake apa ya,cc bkn?"
        ],
        [
         "12",
         "100004132",
         "5",
         "Apakah TV. Tsb. Suda ada anti gores.."
        ],
        [
         "13",
         "100004505",
         "1",
         "Pengirim barang tidak sesuai janji. Katanya express 1 hari. Dari hari jumat barang sampai hari rabu. SeMoga barangnya awet saja."
        ],
        [
         "14",
         "100004505",
         "4",
         "Kualitas ok"
        ],
        [
         "15",
         "100004505",
         "1",
         "Bagaimana tv LED saya merek Sharp 24 hitam LC 24LE170i sekarang mati total baru 2 bln kemana saya harus menghubungi dan meminta bantuan mohon kebijakan dan solusinya ,, so,alnya masih garansi kepada pihak lazada saya mohon bantuannya terimakasih!!!"
        ],
        [
         "16",
         "100004505",
         "3",
         "Pengiriman super lama.. tapi datang juga sich"
        ],
        [
         "17",
         "100004505",
         "5",
         "ok barang sampai dengan Baik.. smoga terus di pertahankan..."
        ],
        [
         "18",
         "100004505",
         "5",
         null
        ],
        [
         "19",
         "100004505",
         "3",
         null
        ],
        [
         "20",
         "100004505",
         "5",
         null
        ],
        [
         "21",
         "100004505",
         "5",
         "Kalau mau cicilan gmna cra nya??"
        ],
        [
         "22",
         "100004505",
         "5",
         "barang sudah sampai dan bagus thanks lazada"
        ],
        [
         "23",
         "100004505",
         "5",
         "Pengiriman cepat sipplahhh......."
        ],
        [
         "24",
         "100005037",
         "5",
         "Sampe Sekarang masih Ok ne laptop..."
        ],
        [
         "25",
         "100006860",
         "5",
         null
        ],
        [
         "26",
         "100006860",
         "3",
         null
        ],
        [
         "27",
         "100006860",
         "5",
         null
        ],
        [
         "28",
         "100006860",
         "5",
         null
        ],
        [
         "29",
         "100006860",
         "5",
         "Pengiriman cepat..  Packaging good..  Barang oke. Thnks seller Thnks Lazada"
        ],
        [
         "30",
         "100007498",
         "5",
         "Barang diterima dengan selamat.. Produk sesuai dengan deskripsi.. Barang nyape 3 hari ke pekanbaru,riau.. Terimakasih lazada dan kotakom pucang, laptopnya mantap.."
        ],
        [
         "31",
         "100007498",
         "5",
         null
        ],
        [
         "32",
         "100010722",
         "5",
         "Senang belanja disini,pelayanan oke,barang sesuai ekspektasi..order senin hari selasa malam udah nyampe + di settingin sxan sama kurirnya...pokoknya top deh..thanks Lazada"
        ],
        [
         "33",
         "100010722",
         "4",
         "belum test barangnya"
        ],
        [
         "34",
         "100010722",
         "1",
         "Sudah cape2 transfer tapi pesanan ditolak"
        ],
        [
         "35",
         "100010722",
         "5",
         null
        ],
        [
         "36",
         "100010722",
         "3",
         null
        ],
        [
         "37",
         "100010722",
         "5",
         null
        ],
        [
         "38",
         "100010722",
         "5",
         null
        ],
        [
         "39",
         "100010722",
         "5",
         null
        ],
        [
         "40",
         "100010722",
         "4",
         null
        ],
        [
         "41",
         "100010722",
         "4",
         null
        ],
        [
         "42",
         "100010745",
         "5",
         "Barang Ok, kualitas bagus dengan harga yg cukup miring, kualitas gambar juga ok, pengiriman lumayan, ga nyesel pokonya beli TV ini"
        ],
        [
         "43",
         "100010745",
         "5",
         "Saya minat tapi kalau dikirim ke Gresik Jawa Timur bisa gak? Klo dr info pengiriman bebas tapi takut gk sampai.. Dan tanya apa ini sdh full HD apa blm? Terima kasih"
        ],
        [
         "44",
         "100010745",
         "5",
         null
        ],
        [
         "45",
         "100010745",
         "4",
         "Pengn tivinya"
        ],
        [
         "46",
         "100010745",
         "5",
         null
        ],
        [
         "47",
         "100010745",
         "5",
         "Mantapppp barang nya"
        ],
        [
         "48",
         "100010745",
         "3",
         "Barang mulusss mantapppppp"
        ],
        [
         "49",
         "100015720",
         "5",
         null
        ]
       ],
       "shape": {
        "columns": 3,
        "rows": 203787
       }
      },
      "text/html": [
       "<div>\n",
       "<style scoped>\n",
       "    .dataframe tbody tr th:only-of-type {\n",
       "        vertical-align: middle;\n",
       "    }\n",
       "\n",
       "    .dataframe tbody tr th {\n",
       "        vertical-align: top;\n",
       "    }\n",
       "\n",
       "    .dataframe thead th {\n",
       "        text-align: right;\n",
       "    }\n",
       "</style>\n",
       "<table border=\"1\" class=\"dataframe\">\n",
       "  <thead>\n",
       "    <tr style=\"text-align: right;\">\n",
       "      <th></th>\n",
       "      <th>itemId</th>\n",
       "      <th>rating</th>\n",
       "      <th>reviewContent</th>\n",
       "    </tr>\n",
       "  </thead>\n",
       "  <tbody>\n",
       "    <tr>\n",
       "      <th>0</th>\n",
       "      <td>100002528</td>\n",
       "      <td>5</td>\n",
       "      <td>bagus  mantap dah sesui pesanan</td>\n",
       "    </tr>\n",
       "    <tr>\n",
       "      <th>1</th>\n",
       "      <td>100002528</td>\n",
       "      <td>4</td>\n",
       "      <td>Bagus, sesuai foto</td>\n",
       "    </tr>\n",
       "    <tr>\n",
       "      <th>2</th>\n",
       "      <td>100002528</td>\n",
       "      <td>5</td>\n",
       "      <td>okkkkk mantaaaaaaapppp ... goood</td>\n",
       "    </tr>\n",
       "    <tr>\n",
       "      <th>3</th>\n",
       "      <td>100002528</td>\n",
       "      <td>4</td>\n",
       "      <td>bagus sesuai</td>\n",
       "    </tr>\n",
       "    <tr>\n",
       "      <th>4</th>\n",
       "      <td>100002528</td>\n",
       "      <td>5</td>\n",
       "      <td>NaN</td>\n",
       "    </tr>\n",
       "    <tr>\n",
       "      <th>...</th>\n",
       "      <td>...</td>\n",
       "      <td>...</td>\n",
       "      <td>...</td>\n",
       "    </tr>\n",
       "    <tr>\n",
       "      <th>203782</th>\n",
       "      <td>9467899</td>\n",
       "      <td>5</td>\n",
       "      <td>barang bagus dengan harga kompetitif</td>\n",
       "    </tr>\n",
       "    <tr>\n",
       "      <th>203783</th>\n",
       "      <td>9467899</td>\n",
       "      <td>3</td>\n",
       "      <td>NaN</td>\n",
       "    </tr>\n",
       "    <tr>\n",
       "      <th>203784</th>\n",
       "      <td>9548087</td>\n",
       "      <td>5</td>\n",
       "      <td>NaN</td>\n",
       "    </tr>\n",
       "    <tr>\n",
       "      <th>203785</th>\n",
       "      <td>9548767</td>\n",
       "      <td>3</td>\n",
       "      <td>Ok.thank lazada Pagi order sore barang nyampe ...</td>\n",
       "    </tr>\n",
       "    <tr>\n",
       "      <th>203786</th>\n",
       "      <td>9548767</td>\n",
       "      <td>5</td>\n",
       "      <td>semua fitur berfungsi,harganya cukup murah. AK...</td>\n",
       "    </tr>\n",
       "  </tbody>\n",
       "</table>\n",
       "<p>203787 rows × 3 columns</p>\n",
       "</div>"
      ],
      "text/plain": [
       "           itemId  rating                                      reviewContent\n",
       "0       100002528       5                    bagus  mantap dah sesui pesanan\n",
       "1       100002528       4                                 Bagus, sesuai foto\n",
       "2       100002528       5                   okkkkk mantaaaaaaapppp ... goood\n",
       "3       100002528       4                                       bagus sesuai\n",
       "4       100002528       5                                                NaN\n",
       "...           ...     ...                                                ...\n",
       "203782    9467899       5               barang bagus dengan harga kompetitif\n",
       "203783    9467899       3                                                NaN\n",
       "203784    9548087       5                                                NaN\n",
       "203785    9548767       3  Ok.thank lazada Pagi order sore barang nyampe ...\n",
       "203786    9548767       5  semua fitur berfungsi,harganya cukup murah. AK...\n",
       "\n",
       "[203787 rows x 3 columns]"
      ]
     },
     "execution_count": 6,
     "metadata": {},
     "output_type": "execute_result"
    }
   ],
   "source": [
    "used_data"
   ]
  },
  {
   "cell_type": "code",
   "execution_count": 7,
   "id": "e9e97759",
   "metadata": {},
   "outputs": [],
   "source": [
    "used_data = used_data.drop_duplicates()\n",
    "used_data = used_data.dropna()"
   ]
  },
  {
   "cell_type": "code",
   "execution_count": 8,
   "id": "a05a85fa",
   "metadata": {},
   "outputs": [
    {
     "data": {
      "application/vnd.microsoft.datawrangler.viewer.v0+json": {
       "columns": [
        {
         "name": "index",
         "rawType": "int64",
         "type": "integer"
        },
        {
         "name": "itemId",
         "rawType": "int64",
         "type": "integer"
        },
        {
         "name": "rating",
         "rawType": "int64",
         "type": "integer"
        },
        {
         "name": "reviewContent",
         "rawType": "object",
         "type": "string"
        }
       ],
       "conversionMethod": "pd.DataFrame",
       "ref": "b7185a87-1dea-44f9-830d-c2b95a302520",
       "rows": [
        [
         "0",
         "100002528",
         "5",
         "bagus  mantap dah sesui pesanan"
        ],
        [
         "1",
         "100002528",
         "4",
         "Bagus, sesuai foto"
        ],
        [
         "2",
         "100002528",
         "5",
         "okkkkk mantaaaaaaapppp ... goood"
        ],
        [
         "3",
         "100002528",
         "4",
         "bagus sesuai"
        ],
        [
         "7",
         "100002528",
         "1",
         "bima"
        ],
        [
         "8",
         "100003785",
         "1",
         "baru 10 bulan layarnya dah bergaris"
        ],
        [
         "9",
         "100003785",
         "5",
         "Pesan rabu sore,minggu sore sampe,,barang sesuai specs mantab,tks lazada"
        ],
        [
         "11",
         "100004132",
         "1",
         "Mau tanya ini cicilnya pake apa ya,cc bkn?"
        ],
        [
         "12",
         "100004132",
         "5",
         "Apakah TV. Tsb. Suda ada anti gores.."
        ],
        [
         "13",
         "100004505",
         "1",
         "Pengirim barang tidak sesuai janji. Katanya express 1 hari. Dari hari jumat barang sampai hari rabu. SeMoga barangnya awet saja."
        ],
        [
         "14",
         "100004505",
         "4",
         "Kualitas ok"
        ],
        [
         "15",
         "100004505",
         "1",
         "Bagaimana tv LED saya merek Sharp 24 hitam LC 24LE170i sekarang mati total baru 2 bln kemana saya harus menghubungi dan meminta bantuan mohon kebijakan dan solusinya ,, so,alnya masih garansi kepada pihak lazada saya mohon bantuannya terimakasih!!!"
        ],
        [
         "16",
         "100004505",
         "3",
         "Pengiriman super lama.. tapi datang juga sich"
        ],
        [
         "17",
         "100004505",
         "5",
         "ok barang sampai dengan Baik.. smoga terus di pertahankan..."
        ],
        [
         "21",
         "100004505",
         "5",
         "Kalau mau cicilan gmna cra nya??"
        ],
        [
         "22",
         "100004505",
         "5",
         "barang sudah sampai dan bagus thanks lazada"
        ],
        [
         "23",
         "100004505",
         "5",
         "Pengiriman cepat sipplahhh......."
        ],
        [
         "24",
         "100005037",
         "5",
         "Sampe Sekarang masih Ok ne laptop..."
        ],
        [
         "29",
         "100006860",
         "5",
         "Pengiriman cepat..  Packaging good..  Barang oke. Thnks seller Thnks Lazada"
        ],
        [
         "30",
         "100007498",
         "5",
         "Barang diterima dengan selamat.. Produk sesuai dengan deskripsi.. Barang nyape 3 hari ke pekanbaru,riau.. Terimakasih lazada dan kotakom pucang, laptopnya mantap.."
        ],
        [
         "32",
         "100010722",
         "5",
         "Senang belanja disini,pelayanan oke,barang sesuai ekspektasi..order senin hari selasa malam udah nyampe + di settingin sxan sama kurirnya...pokoknya top deh..thanks Lazada"
        ],
        [
         "33",
         "100010722",
         "4",
         "belum test barangnya"
        ],
        [
         "34",
         "100010722",
         "1",
         "Sudah cape2 transfer tapi pesanan ditolak"
        ],
        [
         "42",
         "100010745",
         "5",
         "Barang Ok, kualitas bagus dengan harga yg cukup miring, kualitas gambar juga ok, pengiriman lumayan, ga nyesel pokonya beli TV ini"
        ],
        [
         "43",
         "100010745",
         "5",
         "Saya minat tapi kalau dikirim ke Gresik Jawa Timur bisa gak? Klo dr info pengiriman bebas tapi takut gk sampai.. Dan tanya apa ini sdh full HD apa blm? Terima kasih"
        ],
        [
         "45",
         "100010745",
         "4",
         "Pengn tivinya"
        ],
        [
         "47",
         "100010745",
         "5",
         "Mantapppp barang nya"
        ],
        [
         "48",
         "100010745",
         "3",
         "Barang mulusss mantapppppp"
        ],
        [
         "50",
         "100015720",
         "1",
         "Laptop ini memiliki spesifikasi yang bagus dan harga yang terjangkau, namun pada tab spesifikasi utama produk itu emang intel core i5 atau salah buat? Di judul dikatakan core i7"
        ],
        [
         "51",
         "100015720",
         "5",
         "Barang sampai dengan aman. Kemampuan laptop sesuai dengan yang di iklankan. Hanya saja, laptop datang dengan DOS sehingga harus di install sendiri windows nya. Overall, it's worth the money."
        ],
        [
         "52",
         "100015720",
         "5",
         "Barang sampai 2 hari dengan selamat dan sesuai deskripsi"
        ],
        [
         "53",
         "100015720",
         "5",
         "Harga sangat murah mantep banget"
        ],
        [
         "54",
         "100015720",
         "3",
         "Murah banget itu enga salah kasih harga tau2 nati salah kasi info barang nya"
        ],
        [
         "55",
         "100015720",
         "1",
         "Barang udah sampai tapi pas dinyalain g bisa. Gmn pertanggung jawaban lazada?"
        ],
        [
         "58",
         "100024235",
         "4",
         "Klo dp1jt tanpa kartu kredit bisa gk? Brp bln pembayarannya dan sebulannya brp? -TerimaKsh"
        ],
        [
         "59",
         "100024235",
         "1",
         "untuk pemasangan di tembok apa ad pihak dari lazada yg memasang'a ? terima kasih"
        ],
        [
         "61",
         "100027329",
         "5",
         "Kapasitas HDD asli 1 TB, dan tanpa ada lecet di saat saya pertama kali membuka bungkus bubble nya"
        ],
        [
         "62",
         "100027329",
         "5",
         "barang sesuai dengan gambar"
        ],
        [
         "63",
         "100027329",
         "4",
         "HD diterima dg packing bubble bagus, hanya tidak tertulis, barang elektronik, atw keterangan lain, agar penanganan lebih hati2 dan istimewa, ketika paket dalam perjalanan. Finally, 4bintang lhah..."
        ],
        [
         "64",
         "100027616",
         "5",
         "Mantap gan Barang sampai dengan selamat , Packing rapih , pokok Mantap lah !"
        ],
        [
         "67",
         "100027616",
         "5",
         "Oke"
        ],
        [
         "68",
         "100028438",
         "5",
         "Saya sangat puas dengan barang.nya, kualitas barang sangat membantu HDD saya apabila jatuh dari atas, dan pengiriman rapi gk ada lecet kasih bintang 5 :) Dan Saya sangat tidak puas dengan peng"
        ],
        [
         "69",
         "100028438",
         "4",
         "Barang diterima dengan kondisi yang baik tapi packagingnya kurang"
        ],
        [
         "70",
         "100028438",
         "5",
         "Suka banget sama barangnya packing nya rapi, pokoknya recomended banget buat kalian yg mau beli tas hardisk dengan kulitas bagus yah di sini"
        ],
        [
         "74",
         "100030605",
         "5",
         "Flashdisk ori, Packing bagus. Saya suka.Thx"
        ],
        [
         "75",
         "100034104",
         "5",
         "aman cepat pula"
        ],
        [
         "77",
         "100034104",
         "4",
         "Bagus ori kok cuma hanya aja 58 gb:( klo 63 gpp hilang 1 gb"
        ],
        [
         "78",
         "100034104",
         "1",
         "kapasitasy kurang bagusss aturany klw kosong g bnyakkk firusss tpi nieh bnyakkk firusss sangat kecewe"
        ],
        [
         "79",
         "100034104",
         "5",
         "Baguss bangett kurir nya jga ramah, cakep pula wkwk. Ini 64gb tp cmn 58 sekian gb tp gpp lah yah... Pokok nya recomended deh...."
        ],
        [
         "80",
         "100034104",
         "5",
         "produk dah sampai kemasan rapih pengiriman cepat barang  bagus pembayaran cod tidak perlu diragukan lagi 👍👍"
        ]
       ],
       "shape": {
        "columns": 3,
        "rows": 41549
       }
      },
      "text/html": [
       "<div>\n",
       "<style scoped>\n",
       "    .dataframe tbody tr th:only-of-type {\n",
       "        vertical-align: middle;\n",
       "    }\n",
       "\n",
       "    .dataframe tbody tr th {\n",
       "        vertical-align: top;\n",
       "    }\n",
       "\n",
       "    .dataframe thead th {\n",
       "        text-align: right;\n",
       "    }\n",
       "</style>\n",
       "<table border=\"1\" class=\"dataframe\">\n",
       "  <thead>\n",
       "    <tr style=\"text-align: right;\">\n",
       "      <th></th>\n",
       "      <th>itemId</th>\n",
       "      <th>rating</th>\n",
       "      <th>reviewContent</th>\n",
       "    </tr>\n",
       "  </thead>\n",
       "  <tbody>\n",
       "    <tr>\n",
       "      <th>0</th>\n",
       "      <td>100002528</td>\n",
       "      <td>5</td>\n",
       "      <td>bagus  mantap dah sesui pesanan</td>\n",
       "    </tr>\n",
       "    <tr>\n",
       "      <th>1</th>\n",
       "      <td>100002528</td>\n",
       "      <td>4</td>\n",
       "      <td>Bagus, sesuai foto</td>\n",
       "    </tr>\n",
       "    <tr>\n",
       "      <th>2</th>\n",
       "      <td>100002528</td>\n",
       "      <td>5</td>\n",
       "      <td>okkkkk mantaaaaaaapppp ... goood</td>\n",
       "    </tr>\n",
       "    <tr>\n",
       "      <th>3</th>\n",
       "      <td>100002528</td>\n",
       "      <td>4</td>\n",
       "      <td>bagus sesuai</td>\n",
       "    </tr>\n",
       "    <tr>\n",
       "      <th>7</th>\n",
       "      <td>100002528</td>\n",
       "      <td>1</td>\n",
       "      <td>bima</td>\n",
       "    </tr>\n",
       "    <tr>\n",
       "      <th>...</th>\n",
       "      <td>...</td>\n",
       "      <td>...</td>\n",
       "      <td>...</td>\n",
       "    </tr>\n",
       "    <tr>\n",
       "      <th>82221</th>\n",
       "      <td>9973500</td>\n",
       "      <td>3</td>\n",
       "      <td>Pengiriman lebih cepat , packing rapih  Dan ba...</td>\n",
       "    </tr>\n",
       "    <tr>\n",
       "      <th>87955</th>\n",
       "      <td>687840070</td>\n",
       "      <td>1</td>\n",
       "      <td>I can't login to activated this netbook becaus...</td>\n",
       "    </tr>\n",
       "    <tr>\n",
       "      <th>103881</th>\n",
       "      <td>377474276</td>\n",
       "      <td>4</td>\n",
       "      <td>barang ok, pengiriman super lambat dn trpaksa ...</td>\n",
       "    </tr>\n",
       "    <tr>\n",
       "      <th>195817</th>\n",
       "      <td>377474276</td>\n",
       "      <td>5</td>\n",
       "      <td>mantapp,, terima kasih lazadaaa,, tv coocaa 40...</td>\n",
       "    </tr>\n",
       "    <tr>\n",
       "      <th>199781</th>\n",
       "      <td>428602132</td>\n",
       "      <td>5</td>\n",
       "      <td>Wow Keren Abis,, LED TV Kualitas DEWA, Paking ...</td>\n",
       "    </tr>\n",
       "  </tbody>\n",
       "</table>\n",
       "<p>41549 rows × 3 columns</p>\n",
       "</div>"
      ],
      "text/plain": [
       "           itemId  rating                                      reviewContent\n",
       "0       100002528       5                    bagus  mantap dah sesui pesanan\n",
       "1       100002528       4                                 Bagus, sesuai foto\n",
       "2       100002528       5                   okkkkk mantaaaaaaapppp ... goood\n",
       "3       100002528       4                                       bagus sesuai\n",
       "7       100002528       1                                               bima\n",
       "...           ...     ...                                                ...\n",
       "82221     9973500       3  Pengiriman lebih cepat , packing rapih  Dan ba...\n",
       "87955   687840070       1  I can't login to activated this netbook becaus...\n",
       "103881  377474276       4  barang ok, pengiriman super lambat dn trpaksa ...\n",
       "195817  377474276       5  mantapp,, terima kasih lazadaaa,, tv coocaa 40...\n",
       "199781  428602132       5  Wow Keren Abis,, LED TV Kualitas DEWA, Paking ...\n",
       "\n",
       "[41549 rows x 3 columns]"
      ]
     },
     "execution_count": 8,
     "metadata": {},
     "output_type": "execute_result"
    }
   ],
   "source": [
    "used_data"
   ]
  },
  {
   "cell_type": "code",
   "execution_count": 9,
   "id": "7e7175b5",
   "metadata": {},
   "outputs": [
    {
     "name": "stderr",
     "output_type": "stream",
     "text": [
      "C:\\Users\\Atasha\\AppData\\Local\\Temp\\ipykernel_9724\\2692551241.py:3: FutureWarning: Setting an item of incompatible dtype is deprecated and will raise an error in a future version of pandas. Value 'good' has dtype incompatible with int64, please explicitly cast to a compatible dtype first.\n",
      "  used_data.loc[used_data[\"rating\"] >= 4, \"rating\"] = \"good\"\n"
     ]
    },
    {
     "data": {
      "application/vnd.microsoft.datawrangler.viewer.v0+json": {
       "columns": [
        {
         "name": "index",
         "rawType": "int64",
         "type": "integer"
        },
        {
         "name": "itemId",
         "rawType": "int64",
         "type": "integer"
        },
        {
         "name": "rating",
         "rawType": "object",
         "type": "string"
        },
        {
         "name": "reviewContent",
         "rawType": "object",
         "type": "string"
        }
       ],
       "conversionMethod": "pd.DataFrame",
       "ref": "bc76a721-d430-49e0-825f-d034f22f2f48",
       "rows": [
        [
         "0",
         "100002528",
         "good",
         "bagus  mantap dah sesui pesanan"
        ],
        [
         "1",
         "100002528",
         "good",
         "Bagus, sesuai foto"
        ],
        [
         "2",
         "100002528",
         "good",
         "okkkkk mantaaaaaaapppp ... goood"
        ],
        [
         "3",
         "100002528",
         "good",
         "bagus sesuai"
        ],
        [
         "7",
         "100002528",
         "bad",
         "bima"
        ],
        [
         "8",
         "100003785",
         "bad",
         "baru 10 bulan layarnya dah bergaris"
        ],
        [
         "9",
         "100003785",
         "good",
         "Pesan rabu sore,minggu sore sampe,,barang sesuai specs mantab,tks lazada"
        ],
        [
         "11",
         "100004132",
         "bad",
         "Mau tanya ini cicilnya pake apa ya,cc bkn?"
        ],
        [
         "12",
         "100004132",
         "good",
         "Apakah TV. Tsb. Suda ada anti gores.."
        ],
        [
         "13",
         "100004505",
         "bad",
         "Pengirim barang tidak sesuai janji. Katanya express 1 hari. Dari hari jumat barang sampai hari rabu. SeMoga barangnya awet saja."
        ],
        [
         "14",
         "100004505",
         "good",
         "Kualitas ok"
        ],
        [
         "15",
         "100004505",
         "bad",
         "Bagaimana tv LED saya merek Sharp 24 hitam LC 24LE170i sekarang mati total baru 2 bln kemana saya harus menghubungi dan meminta bantuan mohon kebijakan dan solusinya ,, so,alnya masih garansi kepada pihak lazada saya mohon bantuannya terimakasih!!!"
        ],
        [
         "16",
         "100004505",
         "bad",
         "Pengiriman super lama.. tapi datang juga sich"
        ],
        [
         "17",
         "100004505",
         "good",
         "ok barang sampai dengan Baik.. smoga terus di pertahankan..."
        ],
        [
         "21",
         "100004505",
         "good",
         "Kalau mau cicilan gmna cra nya??"
        ],
        [
         "22",
         "100004505",
         "good",
         "barang sudah sampai dan bagus thanks lazada"
        ],
        [
         "23",
         "100004505",
         "good",
         "Pengiriman cepat sipplahhh......."
        ],
        [
         "24",
         "100005037",
         "good",
         "Sampe Sekarang masih Ok ne laptop..."
        ],
        [
         "29",
         "100006860",
         "good",
         "Pengiriman cepat..  Packaging good..  Barang oke. Thnks seller Thnks Lazada"
        ],
        [
         "30",
         "100007498",
         "good",
         "Barang diterima dengan selamat.. Produk sesuai dengan deskripsi.. Barang nyape 3 hari ke pekanbaru,riau.. Terimakasih lazada dan kotakom pucang, laptopnya mantap.."
        ],
        [
         "32",
         "100010722",
         "good",
         "Senang belanja disini,pelayanan oke,barang sesuai ekspektasi..order senin hari selasa malam udah nyampe + di settingin sxan sama kurirnya...pokoknya top deh..thanks Lazada"
        ],
        [
         "33",
         "100010722",
         "good",
         "belum test barangnya"
        ],
        [
         "34",
         "100010722",
         "bad",
         "Sudah cape2 transfer tapi pesanan ditolak"
        ],
        [
         "42",
         "100010745",
         "good",
         "Barang Ok, kualitas bagus dengan harga yg cukup miring, kualitas gambar juga ok, pengiriman lumayan, ga nyesel pokonya beli TV ini"
        ],
        [
         "43",
         "100010745",
         "good",
         "Saya minat tapi kalau dikirim ke Gresik Jawa Timur bisa gak? Klo dr info pengiriman bebas tapi takut gk sampai.. Dan tanya apa ini sdh full HD apa blm? Terima kasih"
        ],
        [
         "45",
         "100010745",
         "good",
         "Pengn tivinya"
        ],
        [
         "47",
         "100010745",
         "good",
         "Mantapppp barang nya"
        ],
        [
         "48",
         "100010745",
         "bad",
         "Barang mulusss mantapppppp"
        ],
        [
         "50",
         "100015720",
         "bad",
         "Laptop ini memiliki spesifikasi yang bagus dan harga yang terjangkau, namun pada tab spesifikasi utama produk itu emang intel core i5 atau salah buat? Di judul dikatakan core i7"
        ],
        [
         "51",
         "100015720",
         "good",
         "Barang sampai dengan aman. Kemampuan laptop sesuai dengan yang di iklankan. Hanya saja, laptop datang dengan DOS sehingga harus di install sendiri windows nya. Overall, it's worth the money."
        ],
        [
         "52",
         "100015720",
         "good",
         "Barang sampai 2 hari dengan selamat dan sesuai deskripsi"
        ],
        [
         "53",
         "100015720",
         "good",
         "Harga sangat murah mantep banget"
        ],
        [
         "54",
         "100015720",
         "bad",
         "Murah banget itu enga salah kasih harga tau2 nati salah kasi info barang nya"
        ],
        [
         "55",
         "100015720",
         "bad",
         "Barang udah sampai tapi pas dinyalain g bisa. Gmn pertanggung jawaban lazada?"
        ],
        [
         "58",
         "100024235",
         "good",
         "Klo dp1jt tanpa kartu kredit bisa gk? Brp bln pembayarannya dan sebulannya brp? -TerimaKsh"
        ],
        [
         "59",
         "100024235",
         "bad",
         "untuk pemasangan di tembok apa ad pihak dari lazada yg memasang'a ? terima kasih"
        ],
        [
         "61",
         "100027329",
         "good",
         "Kapasitas HDD asli 1 TB, dan tanpa ada lecet di saat saya pertama kali membuka bungkus bubble nya"
        ],
        [
         "62",
         "100027329",
         "good",
         "barang sesuai dengan gambar"
        ],
        [
         "63",
         "100027329",
         "good",
         "HD diterima dg packing bubble bagus, hanya tidak tertulis, barang elektronik, atw keterangan lain, agar penanganan lebih hati2 dan istimewa, ketika paket dalam perjalanan. Finally, 4bintang lhah..."
        ],
        [
         "64",
         "100027616",
         "good",
         "Mantap gan Barang sampai dengan selamat , Packing rapih , pokok Mantap lah !"
        ],
        [
         "67",
         "100027616",
         "good",
         "Oke"
        ],
        [
         "68",
         "100028438",
         "good",
         "Saya sangat puas dengan barang.nya, kualitas barang sangat membantu HDD saya apabila jatuh dari atas, dan pengiriman rapi gk ada lecet kasih bintang 5 :) Dan Saya sangat tidak puas dengan peng"
        ],
        [
         "69",
         "100028438",
         "good",
         "Barang diterima dengan kondisi yang baik tapi packagingnya kurang"
        ],
        [
         "70",
         "100028438",
         "good",
         "Suka banget sama barangnya packing nya rapi, pokoknya recomended banget buat kalian yg mau beli tas hardisk dengan kulitas bagus yah di sini"
        ],
        [
         "74",
         "100030605",
         "good",
         "Flashdisk ori, Packing bagus. Saya suka.Thx"
        ],
        [
         "75",
         "100034104",
         "good",
         "aman cepat pula"
        ],
        [
         "77",
         "100034104",
         "good",
         "Bagus ori kok cuma hanya aja 58 gb:( klo 63 gpp hilang 1 gb"
        ],
        [
         "78",
         "100034104",
         "bad",
         "kapasitasy kurang bagusss aturany klw kosong g bnyakkk firusss tpi nieh bnyakkk firusss sangat kecewe"
        ],
        [
         "79",
         "100034104",
         "good",
         "Baguss bangett kurir nya jga ramah, cakep pula wkwk. Ini 64gb tp cmn 58 sekian gb tp gpp lah yah... Pokok nya recomended deh...."
        ],
        [
         "80",
         "100034104",
         "good",
         "produk dah sampai kemasan rapih pengiriman cepat barang  bagus pembayaran cod tidak perlu diragukan lagi 👍👍"
        ]
       ],
       "shape": {
        "columns": 3,
        "rows": 41549
       }
      },
      "text/html": [
       "<div>\n",
       "<style scoped>\n",
       "    .dataframe tbody tr th:only-of-type {\n",
       "        vertical-align: middle;\n",
       "    }\n",
       "\n",
       "    .dataframe tbody tr th {\n",
       "        vertical-align: top;\n",
       "    }\n",
       "\n",
       "    .dataframe thead th {\n",
       "        text-align: right;\n",
       "    }\n",
       "</style>\n",
       "<table border=\"1\" class=\"dataframe\">\n",
       "  <thead>\n",
       "    <tr style=\"text-align: right;\">\n",
       "      <th></th>\n",
       "      <th>itemId</th>\n",
       "      <th>rating</th>\n",
       "      <th>reviewContent</th>\n",
       "    </tr>\n",
       "  </thead>\n",
       "  <tbody>\n",
       "    <tr>\n",
       "      <th>0</th>\n",
       "      <td>100002528</td>\n",
       "      <td>good</td>\n",
       "      <td>bagus  mantap dah sesui pesanan</td>\n",
       "    </tr>\n",
       "    <tr>\n",
       "      <th>1</th>\n",
       "      <td>100002528</td>\n",
       "      <td>good</td>\n",
       "      <td>Bagus, sesuai foto</td>\n",
       "    </tr>\n",
       "    <tr>\n",
       "      <th>2</th>\n",
       "      <td>100002528</td>\n",
       "      <td>good</td>\n",
       "      <td>okkkkk mantaaaaaaapppp ... goood</td>\n",
       "    </tr>\n",
       "    <tr>\n",
       "      <th>3</th>\n",
       "      <td>100002528</td>\n",
       "      <td>good</td>\n",
       "      <td>bagus sesuai</td>\n",
       "    </tr>\n",
       "    <tr>\n",
       "      <th>7</th>\n",
       "      <td>100002528</td>\n",
       "      <td>bad</td>\n",
       "      <td>bima</td>\n",
       "    </tr>\n",
       "    <tr>\n",
       "      <th>...</th>\n",
       "      <td>...</td>\n",
       "      <td>...</td>\n",
       "      <td>...</td>\n",
       "    </tr>\n",
       "    <tr>\n",
       "      <th>82221</th>\n",
       "      <td>9973500</td>\n",
       "      <td>bad</td>\n",
       "      <td>Pengiriman lebih cepat , packing rapih  Dan ba...</td>\n",
       "    </tr>\n",
       "    <tr>\n",
       "      <th>87955</th>\n",
       "      <td>687840070</td>\n",
       "      <td>bad</td>\n",
       "      <td>I can't login to activated this netbook becaus...</td>\n",
       "    </tr>\n",
       "    <tr>\n",
       "      <th>103881</th>\n",
       "      <td>377474276</td>\n",
       "      <td>good</td>\n",
       "      <td>barang ok, pengiriman super lambat dn trpaksa ...</td>\n",
       "    </tr>\n",
       "    <tr>\n",
       "      <th>195817</th>\n",
       "      <td>377474276</td>\n",
       "      <td>good</td>\n",
       "      <td>mantapp,, terima kasih lazadaaa,, tv coocaa 40...</td>\n",
       "    </tr>\n",
       "    <tr>\n",
       "      <th>199781</th>\n",
       "      <td>428602132</td>\n",
       "      <td>good</td>\n",
       "      <td>Wow Keren Abis,, LED TV Kualitas DEWA, Paking ...</td>\n",
       "    </tr>\n",
       "  </tbody>\n",
       "</table>\n",
       "<p>41549 rows × 3 columns</p>\n",
       "</div>"
      ],
      "text/plain": [
       "           itemId rating                                      reviewContent\n",
       "0       100002528   good                    bagus  mantap dah sesui pesanan\n",
       "1       100002528   good                                 Bagus, sesuai foto\n",
       "2       100002528   good                   okkkkk mantaaaaaaapppp ... goood\n",
       "3       100002528   good                                       bagus sesuai\n",
       "7       100002528    bad                                               bima\n",
       "...           ...    ...                                                ...\n",
       "82221     9973500    bad  Pengiriman lebih cepat , packing rapih  Dan ba...\n",
       "87955   687840070    bad  I can't login to activated this netbook becaus...\n",
       "103881  377474276   good  barang ok, pengiriman super lambat dn trpaksa ...\n",
       "195817  377474276   good  mantapp,, terima kasih lazadaaa,, tv coocaa 40...\n",
       "199781  428602132   good  Wow Keren Abis,, LED TV Kualitas DEWA, Paking ...\n",
       "\n",
       "[41549 rows x 3 columns]"
      ]
     },
     "execution_count": 9,
     "metadata": {},
     "output_type": "execute_result"
    }
   ],
   "source": [
    "used_data_coded = used_data\n",
    "\n",
    "used_data.loc[used_data[\"rating\"] >= 4, \"rating\"] = \"good\"\n",
    "used_data.loc[used_data[\"rating\"] != 'good', \"rating\"] = \"bad\"\n",
    "\n",
    "used_data_coded"
   ]
  },
  {
   "cell_type": "code",
   "execution_count": 10,
   "id": "3f584c47",
   "metadata": {},
   "outputs": [
    {
     "data": {
      "application/vnd.microsoft.datawrangler.viewer.v0+json": {
       "columns": [
        {
         "name": "index",
         "rawType": "int64",
         "type": "integer"
        },
        {
         "name": "index",
         "rawType": "int64",
         "type": "integer"
        },
        {
         "name": "itemId",
         "rawType": "int64",
         "type": "integer"
        },
        {
         "name": "rating",
         "rawType": "object",
         "type": "string"
        },
        {
         "name": "reviewContent",
         "rawType": "object",
         "type": "string"
        }
       ],
       "conversionMethod": "pd.DataFrame",
       "ref": "eb5a4c7a-90e8-4284-8155-5fae8ac00eb2",
       "rows": [
        [
         "0",
         "15051",
         "160020846",
         "good",
         "barang sudah sampai paking y rapi mksih lazada"
        ],
        [
         "1",
         "31469",
         "278127",
         "good",
         "barang sesuai pesanan"
        ],
        [
         "2",
         "11005",
         "140953986",
         "good",
         "Barang sudah diterima tepat waktu. Kualitas bagus. Mantap!!"
        ],
        [
         "3",
         "48373",
         "389216525",
         "good",
         "Pembelian kedua...tidak secepat pembelian pertama tp anyway mmg gak butuh cepat jd ok ok aja. Voucher HOOQ pembelian pertama didapat sebelum barangnya tiba, sdgkan pembelian kedua ini sampai ulasan ini voucher HOOQ masih belum diterima, semoga Lazada tidak lupa akan janjinya. Karena ini pembelian kedua pastinya puas terhadap TV xioaminya pd pembelian pertama. Thx."
        ],
        [
         "4",
         "68812",
         "498408088",
         "good",
         "bagus bagat barang ya gan 😁 😀"
        ],
        [
         "5",
         "81952",
         "9092536",
         "good",
         "Hahahahahaha hahahahah hahahaha hahahaha hahaaha"
        ],
        [
         "6",
         "5253",
         "110304821",
         "good",
         "barangnya original, bekerja dgn baik... speed write&read cepat. mntaplah pokoknya \"Karena jual beli yang baik adalah jual beli yang saling menguntungkan antara si penjual dan pembeli dan tidak ada satu pihak pun yang dirugikan\" LEX nya pun antar brg jga cepat terima kasih☝️👍👍👍"
        ],
        [
         "7",
         "2976",
         "104262914",
         "good",
         "BARANG SESUAI PESANAN"
        ],
        [
         "8",
         "18390",
         "160030643",
         "good",
         "awet & berguna"
        ],
        [
         "9",
         "44265",
         "377474274",
         "good",
         "Kualitas barang baik, tidak ada cacat apapun, pengiriman juga aman menggunakan packing kayu,"
        ],
        [
         "10",
         "21087",
         "160036065",
         "good",
         "Pengiriman cepat dan barang sesuai pesanan. bravo"
        ],
        [
         "11",
         "65408",
         "480274479",
         "good",
         "barang sudah sampai...cepat sangat barang smpai dg baik packing pon baik..trims lazada n sinar agong"
        ],
        [
         "12",
         "61985",
         "433481427",
         "good",
         "barang smpnya cepat.. sesuai spek detil barang"
        ],
        [
         "13",
         "80793",
         "8733569",
         "good",
         "Maksih lazada barangnya udh ada bagusss pokinya gk nyesel"
        ],
        [
         "14",
         "61325",
         "425364540",
         "good",
         "flashdisk berfungsi dgn baik dan packingnya raoi terimakasih transcend..😊"
        ],
        [
         "15",
         "35733",
         "346370253",
         "good",
         "pengiriman nya cepat, dan aman karena dikasih buble wrap. Dan Alhamdulillah gambar tv-nya bagus. semoga tv-nya awet. makasih lazada"
        ],
        [
         "16",
         "59413",
         "420810754",
         "good",
         "diterima dgn cpt pd hari yg sama stlh konfirmasi alamat. thanks"
        ],
        [
         "17",
         "4358",
         "108427944",
         "good",
         "Fungsional Baik, Barang oke banget"
        ],
        [
         "18",
         "44492",
         "377474275",
         "good",
         "awalnya saya ragu, stelah saya pesan alhmdlilah 2 hari barang yampe, sesui pesanan, barang oke , mantap betl tmksih lazada& seler 😍😘😘👍👍a"
        ],
        [
         "19",
         "41737",
         "368162166",
         "good",
         "oke mantap sesuai harapan. thanks lazada"
        ],
        [
         "20",
         "20196",
         "160032830",
         "good",
         "barang bgus cuma sayang software office tidak disertakan"
        ],
        [
         "21",
         "19320",
         "160032784",
         "good",
         "Barang bagus ori punya.. Trimaksih lazada"
        ],
        [
         "22",
         "29508",
         "202032",
         "good",
         "barang nya oke packingnya rapih, sangat puas"
        ],
        [
         "23",
         "6612",
         "115016620",
         "good",
         "Barang sampai sebelum waktunya, packingnya bagus, barang sangat bagus sesuai di gambarnya... Cihuuyy deh pokoknya"
        ],
        [
         "24",
         "15878",
         "160020846",
         "good",
         "barangnya bagus...top kalo mslh produk mah"
        ],
        [
         "25",
         "70979",
         "533174374",
         "good",
         "barangnya bagus, kecewa sama pengirimanya. untuk penjual jgn memilih expedisi yang lama sampai diluar perkiraan"
        ],
        [
         "26",
         "65183",
         "480270305",
         "good",
         "Mantap.... Pengiriman cepat... Semoga awet"
        ],
        [
         "27",
         "26507",
         "171506831",
         "bad",
         "Barang ok,bekerja dg normal... Tp sayang isi cuma 14 Gb... Yg 2gb kmn y?"
        ],
        [
         "28",
         "18873",
         "160030643",
         "good",
         "packing rapi, cepat sampai. kemarin bayar, hari ini sampe. thanks lazada"
        ],
        [
         "29",
         "46967",
         "377474277",
         "good",
         "Mantabbbbb"
        ],
        [
         "30",
         "64936",
         "469722667",
         "good",
         "bagua"
        ],
        [
         "31",
         "44561",
         "377474275",
         "good",
         "Berfungsi dengan baik, dapat dengan harga murah"
        ],
        [
         "32",
         "59350",
         "420810754",
         "good",
         "ko ga ada kartu garansinya???"
        ],
        [
         "33",
         "61396",
         "425932",
         "good",
         "Barangnya bagus..RECOMENDED 😉👍"
        ],
        [
         "34",
         "68977",
         "499862136",
         "good",
         "paket sesuai gbr. bonus komplit. harddisk jg fungsi normal. thxs"
        ],
        [
         "35",
         "50192",
         "392480709",
         "good",
         "mantap pket cpat smpai, wlpun brang yg lum di buka smga berfungsi dgn baik. mksh lazada, slalu puas blanja di lazada"
        ],
        [
         "36",
         "37636",
         "353608604",
         "good",
         "Good"
        ],
        [
         "37",
         "7791",
         "117225",
         "good",
         "oe sipp"
        ],
        [
         "38",
         "16336",
         "160022809",
         "good",
         "Recommended seller"
        ],
        [
         "39",
         "23004",
         "160041178",
         "good",
         "diterima dengan baik 2 hari setelah pesan. berfungsi dengan baik juga, sdh dicoba di galaxy s9"
        ],
        [
         "40",
         "74841",
         "599227",
         "bad",
         "packing rapih, barang datang cepat, tapi gak ada kartu garansinya."
        ],
        [
         "41",
         "412",
         "100125311",
         "bad",
         "Ketika barang datang, masih di luar kota. 2 minggubkemudian baru cek barang. Dari awal muncul pertanyaan karena di pembungkusnya sendiri tulisannya toshiba kapasitas 8 GB, sedangkan di Flashdisk memang tertulis 64 GB. Setelah dicoba untuk kopi file, ternyata banyak yang failed. Dan yang berhasil dikopi ternyata juga tidak dapat dibuka. Sepertinya ini hanyalah produk gagal buatan OEM yang dibuat asal-asalan untuk dijual murah. Dan pihak toko terlanjur membeli dalam jumlah banyak kemudian berusaha menjual dengan segala cara."
        ],
        [
         "42",
         "73629",
         "568196114",
         "good",
         "Maaf coment nya telat tv nya blm dipasang masih di dus nunggu seseorang dl kalo masalah gambar sy yakin indovision menjamin bagus tv baru sy . Barang mulus sdh priksa pesen nya jg cpt datang nuhun lazada 🙏"
        ],
        [
         "43",
         "22254",
         "160041178",
         "good",
         "paket sdh tiba dengan selamat,packing rapi,aman,produk original,bergaransi...blm digunakan,semoga awet"
        ],
        [
         "44",
         "74953",
         "605960124",
         "good",
         "emg ga prnh bosen dech blnja di lazada selalu top"
        ],
        [
         "45",
         "17199",
         "160026131",
         "good",
         "Slmt siang, mo tanya kl mo kredit barang mesti harus pakai kartu kredit ya? Gak bisa transfer & u/ dp nya berapa. Mksh"
        ],
        [
         "46",
         "79928",
         "8568099",
         "good",
         "Barang bagus dan bisa di pakai dengan baik,  pelayanan bagus dan cepat. Terima kasih lazada sukses terus iya...."
        ],
        [
         "47",
         "35454",
         "346370247",
         "good",
         "produk ori berkualitas"
        ],
        [
         "48",
         "42247",
         "376101513",
         "bad",
         "Fleshdisk ini walaupun KW dan di jual berfungsi untuk di pakai, kenapa pada saat menyimpan data ke fleshdisk nya ,...?? saya tidak merasa puas .. saya beli 5 tidak ada yang jalan lalu saya buang jauh2"
        ],
        [
         "49",
         "73303",
         "568184660",
         "good",
         "juraaaaa tv nyaa"
        ]
       ],
       "shape": {
        "columns": 4,
        "rows": 41549
       }
      },
      "text/html": [
       "<div>\n",
       "<style scoped>\n",
       "    .dataframe tbody tr th:only-of-type {\n",
       "        vertical-align: middle;\n",
       "    }\n",
       "\n",
       "    .dataframe tbody tr th {\n",
       "        vertical-align: top;\n",
       "    }\n",
       "\n",
       "    .dataframe thead th {\n",
       "        text-align: right;\n",
       "    }\n",
       "</style>\n",
       "<table border=\"1\" class=\"dataframe\">\n",
       "  <thead>\n",
       "    <tr style=\"text-align: right;\">\n",
       "      <th></th>\n",
       "      <th>index</th>\n",
       "      <th>itemId</th>\n",
       "      <th>rating</th>\n",
       "      <th>reviewContent</th>\n",
       "    </tr>\n",
       "  </thead>\n",
       "  <tbody>\n",
       "    <tr>\n",
       "      <th>0</th>\n",
       "      <td>15051</td>\n",
       "      <td>160020846</td>\n",
       "      <td>good</td>\n",
       "      <td>barang sudah sampai paking y rapi mksih lazada</td>\n",
       "    </tr>\n",
       "    <tr>\n",
       "      <th>1</th>\n",
       "      <td>31469</td>\n",
       "      <td>278127</td>\n",
       "      <td>good</td>\n",
       "      <td>barang sesuai pesanan</td>\n",
       "    </tr>\n",
       "    <tr>\n",
       "      <th>2</th>\n",
       "      <td>11005</td>\n",
       "      <td>140953986</td>\n",
       "      <td>good</td>\n",
       "      <td>Barang sudah diterima tepat waktu. Kualitas ba...</td>\n",
       "    </tr>\n",
       "    <tr>\n",
       "      <th>3</th>\n",
       "      <td>48373</td>\n",
       "      <td>389216525</td>\n",
       "      <td>good</td>\n",
       "      <td>Pembelian kedua...tidak secepat pembelian pert...</td>\n",
       "    </tr>\n",
       "    <tr>\n",
       "      <th>4</th>\n",
       "      <td>68812</td>\n",
       "      <td>498408088</td>\n",
       "      <td>good</td>\n",
       "      <td>bagus bagat barang ya gan 😁 😀</td>\n",
       "    </tr>\n",
       "    <tr>\n",
       "      <th>...</th>\n",
       "      <td>...</td>\n",
       "      <td>...</td>\n",
       "      <td>...</td>\n",
       "      <td>...</td>\n",
       "    </tr>\n",
       "    <tr>\n",
       "      <th>41544</th>\n",
       "      <td>38430</td>\n",
       "      <td>354115963</td>\n",
       "      <td>good</td>\n",
       "      <td>sesuai pesanan</td>\n",
       "    </tr>\n",
       "    <tr>\n",
       "      <th>41545</th>\n",
       "      <td>39962</td>\n",
       "      <td>357431547</td>\n",
       "      <td>good</td>\n",
       "      <td>bagus.</td>\n",
       "    </tr>\n",
       "    <tr>\n",
       "      <th>41546</th>\n",
       "      <td>20273</td>\n",
       "      <td>160032830</td>\n",
       "      <td>good</td>\n",
       "      <td>barang bagus hanya saja untuk microsft office ...</td>\n",
       "    </tr>\n",
       "    <tr>\n",
       "      <th>41547</th>\n",
       "      <td>74785</td>\n",
       "      <td>5975849</td>\n",
       "      <td>good</td>\n",
       "      <td>mantapz</td>\n",
       "    </tr>\n",
       "    <tr>\n",
       "      <th>41548</th>\n",
       "      <td>15021</td>\n",
       "      <td>160020846</td>\n",
       "      <td>good</td>\n",
       "      <td>tv bagus tinggal cari antena yg cocok aja. sya...</td>\n",
       "    </tr>\n",
       "  </tbody>\n",
       "</table>\n",
       "<p>41549 rows × 4 columns</p>\n",
       "</div>"
      ],
      "text/plain": [
       "       index     itemId rating  \\\n",
       "0      15051  160020846   good   \n",
       "1      31469     278127   good   \n",
       "2      11005  140953986   good   \n",
       "3      48373  389216525   good   \n",
       "4      68812  498408088   good   \n",
       "...      ...        ...    ...   \n",
       "41544  38430  354115963   good   \n",
       "41545  39962  357431547   good   \n",
       "41546  20273  160032830   good   \n",
       "41547  74785    5975849   good   \n",
       "41548  15021  160020846   good   \n",
       "\n",
       "                                           reviewContent  \n",
       "0         barang sudah sampai paking y rapi mksih lazada  \n",
       "1                                  barang sesuai pesanan  \n",
       "2      Barang sudah diterima tepat waktu. Kualitas ba...  \n",
       "3      Pembelian kedua...tidak secepat pembelian pert...  \n",
       "4                          bagus bagat barang ya gan 😁 😀  \n",
       "...                                                  ...  \n",
       "41544                                     sesuai pesanan  \n",
       "41545                                             bagus.  \n",
       "41546  barang bagus hanya saja untuk microsft office ...  \n",
       "41547                                            mantapz  \n",
       "41548  tv bagus tinggal cari antena yg cocok aja. sya...  \n",
       "\n",
       "[41549 rows x 4 columns]"
      ]
     },
     "execution_count": 10,
     "metadata": {},
     "output_type": "execute_result"
    }
   ],
   "source": [
    "used_data_coded = used_data_coded.sample(frac=1, random_state=69420)\n",
    "used_data_coded = used_data_coded.reset_index()\n",
    "\n",
    "used_data_coded"
   ]
  },
  {
   "cell_type": "code",
   "execution_count": 11,
   "id": "e72a0548",
   "metadata": {},
   "outputs": [
    {
     "name": "stdout",
     "output_type": "stream",
     "text": [
      "\n",
      "(5172, 4)\n",
      "(5172, 4)\n",
      "\n"
     ]
    },
    {
     "data": {
      "application/vnd.microsoft.datawrangler.viewer.v0+json": {
       "columns": [
        {
         "name": "index",
         "rawType": "int64",
         "type": "integer"
        },
        {
         "name": "itemId",
         "rawType": "int64",
         "type": "integer"
        },
        {
         "name": "rating",
         "rawType": "object",
         "type": "string"
        },
        {
         "name": "reviewContent",
         "rawType": "object",
         "type": "string"
        }
       ],
       "conversionMethod": "pd.DataFrame",
       "ref": "999bea14-5d15-48c6-8e8e-45a9773c1e34",
       "rows": [
        [
         "0",
         "108702758",
         "good",
         "pesanan sudah saya terima dengan baik...dan sangat cepat...terima kasih lazada"
        ],
        [
         "1",
         "368162161",
         "bad",
         "ngk tw kenapa mngkn krna wkt pas pengirimannya ato dari sananya,  jadi waktu pas dihidupin ngk bisa kyk eror gt.  untungnya di sini ada service asus yg resmi. tpi klo utk packing dll bgus kok"
        ],
        [
         "2",
         "121244218",
         "good",
         "Good trusted seller"
        ],
        [
         "3",
         "160030643",
         "bad",
         "lhaaa,,, saya berulang kali mesen dengan alamat yang sama, kok yg ini malah gagal sampai? pasti salah di si pengirim ni, karna saya input alamat saya selengkaplengkapnya. yasudahlah"
        ],
        [
         "4",
         "160022809",
         "bad",
         "Pesanan informasi dari lazada barang telah dikirim dengan pengiriman standar melalui Kantor pos sabtu 13 januari -16 januari 2018 pesanan akan tiba namun  Sampai hari ini kamis 18 januari 2018 pesanan  belum juga sampai Sudah kami cek ternyata no resi yang di berikan dari lazada belum terdaftar di kanror pos..bagaimana ini...  Benar ga sih... Jualannya.."
        ],
        [
         "5",
         "117276149",
         "bad",
         "Seharusnya apabila weekend dan hari libur national tidak bisa pengiriman same day delivery, by system tidak akan muncul pilihan same day delivery! Ini sangat mengecewakan. Saya tidak mempermasalahkan 10rb tambahan biaya kirim, tetapi ekspektasi dan realita yang diharapkan tidak sama. Mohon system tersebut ditinjau ulang. Dan semoga tidak merugikan pembeli yang memang membutuhkan barang tersebut segera. Semoga ini ditinjau dan tidak ada customer lain yang seperti saya."
        ],
        [
         "6",
         "160029819",
         "bad",
         "beli cod ke jkt knp bs tiba ampe 3 mgg."
        ],
        [
         "7",
         "160035210",
         "bad",
         "Barang sudah diterima, tp kondisi memprihatinkan, panel led sdah retak kecil berbentuk oval, mungkin kesalahan dari expedisi, tp masa iya tv baru cepat sekali panel led nya pecah, saya sangat kecewa mana barang sampai 1 hari setelah estimasi waktu terlama, order tgl 07 desember sampai di palangkaraya tgl 18 desember, sedangkan tgl estimasi waktu terlama 17 desember.ckck"
        ],
        [
         "8",
         "160030643",
         "good",
         "Bagus kak.yang banyak tanya kok cuma 14.5 gb itu tuh yang 1.5 gb nya buat instalasi update dari sandisk nya,pokonnya goood jobbb deh"
        ],
        [
         "9",
         "164043155",
         "bad",
         "flasdisk rusak.. nyesel"
        ],
        [
         "10",
         "407826874",
         "bad",
         "brg sdh diterima tpi kap cuma 4G,, mau d retur males lagi,, sesuai dgn harga,, trims"
        ],
        [
         "11",
         "638580644",
         "good",
         "bagus banget tv nya..smua kondisi ok."
        ],
        [
         "12",
         "392480709",
         "good",
         "Terimakasih Lazada sudah mengajarkan untuk bersabar dalam menunggu pengiriman yang lama 😊 Produk datang dengan selamat tanpa cacat apapun, walau packing hanya bubblewrap saja Pengiriman telat 1 hari dari estimasi.  Terimakasih juga untuk admin yang sabar menanggapi 👍"
        ],
        [
         "13",
         "121804031",
         "bad",
         "ga bisa dipake sama sekali !! USB rusakkkkkkkkk !! saya minta diganti sm yg berfungsi !!"
        ],
        [
         "14",
         "377474274",
         "good",
         "bagus tv nya semoga awet"
        ],
        [
         "15",
         "121244218",
         "good",
         "i like the stuff. great stuff..cheapp quality.. so great."
        ],
        [
         "16",
         "368162161",
         "good",
         "barang bagus dan pengiriman cepat. seller recommended"
        ],
        [
         "17",
         "117276146",
         "good",
         "mantaaappppp"
        ],
        [
         "18",
         "377474273",
         "good",
         "sekian lama menanti akhirnya datang kmarin, tpi ada sdikit kcelakaan dan langsung di retur,,,,sekedar masukan buat pihak lazada kalau kirim brang kususnya elektro tolong di pakai kayu biar lebih aman,,,,,semoga returnya cpet di ACC,,,,trimakasih lazada"
        ],
        [
         "19",
         "553861",
         "bad",
         "sayangnya hisense pureshot CDMA tidak mendukung fitur OTG"
        ],
        [
         "20",
         "112002447",
         "bad",
         "Pengiriman dari surabaya? ??? Ternyata jack nya ygcabang 3.harus beli lagi. Program ws nya harus di scan lagi. Repot sih. .thanks ya lazada"
        ],
        [
         "21",
         "4681717",
         "good",
         "cepet sampenya...kereeen boos"
        ],
        [
         "22",
         "419970560",
         "good",
         "good, barang bagus"
        ],
        [
         "23",
         "497476665",
         "good",
         "kami transfer tgl 4 april, tv kmi terima tgl 6... cpt sekali... kmi tinggal di Timika Papua... Terima ksh lazada dan sinar Agung elektronik store... puas banget..."
        ],
        [
         "24",
         "105528768",
         "good",
         "bagus barangnya,"
        ],
        [
         "25",
         "278131",
         "bad",
         "Saya pesen flash disk 32 giga dikirimnya 16 giga bagaimana ini gan..."
        ],
        [
         "26",
         "1063115",
         "bad",
         "Warnanya sesuai, pengiriman juga cepat, tapi kegedean sekali barangnya, gak muat untuk hardisk nya"
        ],
        [
         "27",
         "377474273",
         "good",
         "aku mennggu hooq nya"
        ],
        [
         "28",
         "377474273",
         "bad",
         "setelah nunggu 8 hari akhirnya sampai juga."
        ],
        [
         "29",
         "160022809",
         "bad",
         "TV cukup bagus untuk harga 2 jt an"
        ],
        [
         "30",
         "553861",
         "good",
         "Barang sudah diterima,  barang bagus, terimakasih lazada"
        ],
        [
         "31",
         "377474274",
         "bad",
         "buku garansinya seperti apa ya contohnya? soalnya saya cari buku garansinya tidak ada"
        ],
        [
         "32",
         "165471114",
         "bad",
         "Sudah terlanjur beli banyak ternyata Flashdisk tdk berfungsi semua, diisi file dan film* tiba* hide dan gak kebaca, not recomended"
        ],
        [
         "33",
         "377474274",
         "bad",
         "barang sesuai dengan deskripsi, cuma sayang pengirimannya agak lambat, tapi oke lahh good coocaa"
        ],
        [
         "34",
         "122563623",
         "bad",
         "Sayang tidak ada bracket nya... katanya dapat gratis"
        ],
        [
         "35",
         "126587508",
         "good",
         "Pesanan TV Toshiba sesuai dg yg saya pesan, makasih Kencana Electronic...bintang 5"
        ],
        [
         "36",
         "6636014",
         "good",
         "Order diterima sesuai pesanan. ekspedisi cepat hanya 2 hari. selanjutnya akan dicoba dlu, semoga tidak ada masalah. thx."
        ],
        [
         "37",
         "377474276",
         "bad",
         "barang sampai 6 hari ckup lumayan, belum full HD si menurut saya masi HD tp oke la harga segini. sampai work minus tidak packing kayu."
        ],
        [
         "38",
         "170612",
         "bad",
         "Ga kecewa aku.. Barang nya oke.. Thankss yaaa"
        ],
        [
         "39",
         "160032784",
         "bad",
         "Paket baru saya terima. Setelah dicek layar tv pecah. Tolong untuk di ganti"
        ],
        [
         "40",
         "487888581",
         "good",
         "bagus bget gk ada yg cacat kurirnya ramah..dan cepet bget pengirimanya lope lope thx lazada"
        ],
        [
         "41",
         "487112094",
         "bad",
         "Harapannya seneng tapi ternyata kecewa berat flasdisknya di isi file setiap kita pindah datanya ngilang sendiri,  dan anehnya klo kita cek di laptop file nya ada tapi ndak bisa di buka, jujur kecewa banget kali ini sama lazada"
        ],
        [
         "42",
         "170492809",
         "bad",
         "brngnya erorrr...payah hufff"
        ],
        [
         "43",
         "160008566",
         "good",
         "super sekali.... cuma butuh waktu 2 hari dan barang selamat sampai tujuan, berfungsi dengan baik. kurir ramah lagi dan tentunya dapat free ongkir. the best dah. makasih seller makasih lazada"
        ],
        [
         "44",
         "144775880",
         "good",
         "barangnya gk bisa dipake, gk nyimpen data"
        ],
        [
         "45",
         "2325989",
         "good",
         "kwalitas bagus tapi sayangnya produk KW jadi buat game ps2 tidak bisa,, sayang sekali"
        ],
        [
         "46",
         "377474273",
         "bad",
         "barang sih bagus...cuman dalam pengiriman banyak ketidakpastian kapan sampai nya, udah gitu tanya ke cs lazada ttg kapan bisa sampai,  jawabannya cuman apakah transaksi mau dibatalkan saja, hmm solusi yg bagus :|"
        ],
        [
         "47",
         "6137822",
         "bad",
         "Packingnya kurang bagus, cuma bungkus plastik hitam aja.. Uk aslinya jg cuma 62 GB, tp lumayan lah.."
        ],
        [
         "48",
         "377474276",
         "bad",
         "Kiriman TV pecah...dikemas tanpa paking kayu...bantu percepat proses refund"
        ],
        [
         "49",
         "7730085",
         "bad",
         "barang rongsokan,, dipakai bbrp kali copy paste lngsng corrupt.. barang rongsokan sampah. NIPU!!!"
        ]
       ],
       "shape": {
        "columns": 3,
        "rows": 10344
       }
      },
      "text/html": [
       "<div>\n",
       "<style scoped>\n",
       "    .dataframe tbody tr th:only-of-type {\n",
       "        vertical-align: middle;\n",
       "    }\n",
       "\n",
       "    .dataframe tbody tr th {\n",
       "        vertical-align: top;\n",
       "    }\n",
       "\n",
       "    .dataframe thead th {\n",
       "        text-align: right;\n",
       "    }\n",
       "</style>\n",
       "<table border=\"1\" class=\"dataframe\">\n",
       "  <thead>\n",
       "    <tr style=\"text-align: right;\">\n",
       "      <th></th>\n",
       "      <th>itemId</th>\n",
       "      <th>rating</th>\n",
       "      <th>reviewContent</th>\n",
       "    </tr>\n",
       "  </thead>\n",
       "  <tbody>\n",
       "    <tr>\n",
       "      <th>0</th>\n",
       "      <td>108702758</td>\n",
       "      <td>good</td>\n",
       "      <td>pesanan sudah saya terima dengan baik...dan sa...</td>\n",
       "    </tr>\n",
       "    <tr>\n",
       "      <th>1</th>\n",
       "      <td>368162161</td>\n",
       "      <td>bad</td>\n",
       "      <td>ngk tw kenapa mngkn krna wkt pas pengirimannya...</td>\n",
       "    </tr>\n",
       "    <tr>\n",
       "      <th>2</th>\n",
       "      <td>121244218</td>\n",
       "      <td>good</td>\n",
       "      <td>Good trusted seller</td>\n",
       "    </tr>\n",
       "    <tr>\n",
       "      <th>3</th>\n",
       "      <td>160030643</td>\n",
       "      <td>bad</td>\n",
       "      <td>lhaaa,,, saya berulang kali mesen dengan alama...</td>\n",
       "    </tr>\n",
       "    <tr>\n",
       "      <th>4</th>\n",
       "      <td>160022809</td>\n",
       "      <td>bad</td>\n",
       "      <td>Pesanan informasi dari lazada barang telah dik...</td>\n",
       "    </tr>\n",
       "    <tr>\n",
       "      <th>...</th>\n",
       "      <td>...</td>\n",
       "      <td>...</td>\n",
       "      <td>...</td>\n",
       "    </tr>\n",
       "    <tr>\n",
       "      <th>10339</th>\n",
       "      <td>390739847</td>\n",
       "      <td>good</td>\n",
       "      <td>Barang bagus</td>\n",
       "    </tr>\n",
       "    <tr>\n",
       "      <th>10340</th>\n",
       "      <td>6137822</td>\n",
       "      <td>bad</td>\n",
       "      <td>Tolong dikirim kembali kok tiba tiba ada pesan...</td>\n",
       "    </tr>\n",
       "    <tr>\n",
       "      <th>10341</th>\n",
       "      <td>533174374</td>\n",
       "      <td>bad</td>\n",
       "      <td>Barang sangat jelek</td>\n",
       "    </tr>\n",
       "    <tr>\n",
       "      <th>10342</th>\n",
       "      <td>618142664</td>\n",
       "      <td>bad</td>\n",
       "      <td>data langsung error....harga yg berbicara</td>\n",
       "    </tr>\n",
       "    <tr>\n",
       "      <th>10343</th>\n",
       "      <td>379345686</td>\n",
       "      <td>good</td>\n",
       "      <td>mantap</td>\n",
       "    </tr>\n",
       "  </tbody>\n",
       "</table>\n",
       "<p>10344 rows × 3 columns</p>\n",
       "</div>"
      ],
      "text/plain": [
       "          itemId rating                                      reviewContent\n",
       "0      108702758   good  pesanan sudah saya terima dengan baik...dan sa...\n",
       "1      368162161    bad  ngk tw kenapa mngkn krna wkt pas pengirimannya...\n",
       "2      121244218   good                                Good trusted seller\n",
       "3      160030643    bad  lhaaa,,, saya berulang kali mesen dengan alama...\n",
       "4      160022809    bad  Pesanan informasi dari lazada barang telah dik...\n",
       "...          ...    ...                                                ...\n",
       "10339  390739847   good                                       Barang bagus\n",
       "10340    6137822    bad  Tolong dikirim kembali kok tiba tiba ada pesan...\n",
       "10341  533174374    bad                                Barang sangat jelek\n",
       "10342  618142664    bad          data langsung error....harga yg berbicara\n",
       "10343  379345686   good                                             mantap\n",
       "\n",
       "[10344 rows x 3 columns]"
      ]
     },
     "execution_count": 11,
     "metadata": {},
     "output_type": "execute_result"
    }
   ],
   "source": [
    "good_UDC = used_data_coded[used_data_coded[\"rating\"] == \"good\"]\n",
    "bad_UCD  = used_data_coded[used_data_coded[\"rating\"] == \"bad\"]\n",
    "\n",
    "good_UDC_under = good_UDC[:bad_UCD.shape[0]]\n",
    "\n",
    "new_data = pandas.concat([good_UDC_under, bad_UCD]).sample(frac=1, random_state=69420)\n",
    "new_data = new_data.reset_index().drop([\"level_0\", \"index\"], axis=1)\n",
    "\n",
    "print(f\"\"\"\n",
    "{good_UDC_under.shape}\n",
    "{bad_UCD       .shape}\n",
    "\"\"\")\n",
    "\n",
    "new_data"
   ]
  },
  {
   "cell_type": "code",
   "execution_count": 27,
   "id": "772d23ea",
   "metadata": {},
   "outputs": [],
   "source": [
    "review = new_data[\"reviewContent\"].apply(lambda x: indo_processor.process(x))"
   ]
  },
  {
   "cell_type": "code",
   "execution_count": 48,
   "id": "0aac207d",
   "metadata": {},
   "outputs": [
    {
     "data": {
      "text/plain": [
       "<Compressed Sparse Row sparse matrix of dtype 'float64'\n",
       "\twith 105026 stored elements and shape (10344, 5000)>"
      ]
     },
     "execution_count": 48,
     "metadata": {},
     "output_type": "execute_result"
    }
   ],
   "source": [
    "vectorizer = TfidfVectorizer(max_features=5000)\n",
    "X = vectorizer.fit_transform(review)\n",
    "Y = new_data[\"rating\"]\n",
    "\n",
    "X"
   ]
  },
  {
   "cell_type": "code",
   "execution_count": 49,
   "id": "d3f17496",
   "metadata": {},
   "outputs": [],
   "source": [
    "X_train, X_test, y_train, y_test = train_test_split(X, Y, test_size=0.2, random_state=69420)"
   ]
  },
  {
   "cell_type": "code",
   "execution_count": 50,
   "id": "c332eaae",
   "metadata": {},
   "outputs": [
    {
     "data": {
      "text/html": [
       "<style>#sk-container-id-7 {\n",
       "  /* Definition of color scheme common for light and dark mode */\n",
       "  --sklearn-color-text: #000;\n",
       "  --sklearn-color-text-muted: #666;\n",
       "  --sklearn-color-line: gray;\n",
       "  /* Definition of color scheme for unfitted estimators */\n",
       "  --sklearn-color-unfitted-level-0: #fff5e6;\n",
       "  --sklearn-color-unfitted-level-1: #f6e4d2;\n",
       "  --sklearn-color-unfitted-level-2: #ffe0b3;\n",
       "  --sklearn-color-unfitted-level-3: chocolate;\n",
       "  /* Definition of color scheme for fitted estimators */\n",
       "  --sklearn-color-fitted-level-0: #f0f8ff;\n",
       "  --sklearn-color-fitted-level-1: #d4ebff;\n",
       "  --sklearn-color-fitted-level-2: #b3dbfd;\n",
       "  --sklearn-color-fitted-level-3: cornflowerblue;\n",
       "\n",
       "  /* Specific color for light theme */\n",
       "  --sklearn-color-text-on-default-background: var(--sg-text-color, var(--theme-code-foreground, var(--jp-content-font-color1, black)));\n",
       "  --sklearn-color-background: var(--sg-background-color, var(--theme-background, var(--jp-layout-color0, white)));\n",
       "  --sklearn-color-border-box: var(--sg-text-color, var(--theme-code-foreground, var(--jp-content-font-color1, black)));\n",
       "  --sklearn-color-icon: #696969;\n",
       "\n",
       "  @media (prefers-color-scheme: dark) {\n",
       "    /* Redefinition of color scheme for dark theme */\n",
       "    --sklearn-color-text-on-default-background: var(--sg-text-color, var(--theme-code-foreground, var(--jp-content-font-color1, white)));\n",
       "    --sklearn-color-background: var(--sg-background-color, var(--theme-background, var(--jp-layout-color0, #111)));\n",
       "    --sklearn-color-border-box: var(--sg-text-color, var(--theme-code-foreground, var(--jp-content-font-color1, white)));\n",
       "    --sklearn-color-icon: #878787;\n",
       "  }\n",
       "}\n",
       "\n",
       "#sk-container-id-7 {\n",
       "  color: var(--sklearn-color-text);\n",
       "}\n",
       "\n",
       "#sk-container-id-7 pre {\n",
       "  padding: 0;\n",
       "}\n",
       "\n",
       "#sk-container-id-7 input.sk-hidden--visually {\n",
       "  border: 0;\n",
       "  clip: rect(1px 1px 1px 1px);\n",
       "  clip: rect(1px, 1px, 1px, 1px);\n",
       "  height: 1px;\n",
       "  margin: -1px;\n",
       "  overflow: hidden;\n",
       "  padding: 0;\n",
       "  position: absolute;\n",
       "  width: 1px;\n",
       "}\n",
       "\n",
       "#sk-container-id-7 div.sk-dashed-wrapped {\n",
       "  border: 1px dashed var(--sklearn-color-line);\n",
       "  margin: 0 0.4em 0.5em 0.4em;\n",
       "  box-sizing: border-box;\n",
       "  padding-bottom: 0.4em;\n",
       "  background-color: var(--sklearn-color-background);\n",
       "}\n",
       "\n",
       "#sk-container-id-7 div.sk-container {\n",
       "  /* jupyter's `normalize.less` sets `[hidden] { display: none; }`\n",
       "     but bootstrap.min.css set `[hidden] { display: none !important; }`\n",
       "     so we also need the `!important` here to be able to override the\n",
       "     default hidden behavior on the sphinx rendered scikit-learn.org.\n",
       "     See: https://github.com/scikit-learn/scikit-learn/issues/21755 */\n",
       "  display: inline-block !important;\n",
       "  position: relative;\n",
       "}\n",
       "\n",
       "#sk-container-id-7 div.sk-text-repr-fallback {\n",
       "  display: none;\n",
       "}\n",
       "\n",
       "div.sk-parallel-item,\n",
       "div.sk-serial,\n",
       "div.sk-item {\n",
       "  /* draw centered vertical line to link estimators */\n",
       "  background-image: linear-gradient(var(--sklearn-color-text-on-default-background), var(--sklearn-color-text-on-default-background));\n",
       "  background-size: 2px 100%;\n",
       "  background-repeat: no-repeat;\n",
       "  background-position: center center;\n",
       "}\n",
       "\n",
       "/* Parallel-specific style estimator block */\n",
       "\n",
       "#sk-container-id-7 div.sk-parallel-item::after {\n",
       "  content: \"\";\n",
       "  width: 100%;\n",
       "  border-bottom: 2px solid var(--sklearn-color-text-on-default-background);\n",
       "  flex-grow: 1;\n",
       "}\n",
       "\n",
       "#sk-container-id-7 div.sk-parallel {\n",
       "  display: flex;\n",
       "  align-items: stretch;\n",
       "  justify-content: center;\n",
       "  background-color: var(--sklearn-color-background);\n",
       "  position: relative;\n",
       "}\n",
       "\n",
       "#sk-container-id-7 div.sk-parallel-item {\n",
       "  display: flex;\n",
       "  flex-direction: column;\n",
       "}\n",
       "\n",
       "#sk-container-id-7 div.sk-parallel-item:first-child::after {\n",
       "  align-self: flex-end;\n",
       "  width: 50%;\n",
       "}\n",
       "\n",
       "#sk-container-id-7 div.sk-parallel-item:last-child::after {\n",
       "  align-self: flex-start;\n",
       "  width: 50%;\n",
       "}\n",
       "\n",
       "#sk-container-id-7 div.sk-parallel-item:only-child::after {\n",
       "  width: 0;\n",
       "}\n",
       "\n",
       "/* Serial-specific style estimator block */\n",
       "\n",
       "#sk-container-id-7 div.sk-serial {\n",
       "  display: flex;\n",
       "  flex-direction: column;\n",
       "  align-items: center;\n",
       "  background-color: var(--sklearn-color-background);\n",
       "  padding-right: 1em;\n",
       "  padding-left: 1em;\n",
       "}\n",
       "\n",
       "\n",
       "/* Toggleable style: style used for estimator/Pipeline/ColumnTransformer box that is\n",
       "clickable and can be expanded/collapsed.\n",
       "- Pipeline and ColumnTransformer use this feature and define the default style\n",
       "- Estimators will overwrite some part of the style using the `sk-estimator` class\n",
       "*/\n",
       "\n",
       "/* Pipeline and ColumnTransformer style (default) */\n",
       "\n",
       "#sk-container-id-7 div.sk-toggleable {\n",
       "  /* Default theme specific background. It is overwritten whether we have a\n",
       "  specific estimator or a Pipeline/ColumnTransformer */\n",
       "  background-color: var(--sklearn-color-background);\n",
       "}\n",
       "\n",
       "/* Toggleable label */\n",
       "#sk-container-id-7 label.sk-toggleable__label {\n",
       "  cursor: pointer;\n",
       "  display: flex;\n",
       "  width: 100%;\n",
       "  margin-bottom: 0;\n",
       "  padding: 0.5em;\n",
       "  box-sizing: border-box;\n",
       "  text-align: center;\n",
       "  align-items: start;\n",
       "  justify-content: space-between;\n",
       "  gap: 0.5em;\n",
       "}\n",
       "\n",
       "#sk-container-id-7 label.sk-toggleable__label .caption {\n",
       "  font-size: 0.6rem;\n",
       "  font-weight: lighter;\n",
       "  color: var(--sklearn-color-text-muted);\n",
       "}\n",
       "\n",
       "#sk-container-id-7 label.sk-toggleable__label-arrow:before {\n",
       "  /* Arrow on the left of the label */\n",
       "  content: \"▸\";\n",
       "  float: left;\n",
       "  margin-right: 0.25em;\n",
       "  color: var(--sklearn-color-icon);\n",
       "}\n",
       "\n",
       "#sk-container-id-7 label.sk-toggleable__label-arrow:hover:before {\n",
       "  color: var(--sklearn-color-text);\n",
       "}\n",
       "\n",
       "/* Toggleable content - dropdown */\n",
       "\n",
       "#sk-container-id-7 div.sk-toggleable__content {\n",
       "  max-height: 0;\n",
       "  max-width: 0;\n",
       "  overflow: hidden;\n",
       "  text-align: left;\n",
       "  /* unfitted */\n",
       "  background-color: var(--sklearn-color-unfitted-level-0);\n",
       "}\n",
       "\n",
       "#sk-container-id-7 div.sk-toggleable__content.fitted {\n",
       "  /* fitted */\n",
       "  background-color: var(--sklearn-color-fitted-level-0);\n",
       "}\n",
       "\n",
       "#sk-container-id-7 div.sk-toggleable__content pre {\n",
       "  margin: 0.2em;\n",
       "  border-radius: 0.25em;\n",
       "  color: var(--sklearn-color-text);\n",
       "  /* unfitted */\n",
       "  background-color: var(--sklearn-color-unfitted-level-0);\n",
       "}\n",
       "\n",
       "#sk-container-id-7 div.sk-toggleable__content.fitted pre {\n",
       "  /* unfitted */\n",
       "  background-color: var(--sklearn-color-fitted-level-0);\n",
       "}\n",
       "\n",
       "#sk-container-id-7 input.sk-toggleable__control:checked~div.sk-toggleable__content {\n",
       "  /* Expand drop-down */\n",
       "  max-height: 200px;\n",
       "  max-width: 100%;\n",
       "  overflow: auto;\n",
       "}\n",
       "\n",
       "#sk-container-id-7 input.sk-toggleable__control:checked~label.sk-toggleable__label-arrow:before {\n",
       "  content: \"▾\";\n",
       "}\n",
       "\n",
       "/* Pipeline/ColumnTransformer-specific style */\n",
       "\n",
       "#sk-container-id-7 div.sk-label input.sk-toggleable__control:checked~label.sk-toggleable__label {\n",
       "  color: var(--sklearn-color-text);\n",
       "  background-color: var(--sklearn-color-unfitted-level-2);\n",
       "}\n",
       "\n",
       "#sk-container-id-7 div.sk-label.fitted input.sk-toggleable__control:checked~label.sk-toggleable__label {\n",
       "  background-color: var(--sklearn-color-fitted-level-2);\n",
       "}\n",
       "\n",
       "/* Estimator-specific style */\n",
       "\n",
       "/* Colorize estimator box */\n",
       "#sk-container-id-7 div.sk-estimator input.sk-toggleable__control:checked~label.sk-toggleable__label {\n",
       "  /* unfitted */\n",
       "  background-color: var(--sklearn-color-unfitted-level-2);\n",
       "}\n",
       "\n",
       "#sk-container-id-7 div.sk-estimator.fitted input.sk-toggleable__control:checked~label.sk-toggleable__label {\n",
       "  /* fitted */\n",
       "  background-color: var(--sklearn-color-fitted-level-2);\n",
       "}\n",
       "\n",
       "#sk-container-id-7 div.sk-label label.sk-toggleable__label,\n",
       "#sk-container-id-7 div.sk-label label {\n",
       "  /* The background is the default theme color */\n",
       "  color: var(--sklearn-color-text-on-default-background);\n",
       "}\n",
       "\n",
       "/* On hover, darken the color of the background */\n",
       "#sk-container-id-7 div.sk-label:hover label.sk-toggleable__label {\n",
       "  color: var(--sklearn-color-text);\n",
       "  background-color: var(--sklearn-color-unfitted-level-2);\n",
       "}\n",
       "\n",
       "/* Label box, darken color on hover, fitted */\n",
       "#sk-container-id-7 div.sk-label.fitted:hover label.sk-toggleable__label.fitted {\n",
       "  color: var(--sklearn-color-text);\n",
       "  background-color: var(--sklearn-color-fitted-level-2);\n",
       "}\n",
       "\n",
       "/* Estimator label */\n",
       "\n",
       "#sk-container-id-7 div.sk-label label {\n",
       "  font-family: monospace;\n",
       "  font-weight: bold;\n",
       "  display: inline-block;\n",
       "  line-height: 1.2em;\n",
       "}\n",
       "\n",
       "#sk-container-id-7 div.sk-label-container {\n",
       "  text-align: center;\n",
       "}\n",
       "\n",
       "/* Estimator-specific */\n",
       "#sk-container-id-7 div.sk-estimator {\n",
       "  font-family: monospace;\n",
       "  border: 1px dotted var(--sklearn-color-border-box);\n",
       "  border-radius: 0.25em;\n",
       "  box-sizing: border-box;\n",
       "  margin-bottom: 0.5em;\n",
       "  /* unfitted */\n",
       "  background-color: var(--sklearn-color-unfitted-level-0);\n",
       "}\n",
       "\n",
       "#sk-container-id-7 div.sk-estimator.fitted {\n",
       "  /* fitted */\n",
       "  background-color: var(--sklearn-color-fitted-level-0);\n",
       "}\n",
       "\n",
       "/* on hover */\n",
       "#sk-container-id-7 div.sk-estimator:hover {\n",
       "  /* unfitted */\n",
       "  background-color: var(--sklearn-color-unfitted-level-2);\n",
       "}\n",
       "\n",
       "#sk-container-id-7 div.sk-estimator.fitted:hover {\n",
       "  /* fitted */\n",
       "  background-color: var(--sklearn-color-fitted-level-2);\n",
       "}\n",
       "\n",
       "/* Specification for estimator info (e.g. \"i\" and \"?\") */\n",
       "\n",
       "/* Common style for \"i\" and \"?\" */\n",
       "\n",
       ".sk-estimator-doc-link,\n",
       "a:link.sk-estimator-doc-link,\n",
       "a:visited.sk-estimator-doc-link {\n",
       "  float: right;\n",
       "  font-size: smaller;\n",
       "  line-height: 1em;\n",
       "  font-family: monospace;\n",
       "  background-color: var(--sklearn-color-background);\n",
       "  border-radius: 1em;\n",
       "  height: 1em;\n",
       "  width: 1em;\n",
       "  text-decoration: none !important;\n",
       "  margin-left: 0.5em;\n",
       "  text-align: center;\n",
       "  /* unfitted */\n",
       "  border: var(--sklearn-color-unfitted-level-1) 1pt solid;\n",
       "  color: var(--sklearn-color-unfitted-level-1);\n",
       "}\n",
       "\n",
       ".sk-estimator-doc-link.fitted,\n",
       "a:link.sk-estimator-doc-link.fitted,\n",
       "a:visited.sk-estimator-doc-link.fitted {\n",
       "  /* fitted */\n",
       "  border: var(--sklearn-color-fitted-level-1) 1pt solid;\n",
       "  color: var(--sklearn-color-fitted-level-1);\n",
       "}\n",
       "\n",
       "/* On hover */\n",
       "div.sk-estimator:hover .sk-estimator-doc-link:hover,\n",
       ".sk-estimator-doc-link:hover,\n",
       "div.sk-label-container:hover .sk-estimator-doc-link:hover,\n",
       ".sk-estimator-doc-link:hover {\n",
       "  /* unfitted */\n",
       "  background-color: var(--sklearn-color-unfitted-level-3);\n",
       "  color: var(--sklearn-color-background);\n",
       "  text-decoration: none;\n",
       "}\n",
       "\n",
       "div.sk-estimator.fitted:hover .sk-estimator-doc-link.fitted:hover,\n",
       ".sk-estimator-doc-link.fitted:hover,\n",
       "div.sk-label-container:hover .sk-estimator-doc-link.fitted:hover,\n",
       ".sk-estimator-doc-link.fitted:hover {\n",
       "  /* fitted */\n",
       "  background-color: var(--sklearn-color-fitted-level-3);\n",
       "  color: var(--sklearn-color-background);\n",
       "  text-decoration: none;\n",
       "}\n",
       "\n",
       "/* Span, style for the box shown on hovering the info icon */\n",
       ".sk-estimator-doc-link span {\n",
       "  display: none;\n",
       "  z-index: 9999;\n",
       "  position: relative;\n",
       "  font-weight: normal;\n",
       "  right: .2ex;\n",
       "  padding: .5ex;\n",
       "  margin: .5ex;\n",
       "  width: min-content;\n",
       "  min-width: 20ex;\n",
       "  max-width: 50ex;\n",
       "  color: var(--sklearn-color-text);\n",
       "  box-shadow: 2pt 2pt 4pt #999;\n",
       "  /* unfitted */\n",
       "  background: var(--sklearn-color-unfitted-level-0);\n",
       "  border: .5pt solid var(--sklearn-color-unfitted-level-3);\n",
       "}\n",
       "\n",
       ".sk-estimator-doc-link.fitted span {\n",
       "  /* fitted */\n",
       "  background: var(--sklearn-color-fitted-level-0);\n",
       "  border: var(--sklearn-color-fitted-level-3);\n",
       "}\n",
       "\n",
       ".sk-estimator-doc-link:hover span {\n",
       "  display: block;\n",
       "}\n",
       "\n",
       "/* \"?\"-specific style due to the `<a>` HTML tag */\n",
       "\n",
       "#sk-container-id-7 a.estimator_doc_link {\n",
       "  float: right;\n",
       "  font-size: 1rem;\n",
       "  line-height: 1em;\n",
       "  font-family: monospace;\n",
       "  background-color: var(--sklearn-color-background);\n",
       "  border-radius: 1rem;\n",
       "  height: 1rem;\n",
       "  width: 1rem;\n",
       "  text-decoration: none;\n",
       "  /* unfitted */\n",
       "  color: var(--sklearn-color-unfitted-level-1);\n",
       "  border: var(--sklearn-color-unfitted-level-1) 1pt solid;\n",
       "}\n",
       "\n",
       "#sk-container-id-7 a.estimator_doc_link.fitted {\n",
       "  /* fitted */\n",
       "  border: var(--sklearn-color-fitted-level-1) 1pt solid;\n",
       "  color: var(--sklearn-color-fitted-level-1);\n",
       "}\n",
       "\n",
       "/* On hover */\n",
       "#sk-container-id-7 a.estimator_doc_link:hover {\n",
       "  /* unfitted */\n",
       "  background-color: var(--sklearn-color-unfitted-level-3);\n",
       "  color: var(--sklearn-color-background);\n",
       "  text-decoration: none;\n",
       "}\n",
       "\n",
       "#sk-container-id-7 a.estimator_doc_link.fitted:hover {\n",
       "  /* fitted */\n",
       "  background-color: var(--sklearn-color-fitted-level-3);\n",
       "}\n",
       "</style><div id=\"sk-container-id-7\" class=\"sk-top-container\"><div class=\"sk-text-repr-fallback\"><pre>LogisticRegression(max_iter=1000)</pre><b>In a Jupyter environment, please rerun this cell to show the HTML representation or trust the notebook. <br />On GitHub, the HTML representation is unable to render, please try loading this page with nbviewer.org.</b></div><div class=\"sk-container\" hidden><div class=\"sk-item\"><div class=\"sk-estimator fitted sk-toggleable\"><input class=\"sk-toggleable__control sk-hidden--visually\" id=\"sk-estimator-id-7\" type=\"checkbox\" checked><label for=\"sk-estimator-id-7\" class=\"sk-toggleable__label fitted sk-toggleable__label-arrow\"><div><div>LogisticRegression</div></div><div><a class=\"sk-estimator-doc-link fitted\" rel=\"noreferrer\" target=\"_blank\" href=\"https://scikit-learn.org/1.6/modules/generated/sklearn.linear_model.LogisticRegression.html\">?<span>Documentation for LogisticRegression</span></a><span class=\"sk-estimator-doc-link fitted\">i<span>Fitted</span></span></div></label><div class=\"sk-toggleable__content fitted\"><pre>LogisticRegression(max_iter=1000)</pre></div> </div></div></div></div>"
      ],
      "text/plain": [
       "LogisticRegression(max_iter=1000)"
      ]
     },
     "execution_count": 50,
     "metadata": {},
     "output_type": "execute_result"
    }
   ],
   "source": [
    "\n",
    "model = LogisticRegression(max_iter=1000)\n",
    "model.fit(X_train, y_train)"
   ]
  },
  {
   "cell_type": "code",
   "execution_count": 51,
   "id": "fe5c4ee4",
   "metadata": {},
   "outputs": [
    {
     "name": "stdout",
     "output_type": "stream",
     "text": [
      "Accuracy: 0.8376027066215563\n",
      "\n",
      "Classification Report:\n",
      "               precision    recall  f1-score   support\n",
      "\n",
      "         bad       0.84      0.84      0.84      1051\n",
      "        good       0.84      0.83      0.83      1018\n",
      "\n",
      "    accuracy                           0.84      2069\n",
      "   macro avg       0.84      0.84      0.84      2069\n",
      "weighted avg       0.84      0.84      0.84      2069\n",
      "\n"
     ]
    }
   ],
   "source": [
    "y_pred = model.predict(X_test)\n",
    "\n",
    "print(\"Accuracy:\", accuracy_score(y_test, y_pred))\n",
    "print(\"\\nClassification Report:\\n\", classification_report(y_test, y_pred))"
   ]
  },
  {
   "cell_type": "code",
   "execution_count": 53,
   "id": "d4c06ae5",
   "metadata": {},
   "outputs": [
    {
     "data": {
      "text/plain": [
       "['vectorizer.pkl']"
      ]
     },
     "execution_count": 53,
     "metadata": {},
     "output_type": "execute_result"
    }
   ],
   "source": [
    "joblib.dump(model, \"classifier.pkl\")\n",
    "joblib.dump(vectorizer, \"vectorizer.pkl\")"
   ]
  },
  {
   "cell_type": "code",
   "execution_count": null,
   "id": "750daf24",
   "metadata": {},
   "outputs": [],
   "source": []
  }
 ],
 "metadata": {
  "kernelspec": {
   "display_name": "Python 3",
   "language": "python",
   "name": "python3"
  },
  "language_info": {
   "codemirror_mode": {
    "name": "ipython",
    "version": 3
   },
   "file_extension": ".py",
   "mimetype": "text/x-python",
   "name": "python",
   "nbconvert_exporter": "python",
   "pygments_lexer": "ipython3",
   "version": "3.13.3"
  }
 },
 "nbformat": 4,
 "nbformat_minor": 5
}

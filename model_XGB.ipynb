{
 "cells": [
  {
   "cell_type": "code",
   "execution_count": null,
   "id": "08f4c588",
   "metadata": {},
   "outputs": [],
   "source": [
    "import pandas, indo_processor, joblib\n",
    "from xgboost import XGBClassifier\n",
    "from sklearn.feature_extraction.text import TfidfVectorizer\n",
    "from sklearn.model_selection import train_test_split, RandomizedSearchCV\n",
    "from sklearn.metrics import classification_report, accuracy_score"
   ]
  },
  {
   "cell_type": "markdown",
   "id": "0b856dc3",
   "metadata": {},
   "source": [
    "# Load data and clean"
   ]
  },
  {
   "cell_type": "code",
   "execution_count": null,
   "id": "a0b5b044",
   "metadata": {},
   "outputs": [
    {
     "data": {
      "application/vnd.microsoft.datawrangler.viewer.v0+json": {
       "columns": [
        {
         "name": "index",
         "rawType": "int64",
         "type": "integer"
        },
        {
         "name": "itemId",
         "rawType": "int64",
         "type": "integer"
        },
        {
         "name": "category",
         "rawType": "object",
         "type": "string"
        },
        {
         "name": "name",
         "rawType": "object",
         "type": "string"
        },
        {
         "name": "rating",
         "rawType": "int64",
         "type": "integer"
        },
        {
         "name": "originalRating",
         "rawType": "float64",
         "type": "float"
        },
        {
         "name": "reviewTitle",
         "rawType": "object",
         "type": "unknown"
        },
        {
         "name": "reviewContent",
         "rawType": "object",
         "type": "unknown"
        },
        {
         "name": "likeCount",
         "rawType": "int64",
         "type": "integer"
        },
        {
         "name": "upVotes",
         "rawType": "int64",
         "type": "integer"
        },
        {
         "name": "downVotes",
         "rawType": "int64",
         "type": "integer"
        },
        {
         "name": "helpful",
         "rawType": "bool",
         "type": "boolean"
        },
        {
         "name": "relevanceScore",
         "rawType": "float64",
         "type": "float"
        },
        {
         "name": "boughtDate",
         "rawType": "object",
         "type": "string"
        },
        {
         "name": "clientType",
         "rawType": "object",
         "type": "string"
        },
        {
         "name": "retrievedDate",
         "rawType": "object",
         "type": "string"
        }
       ],
       "conversionMethod": "pd.DataFrame",
       "ref": "88e839f2-2633-4ff0-b87c-890f13ddbea5",
       "rows": [
        [
         "0",
         "100002528",
         "beli-harddisk-eksternal",
         "Kamal U.",
         "5",
         null,
         null,
         "bagus  mantap dah sesui pesanan",
         "0",
         "0",
         "0",
         "True",
         "26.51",
         "09 Apr 2019",
         "androidApp",
         "2019-10-02"
        ],
        [
         "1",
         "100002528",
         "beli-harddisk-eksternal",
         "yofanca m.",
         "4",
         null,
         null,
         "Bagus, sesuai foto",
         "0",
         "0",
         "0",
         "True",
         "22.49",
         "24 Sep 2017",
         "androidApp",
         "2019-10-02"
        ],
        [
         "2",
         "100002528",
         "beli-harddisk-eksternal",
         "Lazada Customer",
         "5",
         null,
         "ok mantaaapppp barang sesuai pesanan.. good",
         "okkkkk mantaaaaaaapppp ... goood",
         "0",
         "0",
         "0",
         "True",
         "21.5",
         "04 Apr 2018",
         "androidApp",
         "2019-10-02"
        ],
        [
         "3",
         "100002528",
         "beli-harddisk-eksternal",
         "Lazada Customer",
         "4",
         null,
         null,
         "bagus sesuai",
         "0",
         "0",
         "0",
         "True",
         "20.51",
         "22 Sep 2017",
         "androidApp",
         "2019-10-02"
        ],
        [
         "4",
         "100002528",
         "beli-harddisk-eksternal",
         "Yosep M.",
         "5",
         null,
         null,
         null,
         "0",
         "0",
         "0",
         "True",
         "16.01",
         "17 Agu 2018",
         "androidApp",
         "2019-10-02"
        ]
       ],
       "shape": {
        "columns": 15,
        "rows": 5
       }
      },
      "text/html": [
       "<div>\n",
       "<style scoped>\n",
       "    .dataframe tbody tr th:only-of-type {\n",
       "        vertical-align: middle;\n",
       "    }\n",
       "\n",
       "    .dataframe tbody tr th {\n",
       "        vertical-align: top;\n",
       "    }\n",
       "\n",
       "    .dataframe thead th {\n",
       "        text-align: right;\n",
       "    }\n",
       "</style>\n",
       "<table border=\"1\" class=\"dataframe\">\n",
       "  <thead>\n",
       "    <tr style=\"text-align: right;\">\n",
       "      <th></th>\n",
       "      <th>itemId</th>\n",
       "      <th>category</th>\n",
       "      <th>name</th>\n",
       "      <th>rating</th>\n",
       "      <th>originalRating</th>\n",
       "      <th>reviewTitle</th>\n",
       "      <th>reviewContent</th>\n",
       "      <th>likeCount</th>\n",
       "      <th>upVotes</th>\n",
       "      <th>downVotes</th>\n",
       "      <th>helpful</th>\n",
       "      <th>relevanceScore</th>\n",
       "      <th>boughtDate</th>\n",
       "      <th>clientType</th>\n",
       "      <th>retrievedDate</th>\n",
       "    </tr>\n",
       "  </thead>\n",
       "  <tbody>\n",
       "    <tr>\n",
       "      <th>0</th>\n",
       "      <td>100002528</td>\n",
       "      <td>beli-harddisk-eksternal</td>\n",
       "      <td>Kamal U.</td>\n",
       "      <td>5</td>\n",
       "      <td>NaN</td>\n",
       "      <td>NaN</td>\n",
       "      <td>bagus  mantap dah sesui pesanan</td>\n",
       "      <td>0</td>\n",
       "      <td>0</td>\n",
       "      <td>0</td>\n",
       "      <td>True</td>\n",
       "      <td>26.51</td>\n",
       "      <td>09 Apr 2019</td>\n",
       "      <td>androidApp</td>\n",
       "      <td>2019-10-02</td>\n",
       "    </tr>\n",
       "    <tr>\n",
       "      <th>1</th>\n",
       "      <td>100002528</td>\n",
       "      <td>beli-harddisk-eksternal</td>\n",
       "      <td>yofanca m.</td>\n",
       "      <td>4</td>\n",
       "      <td>NaN</td>\n",
       "      <td>NaN</td>\n",
       "      <td>Bagus, sesuai foto</td>\n",
       "      <td>0</td>\n",
       "      <td>0</td>\n",
       "      <td>0</td>\n",
       "      <td>True</td>\n",
       "      <td>22.49</td>\n",
       "      <td>24 Sep 2017</td>\n",
       "      <td>androidApp</td>\n",
       "      <td>2019-10-02</td>\n",
       "    </tr>\n",
       "    <tr>\n",
       "      <th>2</th>\n",
       "      <td>100002528</td>\n",
       "      <td>beli-harddisk-eksternal</td>\n",
       "      <td>Lazada Customer</td>\n",
       "      <td>5</td>\n",
       "      <td>NaN</td>\n",
       "      <td>ok mantaaapppp barang sesuai pesanan.. good</td>\n",
       "      <td>okkkkk mantaaaaaaapppp ... goood</td>\n",
       "      <td>0</td>\n",
       "      <td>0</td>\n",
       "      <td>0</td>\n",
       "      <td>True</td>\n",
       "      <td>21.50</td>\n",
       "      <td>04 Apr 2018</td>\n",
       "      <td>androidApp</td>\n",
       "      <td>2019-10-02</td>\n",
       "    </tr>\n",
       "    <tr>\n",
       "      <th>3</th>\n",
       "      <td>100002528</td>\n",
       "      <td>beli-harddisk-eksternal</td>\n",
       "      <td>Lazada Customer</td>\n",
       "      <td>4</td>\n",
       "      <td>NaN</td>\n",
       "      <td>NaN</td>\n",
       "      <td>bagus sesuai</td>\n",
       "      <td>0</td>\n",
       "      <td>0</td>\n",
       "      <td>0</td>\n",
       "      <td>True</td>\n",
       "      <td>20.51</td>\n",
       "      <td>22 Sep 2017</td>\n",
       "      <td>androidApp</td>\n",
       "      <td>2019-10-02</td>\n",
       "    </tr>\n",
       "    <tr>\n",
       "      <th>4</th>\n",
       "      <td>100002528</td>\n",
       "      <td>beli-harddisk-eksternal</td>\n",
       "      <td>Yosep M.</td>\n",
       "      <td>5</td>\n",
       "      <td>NaN</td>\n",
       "      <td>NaN</td>\n",
       "      <td>NaN</td>\n",
       "      <td>0</td>\n",
       "      <td>0</td>\n",
       "      <td>0</td>\n",
       "      <td>True</td>\n",
       "      <td>16.01</td>\n",
       "      <td>17 Agu 2018</td>\n",
       "      <td>androidApp</td>\n",
       "      <td>2019-10-02</td>\n",
       "    </tr>\n",
       "  </tbody>\n",
       "</table>\n",
       "</div>"
      ],
      "text/plain": [
       "      itemId                 category             name  rating  \\\n",
       "0  100002528  beli-harddisk-eksternal         Kamal U.       5   \n",
       "1  100002528  beli-harddisk-eksternal       yofanca m.       4   \n",
       "2  100002528  beli-harddisk-eksternal  Lazada Customer       5   \n",
       "3  100002528  beli-harddisk-eksternal  Lazada Customer       4   \n",
       "4  100002528  beli-harddisk-eksternal         Yosep M.       5   \n",
       "\n",
       "   originalRating                                  reviewTitle  \\\n",
       "0             NaN                                          NaN   \n",
       "1             NaN                                          NaN   \n",
       "2             NaN  ok mantaaapppp barang sesuai pesanan.. good   \n",
       "3             NaN                                          NaN   \n",
       "4             NaN                                          NaN   \n",
       "\n",
       "                      reviewContent  likeCount  upVotes  downVotes  helpful  \\\n",
       "0   bagus  mantap dah sesui pesanan          0        0          0     True   \n",
       "1                Bagus, sesuai foto          0        0          0     True   \n",
       "2  okkkkk mantaaaaaaapppp ... goood          0        0          0     True   \n",
       "3                      bagus sesuai          0        0          0     True   \n",
       "4                               NaN          0        0          0     True   \n",
       "\n",
       "   relevanceScore   boughtDate  clientType retrievedDate  \n",
       "0           26.51  09 Apr 2019  androidApp    2019-10-02  \n",
       "1           22.49  24 Sep 2017  androidApp    2019-10-02  \n",
       "2           21.50  04 Apr 2018  androidApp    2019-10-02  \n",
       "3           20.51  22 Sep 2017  androidApp    2019-10-02  \n",
       "4           16.01  17 Agu 2018  androidApp    2019-10-02  "
      ]
     },
     "execution_count": 70,
     "metadata": {},
     "output_type": "execute_result"
    }
   ],
   "source": [
    "data = pandas.read_csv(r\"dataset\\20191002-reviews.csv\")\n",
    "data.head()"
   ]
  },
  {
   "cell_type": "code",
   "execution_count": 71,
   "id": "27f22835",
   "metadata": {},
   "outputs": [
    {
     "name": "stdout",
     "output_type": "stream",
     "text": [
      "<class 'pandas.core.frame.DataFrame'>\n",
      "RangeIndex: 203787 entries, 0 to 203786\n",
      "Data columns (total 15 columns):\n",
      " #   Column          Non-Null Count   Dtype  \n",
      "---  ------          --------------   -----  \n",
      " 0   itemId          203787 non-null  int64  \n",
      " 1   category        203787 non-null  object \n",
      " 2   name            203787 non-null  object \n",
      " 3   rating          203787 non-null  int64  \n",
      " 4   originalRating  8 non-null       float64\n",
      " 5   reviewTitle     23399 non-null   object \n",
      " 6   reviewContent   107029 non-null  object \n",
      " 7   likeCount       203787 non-null  int64  \n",
      " 8   upVotes         203787 non-null  int64  \n",
      " 9   downVotes       203787 non-null  int64  \n",
      " 10  helpful         203787 non-null  bool   \n",
      " 11  relevanceScore  203787 non-null  float64\n",
      " 12  boughtDate      196680 non-null  object \n",
      " 13  clientType      203787 non-null  object \n",
      " 14  retrievedDate   203787 non-null  object \n",
      "dtypes: bool(1), float64(2), int64(5), object(7)\n",
      "memory usage: 22.0+ MB\n"
     ]
    }
   ],
   "source": [
    "data.info()"
   ]
  },
  {
   "cell_type": "code",
   "execution_count": 72,
   "id": "f642ac60",
   "metadata": {},
   "outputs": [
    {
     "data": {
      "application/vnd.microsoft.datawrangler.viewer.v0+json": {
       "columns": [
        {
         "name": "index",
         "rawType": "object",
         "type": "string"
        },
        {
         "name": "itemId",
         "rawType": "float64",
         "type": "float"
        },
        {
         "name": "rating",
         "rawType": "float64",
         "type": "float"
        },
        {
         "name": "originalRating",
         "rawType": "float64",
         "type": "float"
        },
        {
         "name": "likeCount",
         "rawType": "float64",
         "type": "float"
        },
        {
         "name": "upVotes",
         "rawType": "float64",
         "type": "float"
        },
        {
         "name": "downVotes",
         "rawType": "float64",
         "type": "float"
        },
        {
         "name": "relevanceScore",
         "rawType": "float64",
         "type": "float"
        }
       ],
       "conversionMethod": "pd.DataFrame",
       "ref": "03da885d-42ce-4f7e-a140-3420f28e70f8",
       "rows": [
        [
         "count",
         "203787.0",
         "203787.0",
         "8.0",
         "203787.0",
         "203787.0",
         "203787.0",
         "203787.0"
        ],
        [
         "mean",
         "283647856.64786273",
         "4.603237694259202",
         "1.0",
         "0.6686344074940992",
         "0.6686344074940992",
         "0.16463758728476302",
         "25.097394190993526"
        ],
        [
         "std",
         "172620746.1329689",
         "0.9911644440681816",
         "0.0",
         "12.192433326593621",
         "12.192433326593621",
         "2.013272922615684",
         "9.602434437249387"
        ],
        [
         "min",
         "6068.0",
         "1.0",
         "1.0",
         "-1.0",
         "-1.0",
         "0.0",
         "0.96"
        ],
        [
         "25%",
         "160008566.0",
         "5.0",
         "1.0",
         "0.0",
         "0.0",
         "0.0",
         "18.01"
        ],
        [
         "50%",
         "354115963.0",
         "5.0",
         "1.0",
         "0.0",
         "0.0",
         "0.0",
         "23.51"
        ],
        [
         "75%",
         "414742098.0",
         "5.0",
         "1.0",
         "0.0",
         "0.0",
         "0.0",
         "29.67"
        ],
        [
         "max",
         "724216967.0",
         "5.0",
         "1.0",
         "1776.0",
         "1776.0",
         "111.0",
         "76.5"
        ]
       ],
       "shape": {
        "columns": 7,
        "rows": 8
       }
      },
      "text/html": [
       "<div>\n",
       "<style scoped>\n",
       "    .dataframe tbody tr th:only-of-type {\n",
       "        vertical-align: middle;\n",
       "    }\n",
       "\n",
       "    .dataframe tbody tr th {\n",
       "        vertical-align: top;\n",
       "    }\n",
       "\n",
       "    .dataframe thead th {\n",
       "        text-align: right;\n",
       "    }\n",
       "</style>\n",
       "<table border=\"1\" class=\"dataframe\">\n",
       "  <thead>\n",
       "    <tr style=\"text-align: right;\">\n",
       "      <th></th>\n",
       "      <th>itemId</th>\n",
       "      <th>rating</th>\n",
       "      <th>originalRating</th>\n",
       "      <th>likeCount</th>\n",
       "      <th>upVotes</th>\n",
       "      <th>downVotes</th>\n",
       "      <th>relevanceScore</th>\n",
       "    </tr>\n",
       "  </thead>\n",
       "  <tbody>\n",
       "    <tr>\n",
       "      <th>count</th>\n",
       "      <td>2.037870e+05</td>\n",
       "      <td>203787.000000</td>\n",
       "      <td>8.0</td>\n",
       "      <td>203787.000000</td>\n",
       "      <td>203787.000000</td>\n",
       "      <td>203787.000000</td>\n",
       "      <td>203787.000000</td>\n",
       "    </tr>\n",
       "    <tr>\n",
       "      <th>mean</th>\n",
       "      <td>2.836479e+08</td>\n",
       "      <td>4.603238</td>\n",
       "      <td>1.0</td>\n",
       "      <td>0.668634</td>\n",
       "      <td>0.668634</td>\n",
       "      <td>0.164638</td>\n",
       "      <td>25.097394</td>\n",
       "    </tr>\n",
       "    <tr>\n",
       "      <th>std</th>\n",
       "      <td>1.726207e+08</td>\n",
       "      <td>0.991164</td>\n",
       "      <td>0.0</td>\n",
       "      <td>12.192433</td>\n",
       "      <td>12.192433</td>\n",
       "      <td>2.013273</td>\n",
       "      <td>9.602434</td>\n",
       "    </tr>\n",
       "    <tr>\n",
       "      <th>min</th>\n",
       "      <td>6.068000e+03</td>\n",
       "      <td>1.000000</td>\n",
       "      <td>1.0</td>\n",
       "      <td>-1.000000</td>\n",
       "      <td>-1.000000</td>\n",
       "      <td>0.000000</td>\n",
       "      <td>0.960000</td>\n",
       "    </tr>\n",
       "    <tr>\n",
       "      <th>25%</th>\n",
       "      <td>1.600086e+08</td>\n",
       "      <td>5.000000</td>\n",
       "      <td>1.0</td>\n",
       "      <td>0.000000</td>\n",
       "      <td>0.000000</td>\n",
       "      <td>0.000000</td>\n",
       "      <td>18.010000</td>\n",
       "    </tr>\n",
       "    <tr>\n",
       "      <th>50%</th>\n",
       "      <td>3.541160e+08</td>\n",
       "      <td>5.000000</td>\n",
       "      <td>1.0</td>\n",
       "      <td>0.000000</td>\n",
       "      <td>0.000000</td>\n",
       "      <td>0.000000</td>\n",
       "      <td>23.510000</td>\n",
       "    </tr>\n",
       "    <tr>\n",
       "      <th>75%</th>\n",
       "      <td>4.147421e+08</td>\n",
       "      <td>5.000000</td>\n",
       "      <td>1.0</td>\n",
       "      <td>0.000000</td>\n",
       "      <td>0.000000</td>\n",
       "      <td>0.000000</td>\n",
       "      <td>29.670000</td>\n",
       "    </tr>\n",
       "    <tr>\n",
       "      <th>max</th>\n",
       "      <td>7.242170e+08</td>\n",
       "      <td>5.000000</td>\n",
       "      <td>1.0</td>\n",
       "      <td>1776.000000</td>\n",
       "      <td>1776.000000</td>\n",
       "      <td>111.000000</td>\n",
       "      <td>76.500000</td>\n",
       "    </tr>\n",
       "  </tbody>\n",
       "</table>\n",
       "</div>"
      ],
      "text/plain": [
       "             itemId         rating  originalRating      likeCount  \\\n",
       "count  2.037870e+05  203787.000000             8.0  203787.000000   \n",
       "mean   2.836479e+08       4.603238             1.0       0.668634   \n",
       "std    1.726207e+08       0.991164             0.0      12.192433   \n",
       "min    6.068000e+03       1.000000             1.0      -1.000000   \n",
       "25%    1.600086e+08       5.000000             1.0       0.000000   \n",
       "50%    3.541160e+08       5.000000             1.0       0.000000   \n",
       "75%    4.147421e+08       5.000000             1.0       0.000000   \n",
       "max    7.242170e+08       5.000000             1.0    1776.000000   \n",
       "\n",
       "             upVotes      downVotes  relevanceScore  \n",
       "count  203787.000000  203787.000000   203787.000000  \n",
       "mean        0.668634       0.164638       25.097394  \n",
       "std        12.192433       2.013273        9.602434  \n",
       "min        -1.000000       0.000000        0.960000  \n",
       "25%         0.000000       0.000000       18.010000  \n",
       "50%         0.000000       0.000000       23.510000  \n",
       "75%         0.000000       0.000000       29.670000  \n",
       "max      1776.000000     111.000000       76.500000  "
      ]
     },
     "execution_count": 72,
     "metadata": {},
     "output_type": "execute_result"
    }
   ],
   "source": [
    "data.describe()"
   ]
  },
  {
   "cell_type": "code",
   "execution_count": 73,
   "id": "3f906408",
   "metadata": {},
   "outputs": [
    {
     "data": {
      "application/vnd.microsoft.datawrangler.viewer.v0+json": {
       "columns": [
        {
         "name": "index",
         "rawType": "object",
         "type": "string"
        },
        {
         "name": "itemId",
         "rawType": "float64",
         "type": "float"
        },
        {
         "name": "rating",
         "rawType": "float64",
         "type": "float"
        }
       ],
       "conversionMethod": "pd.DataFrame",
       "ref": "189ae853-3775-4af5-97fb-bcbef0ff0724",
       "rows": [
        [
         "count",
         "203787.0",
         "203787.0"
        ],
        [
         "mean",
         "283647856.64786273",
         "4.603237694259202"
        ],
        [
         "std",
         "172620746.1329689",
         "0.9911644440681816"
        ],
        [
         "min",
         "6068.0",
         "1.0"
        ],
        [
         "25%",
         "160008566.0",
         "5.0"
        ],
        [
         "50%",
         "354115963.0",
         "5.0"
        ],
        [
         "75%",
         "414742098.0",
         "5.0"
        ],
        [
         "max",
         "724216967.0",
         "5.0"
        ]
       ],
       "shape": {
        "columns": 2,
        "rows": 8
       }
      },
      "text/html": [
       "<div>\n",
       "<style scoped>\n",
       "    .dataframe tbody tr th:only-of-type {\n",
       "        vertical-align: middle;\n",
       "    }\n",
       "\n",
       "    .dataframe tbody tr th {\n",
       "        vertical-align: top;\n",
       "    }\n",
       "\n",
       "    .dataframe thead th {\n",
       "        text-align: right;\n",
       "    }\n",
       "</style>\n",
       "<table border=\"1\" class=\"dataframe\">\n",
       "  <thead>\n",
       "    <tr style=\"text-align: right;\">\n",
       "      <th></th>\n",
       "      <th>itemId</th>\n",
       "      <th>rating</th>\n",
       "    </tr>\n",
       "  </thead>\n",
       "  <tbody>\n",
       "    <tr>\n",
       "      <th>count</th>\n",
       "      <td>2.037870e+05</td>\n",
       "      <td>203787.000000</td>\n",
       "    </tr>\n",
       "    <tr>\n",
       "      <th>mean</th>\n",
       "      <td>2.836479e+08</td>\n",
       "      <td>4.603238</td>\n",
       "    </tr>\n",
       "    <tr>\n",
       "      <th>std</th>\n",
       "      <td>1.726207e+08</td>\n",
       "      <td>0.991164</td>\n",
       "    </tr>\n",
       "    <tr>\n",
       "      <th>min</th>\n",
       "      <td>6.068000e+03</td>\n",
       "      <td>1.000000</td>\n",
       "    </tr>\n",
       "    <tr>\n",
       "      <th>25%</th>\n",
       "      <td>1.600086e+08</td>\n",
       "      <td>5.000000</td>\n",
       "    </tr>\n",
       "    <tr>\n",
       "      <th>50%</th>\n",
       "      <td>3.541160e+08</td>\n",
       "      <td>5.000000</td>\n",
       "    </tr>\n",
       "    <tr>\n",
       "      <th>75%</th>\n",
       "      <td>4.147421e+08</td>\n",
       "      <td>5.000000</td>\n",
       "    </tr>\n",
       "    <tr>\n",
       "      <th>max</th>\n",
       "      <td>7.242170e+08</td>\n",
       "      <td>5.000000</td>\n",
       "    </tr>\n",
       "  </tbody>\n",
       "</table>\n",
       "</div>"
      ],
      "text/plain": [
       "             itemId         rating\n",
       "count  2.037870e+05  203787.000000\n",
       "mean   2.836479e+08       4.603238\n",
       "std    1.726207e+08       0.991164\n",
       "min    6.068000e+03       1.000000\n",
       "25%    1.600086e+08       5.000000\n",
       "50%    3.541160e+08       5.000000\n",
       "75%    4.147421e+08       5.000000\n",
       "max    7.242170e+08       5.000000"
      ]
     },
     "execution_count": 73,
     "metadata": {},
     "output_type": "execute_result"
    }
   ],
   "source": [
    "used_data = data[[\"itemId\", \"rating\", \"reviewContent\"]]\n",
    "\n",
    "used_data.describe()"
   ]
  },
  {
   "cell_type": "code",
   "execution_count": 74,
   "id": "ae92a3b4",
   "metadata": {},
   "outputs": [
    {
     "data": {
      "application/vnd.microsoft.datawrangler.viewer.v0+json": {
       "columns": [
        {
         "name": "index",
         "rawType": "int64",
         "type": "integer"
        },
        {
         "name": "itemId",
         "rawType": "int64",
         "type": "integer"
        },
        {
         "name": "rating",
         "rawType": "int64",
         "type": "integer"
        },
        {
         "name": "reviewContent",
         "rawType": "object",
         "type": "unknown"
        }
       ],
       "conversionMethod": "pd.DataFrame",
       "ref": "23fe1365-f010-43bb-ab4b-9dfca7d98e1f",
       "rows": [
        [
         "0",
         "100002528",
         "5",
         "bagus  mantap dah sesui pesanan"
        ],
        [
         "1",
         "100002528",
         "4",
         "Bagus, sesuai foto"
        ],
        [
         "2",
         "100002528",
         "5",
         "okkkkk mantaaaaaaapppp ... goood"
        ],
        [
         "3",
         "100002528",
         "4",
         "bagus sesuai"
        ],
        [
         "4",
         "100002528",
         "5",
         null
        ],
        [
         "5",
         "100002528",
         "5",
         null
        ],
        [
         "6",
         "100002528",
         "5",
         null
        ],
        [
         "7",
         "100002528",
         "1",
         "bima"
        ],
        [
         "8",
         "100003785",
         "1",
         "baru 10 bulan layarnya dah bergaris"
        ],
        [
         "9",
         "100003785",
         "5",
         "Pesan rabu sore,minggu sore sampe,,barang sesuai specs mantab,tks lazada"
        ],
        [
         "10",
         "100003785",
         "5",
         null
        ],
        [
         "11",
         "100004132",
         "1",
         "Mau tanya ini cicilnya pake apa ya,cc bkn?"
        ],
        [
         "12",
         "100004132",
         "5",
         "Apakah TV. Tsb. Suda ada anti gores.."
        ],
        [
         "13",
         "100004505",
         "1",
         "Pengirim barang tidak sesuai janji. Katanya express 1 hari. Dari hari jumat barang sampai hari rabu. SeMoga barangnya awet saja."
        ],
        [
         "14",
         "100004505",
         "4",
         "Kualitas ok"
        ],
        [
         "15",
         "100004505",
         "1",
         "Bagaimana tv LED saya merek Sharp 24 hitam LC 24LE170i sekarang mati total baru 2 bln kemana saya harus menghubungi dan meminta bantuan mohon kebijakan dan solusinya ,, so,alnya masih garansi kepada pihak lazada saya mohon bantuannya terimakasih!!!"
        ],
        [
         "16",
         "100004505",
         "3",
         "Pengiriman super lama.. tapi datang juga sich"
        ],
        [
         "17",
         "100004505",
         "5",
         "ok barang sampai dengan Baik.. smoga terus di pertahankan..."
        ],
        [
         "18",
         "100004505",
         "5",
         null
        ],
        [
         "19",
         "100004505",
         "3",
         null
        ],
        [
         "20",
         "100004505",
         "5",
         null
        ],
        [
         "21",
         "100004505",
         "5",
         "Kalau mau cicilan gmna cra nya??"
        ],
        [
         "22",
         "100004505",
         "5",
         "barang sudah sampai dan bagus thanks lazada"
        ],
        [
         "23",
         "100004505",
         "5",
         "Pengiriman cepat sipplahhh......."
        ],
        [
         "24",
         "100005037",
         "5",
         "Sampe Sekarang masih Ok ne laptop..."
        ],
        [
         "25",
         "100006860",
         "5",
         null
        ],
        [
         "26",
         "100006860",
         "3",
         null
        ],
        [
         "27",
         "100006860",
         "5",
         null
        ],
        [
         "28",
         "100006860",
         "5",
         null
        ],
        [
         "29",
         "100006860",
         "5",
         "Pengiriman cepat..  Packaging good..  Barang oke. Thnks seller Thnks Lazada"
        ],
        [
         "30",
         "100007498",
         "5",
         "Barang diterima dengan selamat.. Produk sesuai dengan deskripsi.. Barang nyape 3 hari ke pekanbaru,riau.. Terimakasih lazada dan kotakom pucang, laptopnya mantap.."
        ],
        [
         "31",
         "100007498",
         "5",
         null
        ],
        [
         "32",
         "100010722",
         "5",
         "Senang belanja disini,pelayanan oke,barang sesuai ekspektasi..order senin hari selasa malam udah nyampe + di settingin sxan sama kurirnya...pokoknya top deh..thanks Lazada"
        ],
        [
         "33",
         "100010722",
         "4",
         "belum test barangnya"
        ],
        [
         "34",
         "100010722",
         "1",
         "Sudah cape2 transfer tapi pesanan ditolak"
        ],
        [
         "35",
         "100010722",
         "5",
         null
        ],
        [
         "36",
         "100010722",
         "3",
         null
        ],
        [
         "37",
         "100010722",
         "5",
         null
        ],
        [
         "38",
         "100010722",
         "5",
         null
        ],
        [
         "39",
         "100010722",
         "5",
         null
        ],
        [
         "40",
         "100010722",
         "4",
         null
        ],
        [
         "41",
         "100010722",
         "4",
         null
        ],
        [
         "42",
         "100010745",
         "5",
         "Barang Ok, kualitas bagus dengan harga yg cukup miring, kualitas gambar juga ok, pengiriman lumayan, ga nyesel pokonya beli TV ini"
        ],
        [
         "43",
         "100010745",
         "5",
         "Saya minat tapi kalau dikirim ke Gresik Jawa Timur bisa gak? Klo dr info pengiriman bebas tapi takut gk sampai.. Dan tanya apa ini sdh full HD apa blm? Terima kasih"
        ],
        [
         "44",
         "100010745",
         "5",
         null
        ],
        [
         "45",
         "100010745",
         "4",
         "Pengn tivinya"
        ],
        [
         "46",
         "100010745",
         "5",
         null
        ],
        [
         "47",
         "100010745",
         "5",
         "Mantapppp barang nya"
        ],
        [
         "48",
         "100010745",
         "3",
         "Barang mulusss mantapppppp"
        ],
        [
         "49",
         "100015720",
         "5",
         null
        ]
       ],
       "shape": {
        "columns": 3,
        "rows": 203787
       }
      },
      "text/html": [
       "<div>\n",
       "<style scoped>\n",
       "    .dataframe tbody tr th:only-of-type {\n",
       "        vertical-align: middle;\n",
       "    }\n",
       "\n",
       "    .dataframe tbody tr th {\n",
       "        vertical-align: top;\n",
       "    }\n",
       "\n",
       "    .dataframe thead th {\n",
       "        text-align: right;\n",
       "    }\n",
       "</style>\n",
       "<table border=\"1\" class=\"dataframe\">\n",
       "  <thead>\n",
       "    <tr style=\"text-align: right;\">\n",
       "      <th></th>\n",
       "      <th>itemId</th>\n",
       "      <th>rating</th>\n",
       "      <th>reviewContent</th>\n",
       "    </tr>\n",
       "  </thead>\n",
       "  <tbody>\n",
       "    <tr>\n",
       "      <th>0</th>\n",
       "      <td>100002528</td>\n",
       "      <td>5</td>\n",
       "      <td>bagus  mantap dah sesui pesanan</td>\n",
       "    </tr>\n",
       "    <tr>\n",
       "      <th>1</th>\n",
       "      <td>100002528</td>\n",
       "      <td>4</td>\n",
       "      <td>Bagus, sesuai foto</td>\n",
       "    </tr>\n",
       "    <tr>\n",
       "      <th>2</th>\n",
       "      <td>100002528</td>\n",
       "      <td>5</td>\n",
       "      <td>okkkkk mantaaaaaaapppp ... goood</td>\n",
       "    </tr>\n",
       "    <tr>\n",
       "      <th>3</th>\n",
       "      <td>100002528</td>\n",
       "      <td>4</td>\n",
       "      <td>bagus sesuai</td>\n",
       "    </tr>\n",
       "    <tr>\n",
       "      <th>4</th>\n",
       "      <td>100002528</td>\n",
       "      <td>5</td>\n",
       "      <td>NaN</td>\n",
       "    </tr>\n",
       "    <tr>\n",
       "      <th>...</th>\n",
       "      <td>...</td>\n",
       "      <td>...</td>\n",
       "      <td>...</td>\n",
       "    </tr>\n",
       "    <tr>\n",
       "      <th>203782</th>\n",
       "      <td>9467899</td>\n",
       "      <td>5</td>\n",
       "      <td>barang bagus dengan harga kompetitif</td>\n",
       "    </tr>\n",
       "    <tr>\n",
       "      <th>203783</th>\n",
       "      <td>9467899</td>\n",
       "      <td>3</td>\n",
       "      <td>NaN</td>\n",
       "    </tr>\n",
       "    <tr>\n",
       "      <th>203784</th>\n",
       "      <td>9548087</td>\n",
       "      <td>5</td>\n",
       "      <td>NaN</td>\n",
       "    </tr>\n",
       "    <tr>\n",
       "      <th>203785</th>\n",
       "      <td>9548767</td>\n",
       "      <td>3</td>\n",
       "      <td>Ok.thank lazada Pagi order sore barang nyampe ...</td>\n",
       "    </tr>\n",
       "    <tr>\n",
       "      <th>203786</th>\n",
       "      <td>9548767</td>\n",
       "      <td>5</td>\n",
       "      <td>semua fitur berfungsi,harganya cukup murah. AK...</td>\n",
       "    </tr>\n",
       "  </tbody>\n",
       "</table>\n",
       "<p>203787 rows × 3 columns</p>\n",
       "</div>"
      ],
      "text/plain": [
       "           itemId  rating                                      reviewContent\n",
       "0       100002528       5                    bagus  mantap dah sesui pesanan\n",
       "1       100002528       4                                 Bagus, sesuai foto\n",
       "2       100002528       5                   okkkkk mantaaaaaaapppp ... goood\n",
       "3       100002528       4                                       bagus sesuai\n",
       "4       100002528       5                                                NaN\n",
       "...           ...     ...                                                ...\n",
       "203782    9467899       5               barang bagus dengan harga kompetitif\n",
       "203783    9467899       3                                                NaN\n",
       "203784    9548087       5                                                NaN\n",
       "203785    9548767       3  Ok.thank lazada Pagi order sore barang nyampe ...\n",
       "203786    9548767       5  semua fitur berfungsi,harganya cukup murah. AK...\n",
       "\n",
       "[203787 rows x 3 columns]"
      ]
     },
     "execution_count": 74,
     "metadata": {},
     "output_type": "execute_result"
    }
   ],
   "source": [
    "used_data"
   ]
  },
  {
   "cell_type": "code",
   "execution_count": 75,
   "id": "e9e97759",
   "metadata": {},
   "outputs": [],
   "source": [
    "used_data = used_data.drop_duplicates()\n",
    "used_data = used_data.dropna()"
   ]
  },
  {
   "cell_type": "code",
   "execution_count": 76,
   "id": "a05a85fa",
   "metadata": {},
   "outputs": [
    {
     "data": {
      "application/vnd.microsoft.datawrangler.viewer.v0+json": {
       "columns": [
        {
         "name": "index",
         "rawType": "int64",
         "type": "integer"
        },
        {
         "name": "itemId",
         "rawType": "int64",
         "type": "integer"
        },
        {
         "name": "rating",
         "rawType": "int64",
         "type": "integer"
        },
        {
         "name": "reviewContent",
         "rawType": "object",
         "type": "string"
        }
       ],
       "conversionMethod": "pd.DataFrame",
       "ref": "27cbdf6e-0f85-4912-8cc9-e769c42aff96",
       "rows": [
        [
         "0",
         "100002528",
         "5",
         "bagus  mantap dah sesui pesanan"
        ],
        [
         "1",
         "100002528",
         "4",
         "Bagus, sesuai foto"
        ],
        [
         "2",
         "100002528",
         "5",
         "okkkkk mantaaaaaaapppp ... goood"
        ],
        [
         "3",
         "100002528",
         "4",
         "bagus sesuai"
        ],
        [
         "7",
         "100002528",
         "1",
         "bima"
        ],
        [
         "8",
         "100003785",
         "1",
         "baru 10 bulan layarnya dah bergaris"
        ],
        [
         "9",
         "100003785",
         "5",
         "Pesan rabu sore,minggu sore sampe,,barang sesuai specs mantab,tks lazada"
        ],
        [
         "11",
         "100004132",
         "1",
         "Mau tanya ini cicilnya pake apa ya,cc bkn?"
        ],
        [
         "12",
         "100004132",
         "5",
         "Apakah TV. Tsb. Suda ada anti gores.."
        ],
        [
         "13",
         "100004505",
         "1",
         "Pengirim barang tidak sesuai janji. Katanya express 1 hari. Dari hari jumat barang sampai hari rabu. SeMoga barangnya awet saja."
        ],
        [
         "14",
         "100004505",
         "4",
         "Kualitas ok"
        ],
        [
         "15",
         "100004505",
         "1",
         "Bagaimana tv LED saya merek Sharp 24 hitam LC 24LE170i sekarang mati total baru 2 bln kemana saya harus menghubungi dan meminta bantuan mohon kebijakan dan solusinya ,, so,alnya masih garansi kepada pihak lazada saya mohon bantuannya terimakasih!!!"
        ],
        [
         "16",
         "100004505",
         "3",
         "Pengiriman super lama.. tapi datang juga sich"
        ],
        [
         "17",
         "100004505",
         "5",
         "ok barang sampai dengan Baik.. smoga terus di pertahankan..."
        ],
        [
         "21",
         "100004505",
         "5",
         "Kalau mau cicilan gmna cra nya??"
        ],
        [
         "22",
         "100004505",
         "5",
         "barang sudah sampai dan bagus thanks lazada"
        ],
        [
         "23",
         "100004505",
         "5",
         "Pengiriman cepat sipplahhh......."
        ],
        [
         "24",
         "100005037",
         "5",
         "Sampe Sekarang masih Ok ne laptop..."
        ],
        [
         "29",
         "100006860",
         "5",
         "Pengiriman cepat..  Packaging good..  Barang oke. Thnks seller Thnks Lazada"
        ],
        [
         "30",
         "100007498",
         "5",
         "Barang diterima dengan selamat.. Produk sesuai dengan deskripsi.. Barang nyape 3 hari ke pekanbaru,riau.. Terimakasih lazada dan kotakom pucang, laptopnya mantap.."
        ],
        [
         "32",
         "100010722",
         "5",
         "Senang belanja disini,pelayanan oke,barang sesuai ekspektasi..order senin hari selasa malam udah nyampe + di settingin sxan sama kurirnya...pokoknya top deh..thanks Lazada"
        ],
        [
         "33",
         "100010722",
         "4",
         "belum test barangnya"
        ],
        [
         "34",
         "100010722",
         "1",
         "Sudah cape2 transfer tapi pesanan ditolak"
        ],
        [
         "42",
         "100010745",
         "5",
         "Barang Ok, kualitas bagus dengan harga yg cukup miring, kualitas gambar juga ok, pengiriman lumayan, ga nyesel pokonya beli TV ini"
        ],
        [
         "43",
         "100010745",
         "5",
         "Saya minat tapi kalau dikirim ke Gresik Jawa Timur bisa gak? Klo dr info pengiriman bebas tapi takut gk sampai.. Dan tanya apa ini sdh full HD apa blm? Terima kasih"
        ],
        [
         "45",
         "100010745",
         "4",
         "Pengn tivinya"
        ],
        [
         "47",
         "100010745",
         "5",
         "Mantapppp barang nya"
        ],
        [
         "48",
         "100010745",
         "3",
         "Barang mulusss mantapppppp"
        ],
        [
         "50",
         "100015720",
         "1",
         "Laptop ini memiliki spesifikasi yang bagus dan harga yang terjangkau, namun pada tab spesifikasi utama produk itu emang intel core i5 atau salah buat? Di judul dikatakan core i7"
        ],
        [
         "51",
         "100015720",
         "5",
         "Barang sampai dengan aman. Kemampuan laptop sesuai dengan yang di iklankan. Hanya saja, laptop datang dengan DOS sehingga harus di install sendiri windows nya. Overall, it's worth the money."
        ],
        [
         "52",
         "100015720",
         "5",
         "Barang sampai 2 hari dengan selamat dan sesuai deskripsi"
        ],
        [
         "53",
         "100015720",
         "5",
         "Harga sangat murah mantep banget"
        ],
        [
         "54",
         "100015720",
         "3",
         "Murah banget itu enga salah kasih harga tau2 nati salah kasi info barang nya"
        ],
        [
         "55",
         "100015720",
         "1",
         "Barang udah sampai tapi pas dinyalain g bisa. Gmn pertanggung jawaban lazada?"
        ],
        [
         "58",
         "100024235",
         "4",
         "Klo dp1jt tanpa kartu kredit bisa gk? Brp bln pembayarannya dan sebulannya brp? -TerimaKsh"
        ],
        [
         "59",
         "100024235",
         "1",
         "untuk pemasangan di tembok apa ad pihak dari lazada yg memasang'a ? terima kasih"
        ],
        [
         "61",
         "100027329",
         "5",
         "Kapasitas HDD asli 1 TB, dan tanpa ada lecet di saat saya pertama kali membuka bungkus bubble nya"
        ],
        [
         "62",
         "100027329",
         "5",
         "barang sesuai dengan gambar"
        ],
        [
         "63",
         "100027329",
         "4",
         "HD diterima dg packing bubble bagus, hanya tidak tertulis, barang elektronik, atw keterangan lain, agar penanganan lebih hati2 dan istimewa, ketika paket dalam perjalanan. Finally, 4bintang lhah..."
        ],
        [
         "64",
         "100027616",
         "5",
         "Mantap gan Barang sampai dengan selamat , Packing rapih , pokok Mantap lah !"
        ],
        [
         "67",
         "100027616",
         "5",
         "Oke"
        ],
        [
         "68",
         "100028438",
         "5",
         "Saya sangat puas dengan barang.nya, kualitas barang sangat membantu HDD saya apabila jatuh dari atas, dan pengiriman rapi gk ada lecet kasih bintang 5 :) Dan Saya sangat tidak puas dengan peng"
        ],
        [
         "69",
         "100028438",
         "4",
         "Barang diterima dengan kondisi yang baik tapi packagingnya kurang"
        ],
        [
         "70",
         "100028438",
         "5",
         "Suka banget sama barangnya packing nya rapi, pokoknya recomended banget buat kalian yg mau beli tas hardisk dengan kulitas bagus yah di sini"
        ],
        [
         "74",
         "100030605",
         "5",
         "Flashdisk ori, Packing bagus. Saya suka.Thx"
        ],
        [
         "75",
         "100034104",
         "5",
         "aman cepat pula"
        ],
        [
         "77",
         "100034104",
         "4",
         "Bagus ori kok cuma hanya aja 58 gb:( klo 63 gpp hilang 1 gb"
        ],
        [
         "78",
         "100034104",
         "1",
         "kapasitasy kurang bagusss aturany klw kosong g bnyakkk firusss tpi nieh bnyakkk firusss sangat kecewe"
        ],
        [
         "79",
         "100034104",
         "5",
         "Baguss bangett kurir nya jga ramah, cakep pula wkwk. Ini 64gb tp cmn 58 sekian gb tp gpp lah yah... Pokok nya recomended deh...."
        ],
        [
         "80",
         "100034104",
         "5",
         "produk dah sampai kemasan rapih pengiriman cepat barang  bagus pembayaran cod tidak perlu diragukan lagi 👍👍"
        ]
       ],
       "shape": {
        "columns": 3,
        "rows": 41549
       }
      },
      "text/html": [
       "<div>\n",
       "<style scoped>\n",
       "    .dataframe tbody tr th:only-of-type {\n",
       "        vertical-align: middle;\n",
       "    }\n",
       "\n",
       "    .dataframe tbody tr th {\n",
       "        vertical-align: top;\n",
       "    }\n",
       "\n",
       "    .dataframe thead th {\n",
       "        text-align: right;\n",
       "    }\n",
       "</style>\n",
       "<table border=\"1\" class=\"dataframe\">\n",
       "  <thead>\n",
       "    <tr style=\"text-align: right;\">\n",
       "      <th></th>\n",
       "      <th>itemId</th>\n",
       "      <th>rating</th>\n",
       "      <th>reviewContent</th>\n",
       "    </tr>\n",
       "  </thead>\n",
       "  <tbody>\n",
       "    <tr>\n",
       "      <th>0</th>\n",
       "      <td>100002528</td>\n",
       "      <td>5</td>\n",
       "      <td>bagus  mantap dah sesui pesanan</td>\n",
       "    </tr>\n",
       "    <tr>\n",
       "      <th>1</th>\n",
       "      <td>100002528</td>\n",
       "      <td>4</td>\n",
       "      <td>Bagus, sesuai foto</td>\n",
       "    </tr>\n",
       "    <tr>\n",
       "      <th>2</th>\n",
       "      <td>100002528</td>\n",
       "      <td>5</td>\n",
       "      <td>okkkkk mantaaaaaaapppp ... goood</td>\n",
       "    </tr>\n",
       "    <tr>\n",
       "      <th>3</th>\n",
       "      <td>100002528</td>\n",
       "      <td>4</td>\n",
       "      <td>bagus sesuai</td>\n",
       "    </tr>\n",
       "    <tr>\n",
       "      <th>7</th>\n",
       "      <td>100002528</td>\n",
       "      <td>1</td>\n",
       "      <td>bima</td>\n",
       "    </tr>\n",
       "    <tr>\n",
       "      <th>...</th>\n",
       "      <td>...</td>\n",
       "      <td>...</td>\n",
       "      <td>...</td>\n",
       "    </tr>\n",
       "    <tr>\n",
       "      <th>82221</th>\n",
       "      <td>9973500</td>\n",
       "      <td>3</td>\n",
       "      <td>Pengiriman lebih cepat , packing rapih  Dan ba...</td>\n",
       "    </tr>\n",
       "    <tr>\n",
       "      <th>87955</th>\n",
       "      <td>687840070</td>\n",
       "      <td>1</td>\n",
       "      <td>I can't login to activated this netbook becaus...</td>\n",
       "    </tr>\n",
       "    <tr>\n",
       "      <th>103881</th>\n",
       "      <td>377474276</td>\n",
       "      <td>4</td>\n",
       "      <td>barang ok, pengiriman super lambat dn trpaksa ...</td>\n",
       "    </tr>\n",
       "    <tr>\n",
       "      <th>195817</th>\n",
       "      <td>377474276</td>\n",
       "      <td>5</td>\n",
       "      <td>mantapp,, terima kasih lazadaaa,, tv coocaa 40...</td>\n",
       "    </tr>\n",
       "    <tr>\n",
       "      <th>199781</th>\n",
       "      <td>428602132</td>\n",
       "      <td>5</td>\n",
       "      <td>Wow Keren Abis,, LED TV Kualitas DEWA, Paking ...</td>\n",
       "    </tr>\n",
       "  </tbody>\n",
       "</table>\n",
       "<p>41549 rows × 3 columns</p>\n",
       "</div>"
      ],
      "text/plain": [
       "           itemId  rating                                      reviewContent\n",
       "0       100002528       5                    bagus  mantap dah sesui pesanan\n",
       "1       100002528       4                                 Bagus, sesuai foto\n",
       "2       100002528       5                   okkkkk mantaaaaaaapppp ... goood\n",
       "3       100002528       4                                       bagus sesuai\n",
       "7       100002528       1                                               bima\n",
       "...           ...     ...                                                ...\n",
       "82221     9973500       3  Pengiriman lebih cepat , packing rapih  Dan ba...\n",
       "87955   687840070       1  I can't login to activated this netbook becaus...\n",
       "103881  377474276       4  barang ok, pengiriman super lambat dn trpaksa ...\n",
       "195817  377474276       5  mantapp,, terima kasih lazadaaa,, tv coocaa 40...\n",
       "199781  428602132       5  Wow Keren Abis,, LED TV Kualitas DEWA, Paking ...\n",
       "\n",
       "[41549 rows x 3 columns]"
      ]
     },
     "execution_count": 76,
     "metadata": {},
     "output_type": "execute_result"
    }
   ],
   "source": [
    "used_data"
   ]
  },
  {
   "cell_type": "markdown",
   "id": "79c12c5a",
   "metadata": {},
   "source": [
    "## Convert the value from integer into binary labels"
   ]
  },
  {
   "cell_type": "code",
   "execution_count": null,
   "id": "7e7175b5",
   "metadata": {},
   "outputs": [
    {
     "name": "stderr",
     "output_type": "stream",
     "text": [
      "C:\\Users\\Atasha\\AppData\\Local\\Temp\\ipykernel_7816\\2692551241.py:3: FutureWarning: Setting an item of incompatible dtype is deprecated and will raise an error in a future version of pandas. Value 'good' has dtype incompatible with int64, please explicitly cast to a compatible dtype first.\n",
      "  used_data.loc[used_data[\"rating\"] >= 4, \"rating\"] = \"good\"\n"
     ]
    },
    {
     "data": {
      "application/vnd.microsoft.datawrangler.viewer.v0+json": {
       "columns": [
        {
         "name": "index",
         "rawType": "int64",
         "type": "integer"
        },
        {
         "name": "itemId",
         "rawType": "int64",
         "type": "integer"
        },
        {
         "name": "rating",
         "rawType": "object",
         "type": "string"
        },
        {
         "name": "reviewContent",
         "rawType": "object",
         "type": "string"
        }
       ],
       "conversionMethod": "pd.DataFrame",
       "ref": "050ee399-7c95-42f1-a94e-0110f3d75949",
       "rows": [
        [
         "0",
         "100002528",
         "good",
         "bagus  mantap dah sesui pesanan"
        ],
        [
         "1",
         "100002528",
         "good",
         "Bagus, sesuai foto"
        ],
        [
         "2",
         "100002528",
         "good",
         "okkkkk mantaaaaaaapppp ... goood"
        ],
        [
         "3",
         "100002528",
         "good",
         "bagus sesuai"
        ],
        [
         "7",
         "100002528",
         "bad",
         "bima"
        ],
        [
         "8",
         "100003785",
         "bad",
         "baru 10 bulan layarnya dah bergaris"
        ],
        [
         "9",
         "100003785",
         "good",
         "Pesan rabu sore,minggu sore sampe,,barang sesuai specs mantab,tks lazada"
        ],
        [
         "11",
         "100004132",
         "bad",
         "Mau tanya ini cicilnya pake apa ya,cc bkn?"
        ],
        [
         "12",
         "100004132",
         "good",
         "Apakah TV. Tsb. Suda ada anti gores.."
        ],
        [
         "13",
         "100004505",
         "bad",
         "Pengirim barang tidak sesuai janji. Katanya express 1 hari. Dari hari jumat barang sampai hari rabu. SeMoga barangnya awet saja."
        ],
        [
         "14",
         "100004505",
         "good",
         "Kualitas ok"
        ],
        [
         "15",
         "100004505",
         "bad",
         "Bagaimana tv LED saya merek Sharp 24 hitam LC 24LE170i sekarang mati total baru 2 bln kemana saya harus menghubungi dan meminta bantuan mohon kebijakan dan solusinya ,, so,alnya masih garansi kepada pihak lazada saya mohon bantuannya terimakasih!!!"
        ],
        [
         "16",
         "100004505",
         "bad",
         "Pengiriman super lama.. tapi datang juga sich"
        ],
        [
         "17",
         "100004505",
         "good",
         "ok barang sampai dengan Baik.. smoga terus di pertahankan..."
        ],
        [
         "21",
         "100004505",
         "good",
         "Kalau mau cicilan gmna cra nya??"
        ],
        [
         "22",
         "100004505",
         "good",
         "barang sudah sampai dan bagus thanks lazada"
        ],
        [
         "23",
         "100004505",
         "good",
         "Pengiriman cepat sipplahhh......."
        ],
        [
         "24",
         "100005037",
         "good",
         "Sampe Sekarang masih Ok ne laptop..."
        ],
        [
         "29",
         "100006860",
         "good",
         "Pengiriman cepat..  Packaging good..  Barang oke. Thnks seller Thnks Lazada"
        ],
        [
         "30",
         "100007498",
         "good",
         "Barang diterima dengan selamat.. Produk sesuai dengan deskripsi.. Barang nyape 3 hari ke pekanbaru,riau.. Terimakasih lazada dan kotakom pucang, laptopnya mantap.."
        ],
        [
         "32",
         "100010722",
         "good",
         "Senang belanja disini,pelayanan oke,barang sesuai ekspektasi..order senin hari selasa malam udah nyampe + di settingin sxan sama kurirnya...pokoknya top deh..thanks Lazada"
        ],
        [
         "33",
         "100010722",
         "good",
         "belum test barangnya"
        ],
        [
         "34",
         "100010722",
         "bad",
         "Sudah cape2 transfer tapi pesanan ditolak"
        ],
        [
         "42",
         "100010745",
         "good",
         "Barang Ok, kualitas bagus dengan harga yg cukup miring, kualitas gambar juga ok, pengiriman lumayan, ga nyesel pokonya beli TV ini"
        ],
        [
         "43",
         "100010745",
         "good",
         "Saya minat tapi kalau dikirim ke Gresik Jawa Timur bisa gak? Klo dr info pengiriman bebas tapi takut gk sampai.. Dan tanya apa ini sdh full HD apa blm? Terima kasih"
        ],
        [
         "45",
         "100010745",
         "good",
         "Pengn tivinya"
        ],
        [
         "47",
         "100010745",
         "good",
         "Mantapppp barang nya"
        ],
        [
         "48",
         "100010745",
         "bad",
         "Barang mulusss mantapppppp"
        ],
        [
         "50",
         "100015720",
         "bad",
         "Laptop ini memiliki spesifikasi yang bagus dan harga yang terjangkau, namun pada tab spesifikasi utama produk itu emang intel core i5 atau salah buat? Di judul dikatakan core i7"
        ],
        [
         "51",
         "100015720",
         "good",
         "Barang sampai dengan aman. Kemampuan laptop sesuai dengan yang di iklankan. Hanya saja, laptop datang dengan DOS sehingga harus di install sendiri windows nya. Overall, it's worth the money."
        ],
        [
         "52",
         "100015720",
         "good",
         "Barang sampai 2 hari dengan selamat dan sesuai deskripsi"
        ],
        [
         "53",
         "100015720",
         "good",
         "Harga sangat murah mantep banget"
        ],
        [
         "54",
         "100015720",
         "bad",
         "Murah banget itu enga salah kasih harga tau2 nati salah kasi info barang nya"
        ],
        [
         "55",
         "100015720",
         "bad",
         "Barang udah sampai tapi pas dinyalain g bisa. Gmn pertanggung jawaban lazada?"
        ],
        [
         "58",
         "100024235",
         "good",
         "Klo dp1jt tanpa kartu kredit bisa gk? Brp bln pembayarannya dan sebulannya brp? -TerimaKsh"
        ],
        [
         "59",
         "100024235",
         "bad",
         "untuk pemasangan di tembok apa ad pihak dari lazada yg memasang'a ? terima kasih"
        ],
        [
         "61",
         "100027329",
         "good",
         "Kapasitas HDD asli 1 TB, dan tanpa ada lecet di saat saya pertama kali membuka bungkus bubble nya"
        ],
        [
         "62",
         "100027329",
         "good",
         "barang sesuai dengan gambar"
        ],
        [
         "63",
         "100027329",
         "good",
         "HD diterima dg packing bubble bagus, hanya tidak tertulis, barang elektronik, atw keterangan lain, agar penanganan lebih hati2 dan istimewa, ketika paket dalam perjalanan. Finally, 4bintang lhah..."
        ],
        [
         "64",
         "100027616",
         "good",
         "Mantap gan Barang sampai dengan selamat , Packing rapih , pokok Mantap lah !"
        ],
        [
         "67",
         "100027616",
         "good",
         "Oke"
        ],
        [
         "68",
         "100028438",
         "good",
         "Saya sangat puas dengan barang.nya, kualitas barang sangat membantu HDD saya apabila jatuh dari atas, dan pengiriman rapi gk ada lecet kasih bintang 5 :) Dan Saya sangat tidak puas dengan peng"
        ],
        [
         "69",
         "100028438",
         "good",
         "Barang diterima dengan kondisi yang baik tapi packagingnya kurang"
        ],
        [
         "70",
         "100028438",
         "good",
         "Suka banget sama barangnya packing nya rapi, pokoknya recomended banget buat kalian yg mau beli tas hardisk dengan kulitas bagus yah di sini"
        ],
        [
         "74",
         "100030605",
         "good",
         "Flashdisk ori, Packing bagus. Saya suka.Thx"
        ],
        [
         "75",
         "100034104",
         "good",
         "aman cepat pula"
        ],
        [
         "77",
         "100034104",
         "good",
         "Bagus ori kok cuma hanya aja 58 gb:( klo 63 gpp hilang 1 gb"
        ],
        [
         "78",
         "100034104",
         "bad",
         "kapasitasy kurang bagusss aturany klw kosong g bnyakkk firusss tpi nieh bnyakkk firusss sangat kecewe"
        ],
        [
         "79",
         "100034104",
         "good",
         "Baguss bangett kurir nya jga ramah, cakep pula wkwk. Ini 64gb tp cmn 58 sekian gb tp gpp lah yah... Pokok nya recomended deh...."
        ],
        [
         "80",
         "100034104",
         "good",
         "produk dah sampai kemasan rapih pengiriman cepat barang  bagus pembayaran cod tidak perlu diragukan lagi 👍👍"
        ]
       ],
       "shape": {
        "columns": 3,
        "rows": 41549
       }
      },
      "text/html": [
       "<div>\n",
       "<style scoped>\n",
       "    .dataframe tbody tr th:only-of-type {\n",
       "        vertical-align: middle;\n",
       "    }\n",
       "\n",
       "    .dataframe tbody tr th {\n",
       "        vertical-align: top;\n",
       "    }\n",
       "\n",
       "    .dataframe thead th {\n",
       "        text-align: right;\n",
       "    }\n",
       "</style>\n",
       "<table border=\"1\" class=\"dataframe\">\n",
       "  <thead>\n",
       "    <tr style=\"text-align: right;\">\n",
       "      <th></th>\n",
       "      <th>itemId</th>\n",
       "      <th>rating</th>\n",
       "      <th>reviewContent</th>\n",
       "    </tr>\n",
       "  </thead>\n",
       "  <tbody>\n",
       "    <tr>\n",
       "      <th>0</th>\n",
       "      <td>100002528</td>\n",
       "      <td>good</td>\n",
       "      <td>bagus  mantap dah sesui pesanan</td>\n",
       "    </tr>\n",
       "    <tr>\n",
       "      <th>1</th>\n",
       "      <td>100002528</td>\n",
       "      <td>good</td>\n",
       "      <td>Bagus, sesuai foto</td>\n",
       "    </tr>\n",
       "    <tr>\n",
       "      <th>2</th>\n",
       "      <td>100002528</td>\n",
       "      <td>good</td>\n",
       "      <td>okkkkk mantaaaaaaapppp ... goood</td>\n",
       "    </tr>\n",
       "    <tr>\n",
       "      <th>3</th>\n",
       "      <td>100002528</td>\n",
       "      <td>good</td>\n",
       "      <td>bagus sesuai</td>\n",
       "    </tr>\n",
       "    <tr>\n",
       "      <th>7</th>\n",
       "      <td>100002528</td>\n",
       "      <td>bad</td>\n",
       "      <td>bima</td>\n",
       "    </tr>\n",
       "    <tr>\n",
       "      <th>...</th>\n",
       "      <td>...</td>\n",
       "      <td>...</td>\n",
       "      <td>...</td>\n",
       "    </tr>\n",
       "    <tr>\n",
       "      <th>82221</th>\n",
       "      <td>9973500</td>\n",
       "      <td>bad</td>\n",
       "      <td>Pengiriman lebih cepat , packing rapih  Dan ba...</td>\n",
       "    </tr>\n",
       "    <tr>\n",
       "      <th>87955</th>\n",
       "      <td>687840070</td>\n",
       "      <td>bad</td>\n",
       "      <td>I can't login to activated this netbook becaus...</td>\n",
       "    </tr>\n",
       "    <tr>\n",
       "      <th>103881</th>\n",
       "      <td>377474276</td>\n",
       "      <td>good</td>\n",
       "      <td>barang ok, pengiriman super lambat dn trpaksa ...</td>\n",
       "    </tr>\n",
       "    <tr>\n",
       "      <th>195817</th>\n",
       "      <td>377474276</td>\n",
       "      <td>good</td>\n",
       "      <td>mantapp,, terima kasih lazadaaa,, tv coocaa 40...</td>\n",
       "    </tr>\n",
       "    <tr>\n",
       "      <th>199781</th>\n",
       "      <td>428602132</td>\n",
       "      <td>good</td>\n",
       "      <td>Wow Keren Abis,, LED TV Kualitas DEWA, Paking ...</td>\n",
       "    </tr>\n",
       "  </tbody>\n",
       "</table>\n",
       "<p>41549 rows × 3 columns</p>\n",
       "</div>"
      ],
      "text/plain": [
       "           itemId rating                                      reviewContent\n",
       "0       100002528   good                    bagus  mantap dah sesui pesanan\n",
       "1       100002528   good                                 Bagus, sesuai foto\n",
       "2       100002528   good                   okkkkk mantaaaaaaapppp ... goood\n",
       "3       100002528   good                                       bagus sesuai\n",
       "7       100002528    bad                                               bima\n",
       "...           ...    ...                                                ...\n",
       "82221     9973500    bad  Pengiriman lebih cepat , packing rapih  Dan ba...\n",
       "87955   687840070    bad  I can't login to activated this netbook becaus...\n",
       "103881  377474276   good  barang ok, pengiriman super lambat dn trpaksa ...\n",
       "195817  377474276   good  mantapp,, terima kasih lazadaaa,, tv coocaa 40...\n",
       "199781  428602132   good  Wow Keren Abis,, LED TV Kualitas DEWA, Paking ...\n",
       "\n",
       "[41549 rows x 3 columns]"
      ]
     },
     "execution_count": 77,
     "metadata": {},
     "output_type": "execute_result"
    }
   ],
   "source": [
    "used_data_coded = used_data\n",
    "\n",
    "used_data.loc[used_data[\"rating\"] >= 4     , \"rating\"] = \"good\"\n",
    "used_data.loc[used_data[\"rating\"] != 'good', \"rating\"] = \"bad\"\n",
    "\n",
    "used_data_coded"
   ]
  },
  {
   "cell_type": "markdown",
   "id": "0b36a53f",
   "metadata": {},
   "source": [
    "## Undersample more prominent labels"
   ]
  },
  {
   "cell_type": "code",
   "execution_count": 78,
   "id": "3f584c47",
   "metadata": {},
   "outputs": [
    {
     "data": {
      "application/vnd.microsoft.datawrangler.viewer.v0+json": {
       "columns": [
        {
         "name": "index",
         "rawType": "int64",
         "type": "integer"
        },
        {
         "name": "index",
         "rawType": "int64",
         "type": "integer"
        },
        {
         "name": "itemId",
         "rawType": "int64",
         "type": "integer"
        },
        {
         "name": "rating",
         "rawType": "object",
         "type": "string"
        },
        {
         "name": "reviewContent",
         "rawType": "object",
         "type": "string"
        }
       ],
       "conversionMethod": "pd.DataFrame",
       "ref": "027a2239-4516-45f4-af16-173313ae30a6",
       "rows": [
        [
         "0",
         "15051",
         "160020846",
         "good",
         "barang sudah sampai paking y rapi mksih lazada"
        ],
        [
         "1",
         "31469",
         "278127",
         "good",
         "barang sesuai pesanan"
        ],
        [
         "2",
         "11005",
         "140953986",
         "good",
         "Barang sudah diterima tepat waktu. Kualitas bagus. Mantap!!"
        ],
        [
         "3",
         "48373",
         "389216525",
         "good",
         "Pembelian kedua...tidak secepat pembelian pertama tp anyway mmg gak butuh cepat jd ok ok aja. Voucher HOOQ pembelian pertama didapat sebelum barangnya tiba, sdgkan pembelian kedua ini sampai ulasan ini voucher HOOQ masih belum diterima, semoga Lazada tidak lupa akan janjinya. Karena ini pembelian kedua pastinya puas terhadap TV xioaminya pd pembelian pertama. Thx."
        ],
        [
         "4",
         "68812",
         "498408088",
         "good",
         "bagus bagat barang ya gan 😁 😀"
        ],
        [
         "5",
         "81952",
         "9092536",
         "good",
         "Hahahahahaha hahahahah hahahaha hahahaha hahaaha"
        ],
        [
         "6",
         "5253",
         "110304821",
         "good",
         "barangnya original, bekerja dgn baik... speed write&read cepat. mntaplah pokoknya \"Karena jual beli yang baik adalah jual beli yang saling menguntungkan antara si penjual dan pembeli dan tidak ada satu pihak pun yang dirugikan\" LEX nya pun antar brg jga cepat terima kasih☝️👍👍👍"
        ],
        [
         "7",
         "2976",
         "104262914",
         "good",
         "BARANG SESUAI PESANAN"
        ],
        [
         "8",
         "18390",
         "160030643",
         "good",
         "awet & berguna"
        ],
        [
         "9",
         "44265",
         "377474274",
         "good",
         "Kualitas barang baik, tidak ada cacat apapun, pengiriman juga aman menggunakan packing kayu,"
        ],
        [
         "10",
         "21087",
         "160036065",
         "good",
         "Pengiriman cepat dan barang sesuai pesanan. bravo"
        ],
        [
         "11",
         "65408",
         "480274479",
         "good",
         "barang sudah sampai...cepat sangat barang smpai dg baik packing pon baik..trims lazada n sinar agong"
        ],
        [
         "12",
         "61985",
         "433481427",
         "good",
         "barang smpnya cepat.. sesuai spek detil barang"
        ],
        [
         "13",
         "80793",
         "8733569",
         "good",
         "Maksih lazada barangnya udh ada bagusss pokinya gk nyesel"
        ],
        [
         "14",
         "61325",
         "425364540",
         "good",
         "flashdisk berfungsi dgn baik dan packingnya raoi terimakasih transcend..😊"
        ],
        [
         "15",
         "35733",
         "346370253",
         "good",
         "pengiriman nya cepat, dan aman karena dikasih buble wrap. Dan Alhamdulillah gambar tv-nya bagus. semoga tv-nya awet. makasih lazada"
        ],
        [
         "16",
         "59413",
         "420810754",
         "good",
         "diterima dgn cpt pd hari yg sama stlh konfirmasi alamat. thanks"
        ],
        [
         "17",
         "4358",
         "108427944",
         "good",
         "Fungsional Baik, Barang oke banget"
        ],
        [
         "18",
         "44492",
         "377474275",
         "good",
         "awalnya saya ragu, stelah saya pesan alhmdlilah 2 hari barang yampe, sesui pesanan, barang oke , mantap betl tmksih lazada& seler 😍😘😘👍👍a"
        ],
        [
         "19",
         "41737",
         "368162166",
         "good",
         "oke mantap sesuai harapan. thanks lazada"
        ],
        [
         "20",
         "20196",
         "160032830",
         "good",
         "barang bgus cuma sayang software office tidak disertakan"
        ],
        [
         "21",
         "19320",
         "160032784",
         "good",
         "Barang bagus ori punya.. Trimaksih lazada"
        ],
        [
         "22",
         "29508",
         "202032",
         "good",
         "barang nya oke packingnya rapih, sangat puas"
        ],
        [
         "23",
         "6612",
         "115016620",
         "good",
         "Barang sampai sebelum waktunya, packingnya bagus, barang sangat bagus sesuai di gambarnya... Cihuuyy deh pokoknya"
        ],
        [
         "24",
         "15878",
         "160020846",
         "good",
         "barangnya bagus...top kalo mslh produk mah"
        ],
        [
         "25",
         "70979",
         "533174374",
         "good",
         "barangnya bagus, kecewa sama pengirimanya. untuk penjual jgn memilih expedisi yang lama sampai diluar perkiraan"
        ],
        [
         "26",
         "65183",
         "480270305",
         "good",
         "Mantap.... Pengiriman cepat... Semoga awet"
        ],
        [
         "27",
         "26507",
         "171506831",
         "bad",
         "Barang ok,bekerja dg normal... Tp sayang isi cuma 14 Gb... Yg 2gb kmn y?"
        ],
        [
         "28",
         "18873",
         "160030643",
         "good",
         "packing rapi, cepat sampai. kemarin bayar, hari ini sampe. thanks lazada"
        ],
        [
         "29",
         "46967",
         "377474277",
         "good",
         "Mantabbbbb"
        ],
        [
         "30",
         "64936",
         "469722667",
         "good",
         "bagua"
        ],
        [
         "31",
         "44561",
         "377474275",
         "good",
         "Berfungsi dengan baik, dapat dengan harga murah"
        ],
        [
         "32",
         "59350",
         "420810754",
         "good",
         "ko ga ada kartu garansinya???"
        ],
        [
         "33",
         "61396",
         "425932",
         "good",
         "Barangnya bagus..RECOMENDED 😉👍"
        ],
        [
         "34",
         "68977",
         "499862136",
         "good",
         "paket sesuai gbr. bonus komplit. harddisk jg fungsi normal. thxs"
        ],
        [
         "35",
         "50192",
         "392480709",
         "good",
         "mantap pket cpat smpai, wlpun brang yg lum di buka smga berfungsi dgn baik. mksh lazada, slalu puas blanja di lazada"
        ],
        [
         "36",
         "37636",
         "353608604",
         "good",
         "Good"
        ],
        [
         "37",
         "7791",
         "117225",
         "good",
         "oe sipp"
        ],
        [
         "38",
         "16336",
         "160022809",
         "good",
         "Recommended seller"
        ],
        [
         "39",
         "23004",
         "160041178",
         "good",
         "diterima dengan baik 2 hari setelah pesan. berfungsi dengan baik juga, sdh dicoba di galaxy s9"
        ],
        [
         "40",
         "74841",
         "599227",
         "bad",
         "packing rapih, barang datang cepat, tapi gak ada kartu garansinya."
        ],
        [
         "41",
         "412",
         "100125311",
         "bad",
         "Ketika barang datang, masih di luar kota. 2 minggubkemudian baru cek barang. Dari awal muncul pertanyaan karena di pembungkusnya sendiri tulisannya toshiba kapasitas 8 GB, sedangkan di Flashdisk memang tertulis 64 GB. Setelah dicoba untuk kopi file, ternyata banyak yang failed. Dan yang berhasil dikopi ternyata juga tidak dapat dibuka. Sepertinya ini hanyalah produk gagal buatan OEM yang dibuat asal-asalan untuk dijual murah. Dan pihak toko terlanjur membeli dalam jumlah banyak kemudian berusaha menjual dengan segala cara."
        ],
        [
         "42",
         "73629",
         "568196114",
         "good",
         "Maaf coment nya telat tv nya blm dipasang masih di dus nunggu seseorang dl kalo masalah gambar sy yakin indovision menjamin bagus tv baru sy . Barang mulus sdh priksa pesen nya jg cpt datang nuhun lazada 🙏"
        ],
        [
         "43",
         "22254",
         "160041178",
         "good",
         "paket sdh tiba dengan selamat,packing rapi,aman,produk original,bergaransi...blm digunakan,semoga awet"
        ],
        [
         "44",
         "74953",
         "605960124",
         "good",
         "emg ga prnh bosen dech blnja di lazada selalu top"
        ],
        [
         "45",
         "17199",
         "160026131",
         "good",
         "Slmt siang, mo tanya kl mo kredit barang mesti harus pakai kartu kredit ya? Gak bisa transfer & u/ dp nya berapa. Mksh"
        ],
        [
         "46",
         "79928",
         "8568099",
         "good",
         "Barang bagus dan bisa di pakai dengan baik,  pelayanan bagus dan cepat. Terima kasih lazada sukses terus iya...."
        ],
        [
         "47",
         "35454",
         "346370247",
         "good",
         "produk ori berkualitas"
        ],
        [
         "48",
         "42247",
         "376101513",
         "bad",
         "Fleshdisk ini walaupun KW dan di jual berfungsi untuk di pakai, kenapa pada saat menyimpan data ke fleshdisk nya ,...?? saya tidak merasa puas .. saya beli 5 tidak ada yang jalan lalu saya buang jauh2"
        ],
        [
         "49",
         "73303",
         "568184660",
         "good",
         "juraaaaa tv nyaa"
        ]
       ],
       "shape": {
        "columns": 4,
        "rows": 41549
       }
      },
      "text/html": [
       "<div>\n",
       "<style scoped>\n",
       "    .dataframe tbody tr th:only-of-type {\n",
       "        vertical-align: middle;\n",
       "    }\n",
       "\n",
       "    .dataframe tbody tr th {\n",
       "        vertical-align: top;\n",
       "    }\n",
       "\n",
       "    .dataframe thead th {\n",
       "        text-align: right;\n",
       "    }\n",
       "</style>\n",
       "<table border=\"1\" class=\"dataframe\">\n",
       "  <thead>\n",
       "    <tr style=\"text-align: right;\">\n",
       "      <th></th>\n",
       "      <th>index</th>\n",
       "      <th>itemId</th>\n",
       "      <th>rating</th>\n",
       "      <th>reviewContent</th>\n",
       "    </tr>\n",
       "  </thead>\n",
       "  <tbody>\n",
       "    <tr>\n",
       "      <th>0</th>\n",
       "      <td>15051</td>\n",
       "      <td>160020846</td>\n",
       "      <td>good</td>\n",
       "      <td>barang sudah sampai paking y rapi mksih lazada</td>\n",
       "    </tr>\n",
       "    <tr>\n",
       "      <th>1</th>\n",
       "      <td>31469</td>\n",
       "      <td>278127</td>\n",
       "      <td>good</td>\n",
       "      <td>barang sesuai pesanan</td>\n",
       "    </tr>\n",
       "    <tr>\n",
       "      <th>2</th>\n",
       "      <td>11005</td>\n",
       "      <td>140953986</td>\n",
       "      <td>good</td>\n",
       "      <td>Barang sudah diterima tepat waktu. Kualitas ba...</td>\n",
       "    </tr>\n",
       "    <tr>\n",
       "      <th>3</th>\n",
       "      <td>48373</td>\n",
       "      <td>389216525</td>\n",
       "      <td>good</td>\n",
       "      <td>Pembelian kedua...tidak secepat pembelian pert...</td>\n",
       "    </tr>\n",
       "    <tr>\n",
       "      <th>4</th>\n",
       "      <td>68812</td>\n",
       "      <td>498408088</td>\n",
       "      <td>good</td>\n",
       "      <td>bagus bagat barang ya gan 😁 😀</td>\n",
       "    </tr>\n",
       "    <tr>\n",
       "      <th>...</th>\n",
       "      <td>...</td>\n",
       "      <td>...</td>\n",
       "      <td>...</td>\n",
       "      <td>...</td>\n",
       "    </tr>\n",
       "    <tr>\n",
       "      <th>41544</th>\n",
       "      <td>38430</td>\n",
       "      <td>354115963</td>\n",
       "      <td>good</td>\n",
       "      <td>sesuai pesanan</td>\n",
       "    </tr>\n",
       "    <tr>\n",
       "      <th>41545</th>\n",
       "      <td>39962</td>\n",
       "      <td>357431547</td>\n",
       "      <td>good</td>\n",
       "      <td>bagus.</td>\n",
       "    </tr>\n",
       "    <tr>\n",
       "      <th>41546</th>\n",
       "      <td>20273</td>\n",
       "      <td>160032830</td>\n",
       "      <td>good</td>\n",
       "      <td>barang bagus hanya saja untuk microsft office ...</td>\n",
       "    </tr>\n",
       "    <tr>\n",
       "      <th>41547</th>\n",
       "      <td>74785</td>\n",
       "      <td>5975849</td>\n",
       "      <td>good</td>\n",
       "      <td>mantapz</td>\n",
       "    </tr>\n",
       "    <tr>\n",
       "      <th>41548</th>\n",
       "      <td>15021</td>\n",
       "      <td>160020846</td>\n",
       "      <td>good</td>\n",
       "      <td>tv bagus tinggal cari antena yg cocok aja. sya...</td>\n",
       "    </tr>\n",
       "  </tbody>\n",
       "</table>\n",
       "<p>41549 rows × 4 columns</p>\n",
       "</div>"
      ],
      "text/plain": [
       "       index     itemId rating  \\\n",
       "0      15051  160020846   good   \n",
       "1      31469     278127   good   \n",
       "2      11005  140953986   good   \n",
       "3      48373  389216525   good   \n",
       "4      68812  498408088   good   \n",
       "...      ...        ...    ...   \n",
       "41544  38430  354115963   good   \n",
       "41545  39962  357431547   good   \n",
       "41546  20273  160032830   good   \n",
       "41547  74785    5975849   good   \n",
       "41548  15021  160020846   good   \n",
       "\n",
       "                                           reviewContent  \n",
       "0         barang sudah sampai paking y rapi mksih lazada  \n",
       "1                                  barang sesuai pesanan  \n",
       "2      Barang sudah diterima tepat waktu. Kualitas ba...  \n",
       "3      Pembelian kedua...tidak secepat pembelian pert...  \n",
       "4                          bagus bagat barang ya gan 😁 😀  \n",
       "...                                                  ...  \n",
       "41544                                     sesuai pesanan  \n",
       "41545                                             bagus.  \n",
       "41546  barang bagus hanya saja untuk microsft office ...  \n",
       "41547                                            mantapz  \n",
       "41548  tv bagus tinggal cari antena yg cocok aja. sya...  \n",
       "\n",
       "[41549 rows x 4 columns]"
      ]
     },
     "execution_count": 78,
     "metadata": {},
     "output_type": "execute_result"
    }
   ],
   "source": [
    "used_data_coded = used_data_coded.sample(frac=1, random_state=69420)\n",
    "used_data_coded = used_data_coded.reset_index()\n",
    "\n",
    "used_data_coded"
   ]
  },
  {
   "cell_type": "code",
   "execution_count": 79,
   "id": "e72a0548",
   "metadata": {},
   "outputs": [
    {
     "name": "stdout",
     "output_type": "stream",
     "text": [
      "\n",
      "(20688, 4)\n",
      "(5172, 4)\n",
      "\n"
     ]
    },
    {
     "data": {
      "application/vnd.microsoft.datawrangler.viewer.v0+json": {
       "columns": [
        {
         "name": "index",
         "rawType": "int64",
         "type": "integer"
        },
        {
         "name": "itemId",
         "rawType": "int64",
         "type": "integer"
        },
        {
         "name": "rating",
         "rawType": "object",
         "type": "string"
        },
        {
         "name": "reviewContent",
         "rawType": "object",
         "type": "string"
        }
       ],
       "conversionMethod": "pd.DataFrame",
       "ref": "c0934f31-8269-4ae6-9c80-5b9f62379a75",
       "rows": [
        [
         "0",
         "1868405",
         "good",
         "Sippp"
        ],
        [
         "1",
         "346370253",
         "good",
         "barang ok, pengiriman gesit"
        ],
        [
         "2",
         "389216525",
         "good",
         "Ini pesanan yg kedua, setelah pesanan yg pertama datang dlm kondisi pecah dan dikembalikan ke lazada... :) TV sdh dicoba, bagus dan lancar. Sempet ngira gk ada tv analognya, tpi setelah dikutak katik akhirnya bisa jga walau agak ribet... :D"
        ],
        [
         "3",
         "170680",
         "good",
         "Maaf gan, br review...sy udh pake 1,5 thun. Dan slama ini tdk ada kendala"
        ],
        [
         "4",
         "160022809",
         "good",
         "walau sampainya lama tapi barang bagus"
        ],
        [
         "5",
         "278130",
         "good",
         "mantap, barang sesuai pesanan, kecepatan transfer data sangat cepat namun jika di pakai lama lumayan panas, semoga awet"
        ],
        [
         "6",
         "569262500",
         "good",
         "bagus"
        ],
        [
         "7",
         "366705782",
         "good",
         "pengiriman termasuk cepat...dan qualitasnya bagus. tidak mengecewakan deh"
        ],
        [
         "8",
         "8891817",
         "good",
         "barang sesuai pengiriman cepat terimakasih"
        ],
        [
         "9",
         "170612",
         "good",
         "Baguss sesuai dengan gambarr pokoknyaa sukaaaaaaaaa"
        ],
        [
         "10",
         "409293405",
         "good",
         "barang y mantab oke bngt"
        ],
        [
         "11",
         "152833131",
         "bad",
         "tidak berfungsi sama sekali"
        ],
        [
         "12",
         "544284736",
         "good",
         "mudah-2 an awet dan cepat sampai"
        ],
        [
         "13",
         "160032041",
         "good",
         "packing rapihhh barang gressssss kualitas mantap cuma bingung kabel\"an cuma 1 aja ya? selebihnya good"
        ],
        [
         "14",
         "160020846",
         "good",
         "Bagus, namun pengiriman delay hingga 2 hari, tidak sesuai dengan pilihan 1 hari sampai"
        ],
        [
         "15",
         "4873644",
         "good",
         "Mantab sudah saya terima.barangnya mulus dan sexy thx SELLER AND LAZADA"
        ],
        [
         "16",
         "117225",
         "good",
         "sesuai gambar dan kapasitas.mantul."
        ],
        [
         "17",
         "112440870",
         "good",
         "mantab 👍"
        ],
        [
         "18",
         "346370253",
         "good",
         "Produk sesuai dengan berfungsi dengan baik. Namun mekanisme pengiriman perlu di perbaiki. Better untuk barang elektronik dikirimkan menggunakan mobil/van/truck, jangan menggunakan motor."
        ],
        [
         "19",
         "9177395",
         "good",
         "Barang di terima baik, di packing bagus + dapat bonus tempat hard disk.. smoga awet"
        ],
        [
         "20",
         "104207424",
         "good",
         "Good, packing bagus dan diterima sesuai jadwal yang dijanjikan."
        ],
        [
         "21",
         "412416952",
         "good",
         "Alhamdulillah paket sampe dengan selamat"
        ],
        [
         "22",
         "392480709",
         "bad",
         "barang diterima tepat cepat sekali pesan tanggal 9 tanggal 11 sore sudah diterima, fungsi barang normal dan bagus, cuma sayang dipojok bawah kanan kiri layar agak redup sedikit cahaya layarnya..tp gak apa2 dr pada dikembalikan repot packing ulangnya..semoga awet saja"
        ],
        [
         "23",
         "571296099",
         "good",
         "Bintang yg bicara"
        ],
        [
         "24",
         "487888581",
         "good",
         "mantap tv nya bagus murah ringan pula"
        ],
        [
         "25",
         "160030643",
         "good",
         "cm 2 hr sampai brgnya .packing rapih .byr ditempat . sdh dipakai . . kali ini puas , ga kaya beli usb tos**** di bln lalu , kecewa banget ... makasih lazada ..."
        ],
        [
         "26",
         "10592557",
         "bad",
         "bagus"
        ],
        [
         "27",
         "346370253",
         "good",
         "Barang di packing dgn baik, dan waktu pengiriman 2 hari... thank u Lazasa dan Nnja Express....👍👍👍"
        ],
        [
         "28",
         "584594082",
         "good",
         "Mantap, berfungsi dengan baik dan sesuai kapasitas. Pokoknya saya sangat senang dan puas. josss. terima kasih."
        ],
        [
         "29",
         "126983389",
         "good",
         "pengiriman cepat, barang sesuai. good lah"
        ],
        [
         "30",
         "9092536",
         "good",
         "TV ini cocok buat nonton bokep bareng keluarga besar, bahkan satu kampung pun bisa, dan lebih asik... Cocok buat mabar bokep yaaa!!!"
        ],
        [
         "31",
         "11079867",
         "bad",
         "File saya corrupt semua kecepatan speed hanya 4mbps flashdisk ini palsu"
        ],
        [
         "32",
         "390739847",
         "good",
         "barang bagus"
        ],
        [
         "33",
         "105103089",
         "bad",
         "Packing Fragile"
        ],
        [
         "34",
         "278126",
         "good",
         "top....."
        ],
        [
         "35",
         "105993478",
         "bad",
         "Kereeennn, tp tidak ada remotenya"
        ],
        [
         "36",
         "5582552",
         "bad",
         "baru dipake 6bulan udah error tolong tanggung jawabnya..."
        ],
        [
         "37",
         "3827511",
         "good",
         "good produk it is work"
        ],
        [
         "38",
         "160034937",
         "good",
         "Kemarin bayar hari ini terima barangnya....seneng bgt. Berfungai sesuai deskripsi"
        ],
        [
         "39",
         "104207424",
         "good",
         "Sesuai dengan gambar"
        ],
        [
         "40",
         "392480709",
         "bad",
         "Pengiriman lama banget, beli tanggal 12des siang, nyampe tanggal 17 des sore, padahal sesama jakarta. Payahhh.. nyesel sih netflix ga bisa,(boro2 install aja ga bs) kodi ga bisa, pdhl android tv tp bnyk yg ga bs"
        ],
        [
         "41",
         "418732859",
         "bad",
         "isinya cm 3,89 GB"
        ],
        [
         "42",
         "160030643",
         "good",
         "barang sesuai gambar"
        ],
        [
         "43",
         "471648425",
         "good",
         "barangnya bagus memuaskan terimakasih"
        ],
        [
         "44",
         "112463434",
         "good",
         "Barang bagus sesuai spek"
        ],
        [
         "45",
         "100235739",
         "good",
         "puas sama.produknya, bagus n berkualitas"
        ],
        [
         "46",
         "340017744",
         "bad",
         "bonusnya tidak sesuai tolong perbaiki kinerjanya"
        ],
        [
         "47",
         "123101270",
         "good",
         "sesuai spec dan good quality"
        ],
        [
         "48",
         "420811731",
         "bad",
         "barang nya normal kurir nya juga ramah.  cuman kok ga ada buku gransi nya? tolong untuk d kirim gi buku gransi nya."
        ],
        [
         "49",
         "1063115",
         "bad",
         "yang datang warna biru.. gak sesuai gambar.. karet dalem nya beda sama gambarnya.. kegedean lagi .. hadeh ..."
        ]
       ],
       "shape": {
        "columns": 3,
        "rows": 25860
       }
      },
      "text/html": [
       "<div>\n",
       "<style scoped>\n",
       "    .dataframe tbody tr th:only-of-type {\n",
       "        vertical-align: middle;\n",
       "    }\n",
       "\n",
       "    .dataframe tbody tr th {\n",
       "        vertical-align: top;\n",
       "    }\n",
       "\n",
       "    .dataframe thead th {\n",
       "        text-align: right;\n",
       "    }\n",
       "</style>\n",
       "<table border=\"1\" class=\"dataframe\">\n",
       "  <thead>\n",
       "    <tr style=\"text-align: right;\">\n",
       "      <th></th>\n",
       "      <th>itemId</th>\n",
       "      <th>rating</th>\n",
       "      <th>reviewContent</th>\n",
       "    </tr>\n",
       "  </thead>\n",
       "  <tbody>\n",
       "    <tr>\n",
       "      <th>0</th>\n",
       "      <td>1868405</td>\n",
       "      <td>good</td>\n",
       "      <td>Sippp</td>\n",
       "    </tr>\n",
       "    <tr>\n",
       "      <th>1</th>\n",
       "      <td>346370253</td>\n",
       "      <td>good</td>\n",
       "      <td>barang ok, pengiriman gesit</td>\n",
       "    </tr>\n",
       "    <tr>\n",
       "      <th>2</th>\n",
       "      <td>389216525</td>\n",
       "      <td>good</td>\n",
       "      <td>Ini pesanan yg kedua, setelah pesanan yg perta...</td>\n",
       "    </tr>\n",
       "    <tr>\n",
       "      <th>3</th>\n",
       "      <td>170680</td>\n",
       "      <td>good</td>\n",
       "      <td>Maaf gan, br review...sy udh pake 1,5 thun. Da...</td>\n",
       "    </tr>\n",
       "    <tr>\n",
       "      <th>4</th>\n",
       "      <td>160022809</td>\n",
       "      <td>good</td>\n",
       "      <td>walau sampainya lama tapi barang bagus</td>\n",
       "    </tr>\n",
       "    <tr>\n",
       "      <th>...</th>\n",
       "      <td>...</td>\n",
       "      <td>...</td>\n",
       "      <td>...</td>\n",
       "    </tr>\n",
       "    <tr>\n",
       "      <th>25855</th>\n",
       "      <td>509820892</td>\n",
       "      <td>good</td>\n",
       "      <td>pengiriman sesuai kondisi baik, cuma agak ringan</td>\n",
       "    </tr>\n",
       "    <tr>\n",
       "      <th>25856</th>\n",
       "      <td>353608604</td>\n",
       "      <td>good</td>\n",
       "      <td>Barang oke.. packing rapi..</td>\n",
       "    </tr>\n",
       "    <tr>\n",
       "      <th>25857</th>\n",
       "      <td>7832195</td>\n",
       "      <td>bad</td>\n",
       "      <td>Baru 1 minggu udah rusak , padahal nunggu  2 m...</td>\n",
       "    </tr>\n",
       "    <tr>\n",
       "      <th>25858</th>\n",
       "      <td>143704557</td>\n",
       "      <td>good</td>\n",
       "      <td>Asli 16gb ga gan?</td>\n",
       "    </tr>\n",
       "    <tr>\n",
       "      <th>25859</th>\n",
       "      <td>205699347</td>\n",
       "      <td>good</td>\n",
       "      <td>produk standart, pengiriman standart.produk st...</td>\n",
       "    </tr>\n",
       "  </tbody>\n",
       "</table>\n",
       "<p>25860 rows × 3 columns</p>\n",
       "</div>"
      ],
      "text/plain": [
       "          itemId rating                                      reviewContent\n",
       "0        1868405   good                                              Sippp\n",
       "1      346370253   good                        barang ok, pengiriman gesit\n",
       "2      389216525   good  Ini pesanan yg kedua, setelah pesanan yg perta...\n",
       "3         170680   good  Maaf gan, br review...sy udh pake 1,5 thun. Da...\n",
       "4      160022809   good             walau sampainya lama tapi barang bagus\n",
       "...          ...    ...                                                ...\n",
       "25855  509820892   good   pengiriman sesuai kondisi baik, cuma agak ringan\n",
       "25856  353608604   good                        Barang oke.. packing rapi..\n",
       "25857    7832195    bad  Baru 1 minggu udah rusak , padahal nunggu  2 m...\n",
       "25858  143704557   good                                  Asli 16gb ga gan?\n",
       "25859  205699347   good  produk standart, pengiriman standart.produk st...\n",
       "\n",
       "[25860 rows x 3 columns]"
      ]
     },
     "execution_count": 79,
     "metadata": {},
     "output_type": "execute_result"
    }
   ],
   "source": [
    "good_UDC = used_data_coded[used_data_coded[\"rating\"] == \"good\"]\n",
    "bad_UCD  = used_data_coded[used_data_coded[\"rating\"] == \"bad\"]\n",
    "\n",
    "good_UDC_under = good_UDC[:bad_UCD.shape[0] * 4]\n",
    "\n",
    "new_data = pandas.concat([good_UDC_under, bad_UCD]).sample(frac=1, random_state=69420)\n",
    "new_data = new_data.reset_index().drop([\"level_0\", \"index\"], axis=1)\n",
    "\n",
    "print(f\"\"\"\n",
    "{good_UDC_under.shape}\n",
    "{bad_UCD       .shape}\n",
    "\"\"\")\n",
    "\n",
    "new_data"
   ]
  },
  {
   "cell_type": "markdown",
   "id": "c83011ac",
   "metadata": {},
   "source": [
    "## Do thingy-that-i-forgot-the-name on the text"
   ]
  },
  {
   "cell_type": "code",
   "execution_count": 80,
   "id": "772d23ea",
   "metadata": {},
   "outputs": [],
   "source": [
    "review = new_data[\"reviewContent\"].apply(lambda x: indo_processor.process(x))"
   ]
  },
  {
   "cell_type": "code",
   "execution_count": 92,
   "id": "0aac207d",
   "metadata": {},
   "outputs": [
    {
     "data": {
      "text/plain": [
       "<Compressed Sparse Row sparse matrix of dtype 'float64'\n",
       "\twith 322181 stored elements and shape (25860, 5000)>"
      ]
     },
     "execution_count": 92,
     "metadata": {},
     "output_type": "execute_result"
    }
   ],
   "source": [
    "vectorizer = TfidfVectorizer(ngram_range=(1, 2), max_features=5000)\n",
    "X = vectorizer.fit_transform(review)\n",
    "Y = new_data[\"rating\"]\n",
    "\n",
    "# convert to int cause the lib want it to be int\n",
    "Y = Y == \"good\"\n",
    "X"
   ]
  },
  {
   "cell_type": "markdown",
   "id": "b5a09980",
   "metadata": {},
   "source": [
    "# Model training"
   ]
  },
  {
   "cell_type": "code",
   "execution_count": 82,
   "id": "d3f17496",
   "metadata": {},
   "outputs": [
    {
     "data": {
      "text/plain": [
       "0         True\n",
       "1         True\n",
       "2         True\n",
       "3         True\n",
       "4         True\n",
       "         ...  \n",
       "25855     True\n",
       "25856     True\n",
       "25857    False\n",
       "25858     True\n",
       "25859     True\n",
       "Name: rating, Length: 25860, dtype: bool"
      ]
     },
     "execution_count": 82,
     "metadata": {},
     "output_type": "execute_result"
    }
   ],
   "source": [
    "X_train, X_test, y_train, y_test = train_test_split(X, Y, test_size=0.2, random_state=69420)\n",
    "Y"
   ]
  },
  {
   "cell_type": "code",
   "execution_count": null,
   "id": "c332eaae",
   "metadata": {},
   "outputs": [
    {
     "name": "stderr",
     "output_type": "stream",
     "text": [
      "C:\\Users\\Atasha\\AppData\\Local\\Temp\\ipykernel_7816\\3018362668.py:2: FutureWarning: Series.__getitem__ treating keys as positions is deprecated. In a future version, integer keys will always be treated as labels (consistent with DataFrame behavior). To access a value by position, use `ser.iloc[pos]`\n",
      "  scale_pos_weight = class_counts[0] / class_counts[1]\n"
     ]
    }
   ],
   "source": [
    "class_counts     = y_train.value_counts()\n",
    "scale_pos_weight = class_counts[0] / class_counts[1] \n",
    "\n",
    "model = XGBClassifier(\n",
    "    use_label_encoder=False, \n",
    "    eval_metric      ='mlogloss',\n",
    "    scale_pos_weight =scale_pos_weight  # Apply class weighting\n",
    ")\n",
    "# model.fit(X_train, y_train)"
   ]
  },
  {
   "cell_type": "markdown",
   "id": "b016747e",
   "metadata": {},
   "source": [
    "## Hyperparameter tuning"
   ]
  },
  {
   "cell_type": "code",
   "execution_count": 84,
   "id": "d9dac5f1",
   "metadata": {},
   "outputs": [
    {
     "name": "stdout",
     "output_type": "stream",
     "text": [
      "Fitting 5 folds for each of 50 candidates, totalling 250 fits\n"
     ]
    },
    {
     "name": "stderr",
     "output_type": "stream",
     "text": [
      "c:\\Users\\Atasha\\AppData\\Local\\Programs\\Python\\Python313\\Lib\\site-packages\\xgboost\\training.py:183: UserWarning: [11:47:41] WARNING: C:\\actions-runner\\_work\\xgboost\\xgboost\\src\\learner.cc:738: \n",
      "Parameters: { \"use_label_encoder\" } are not used.\n",
      "\n",
      "  bst.update(dtrain, iteration=i, fobj=obj)\n"
     ]
    },
    {
     "name": "stdout",
     "output_type": "stream",
     "text": [
      "Best hyperparameters: {'subsample': 1.0, 'scale_pos_weight': 1.0, 'n_estimators': 250, 'min_child_weight': 1, 'max_depth': 9, 'learning_rate': 0.15, 'gamma': 0.3, 'colsample_bytree': 0.8}\n"
     ]
    }
   ],
   "source": [
    "param_dist = {\n",
    "    'learning_rate': [0.05, 0.1, 0.15, 0.2, 0.3],\n",
    "    'n_estimators': [100, 150, 200, 250, 300],\n",
    "    'max_depth': [3, 4, 5, 6, 7, 8, 9],\n",
    "    'min_child_weight': [1, 2, 3, 5, 7],\n",
    "    'gamma': [0, 0.1, 0.2, 0.3, 0.4],\n",
    "    'colsample_bytree': [0.6, 0.7, 0.8, 0.9, 1.0],\n",
    "    'subsample': [0.7, 0.8, 0.9, 1.0],\n",
    "    'scale_pos_weight': [1.0, 1.1, 1.2]  # Fine-tune class weighting\n",
    "}\n",
    "\n",
    "# RandomizedSearchCV with 5-fold cross-validation\n",
    "random_search = RandomizedSearchCV(\n",
    "    estimator=model, \n",
    "    param_distributions=param_dist, \n",
    "    n_iter=50,  # Number of random combinations to try\n",
    "    cv=5, \n",
    "    verbose=1, \n",
    "    n_jobs=-1, \n",
    "    random_state=69420\n",
    ")\n",
    "\n",
    "random_search.fit(X_train, y_train)\n",
    "\n",
    "# Best hyperparameters found\n",
    "print(\"Best hyperparameters:\", random_search.best_params_)"
   ]
  },
  {
   "cell_type": "markdown",
   "id": "7b80aeb1",
   "metadata": {},
   "source": [
    "## Save the model"
   ]
  },
  {
   "cell_type": "code",
   "execution_count": null,
   "id": "fe5c4ee4",
   "metadata": {},
   "outputs": [
    {
     "name": "stdout",
     "output_type": "stream",
     "text": [
      "Accuracy: 0.8859242072699149\n",
      "\n",
      "Classification Report:\n",
      "               precision    recall  f1-score   support\n",
      "\n",
      "       False       0.77      0.59      0.67      1000\n",
      "        True       0.91      0.96      0.93      4172\n",
      "\n",
      "    accuracy                           0.89      5172\n",
      "   macro avg       0.84      0.77      0.80      5172\n",
      "weighted avg       0.88      0.89      0.88      5172\n",
      "\n"
     ]
    }
   ],
   "source": [
    "best_model = random_search.best_estimator_\n",
    "y_pred     = best_model.predict(X_test)\n",
    "\n",
    "print(\"Accuracy:\",                  accuracy_score       (y_test, y_pred))\n",
    "print(\"\\nClassification Report:\\n\", classification_report(y_test, y_pred))"
   ]
  },
  {
   "cell_type": "code",
   "execution_count": 91,
   "id": "d4c06ae5",
   "metadata": {},
   "outputs": [
    {
     "data": {
      "text/plain": [
       "['model\\\\XGB_vectorizer.pkl']"
      ]
     },
     "execution_count": 91,
     "metadata": {},
     "output_type": "execute_result"
    }
   ],
   "source": [
    "joblib.dump(best_model, r\"model\\XGB_classifier.pkl\")\n",
    "joblib.dump(vectorizer, r\"model\\XGB_vectorizer.pkl\")"
   ]
  },
  {
   "cell_type": "code",
   "execution_count": null,
   "id": "750daf24",
   "metadata": {},
   "outputs": [],
   "source": []
  }
 ],
 "metadata": {
  "kernelspec": {
   "display_name": "Python 3",
   "language": "python",
   "name": "python3"
  },
  "language_info": {
   "codemirror_mode": {
    "name": "ipython",
    "version": 3
   },
   "file_extension": ".py",
   "mimetype": "text/x-python",
   "name": "python",
   "nbconvert_exporter": "python",
   "pygments_lexer": "ipython3",
   "version": "3.13.3"
  }
 },
 "nbformat": 4,
 "nbformat_minor": 5
}
